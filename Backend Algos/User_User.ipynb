{
  "cells": [
    {
      "cell_type": "code",
      "execution_count": null,
      "metadata": {
        "colab": {
          "base_uri": "https://localhost:8080/"
        },
        "id": "XAAeANv_2az6",
        "outputId": "cb54dff9-ef33-4ce7-f195-b16ce8bc580a"
      },
      "outputs": [
        {
          "name": "stdout",
          "output_type": "stream",
          "text": [
            "Mounted at /content/drive\n"
          ]
        }
      ],
      "source": [
        "from google.colab import drive\n",
        "drive.mount('/content/drive')"
      ]
    },
    {
      "cell_type": "code",
      "execution_count": 1,
      "metadata": {
        "id": "DYKIdKda1eXT"
      },
      "outputs": [],
      "source": [
        "%matplotlib inline\n",
        "import matplotlib.pyplot as plt\n",
        "import seaborn as sns\n",
        "import pandas as pd\n",
        "import numpy as np\n",
        "from scipy import stats\n",
        "from ast import literal_eval\n",
        "from sklearn.feature_extraction.text import TfidfVectorizer, CountVectorizer\n",
        "from sklearn.metrics.pairwise import linear_kernel, cosine_similarity"
      ]
    },
    {
      "cell_type": "code",
      "execution_count": 7,
      "metadata": {},
      "outputs": [],
      "source": [
        "apps = pd.read_csv('apps.csv')\n",
        "jobs = pd.read_csv('jobs.csv')\n",
        "users = pd.read_csv('users.csv')"
      ]
    },
    {
      "cell_type": "code",
      "execution_count": 9,
      "metadata": {
        "colab": {
          "base_uri": "https://localhost:8080/",
          "height": 313
        },
        "id": "inap2mSD8SdD",
        "outputId": "773b91b1-3e7b-4344-8a2d-c48d71e9f25d"
      },
      "outputs": [
        {
          "name": "stdout",
          "output_type": "stream",
          "text": [
            "<class 'pandas.core.frame.DataFrame'>\n",
            "RangeIndex: 25511 entries, 0 to 25510\n",
            "Data columns (total 15 columns):\n",
            " #   Column                Non-Null Count  Dtype  \n",
            "---  ------                --------------  -----  \n",
            " 0   UserID                25511 non-null  int64  \n",
            " 1   WindowID              25511 non-null  int64  \n",
            " 2   Split                 25511 non-null  object \n",
            " 3   City                  25511 non-null  object \n",
            " 4   State                 25511 non-null  object \n",
            " 5   Country               25511 non-null  object \n",
            " 6   ZipCode               25475 non-null  object \n",
            " 7   DegreeType            22133 non-null  object \n",
            " 8   Major                 25511 non-null  object \n",
            " 9   GraduationDate        19865 non-null  object \n",
            " 10  WorkHistoryCount      25511 non-null  int64  \n",
            " 11  TotalYearsExperience  25511 non-null  float64\n",
            " 12  CurrentlyEmployed     25511 non-null  object \n",
            " 13  ManagedOthers         25511 non-null  object \n",
            " 14  ManagedHowMany        25511 non-null  int64  \n",
            "dtypes: float64(1), int64(4), object(10)\n",
            "memory usage: 2.9+ MB\n"
          ]
        }
      ],
      "source": [
        "users.info()"
      ]
    },
    {
      "cell_type": "code",
      "execution_count": 10,
      "metadata": {
        "colab": {
          "base_uri": "https://localhost:8080/"
        },
        "id": "PsnExlwL_DAh",
        "outputId": "079703f6-9966-48fc-9df3-97cdffe67bbd"
      },
      "outputs": [],
      "source": [
        "users['DegreeType'] = users['DegreeType'].fillna('')\n",
        "users['Major'] = users['Major'].fillna('')\n",
        "users['TotalYearsExperience'] = users['TotalYearsExperience'].fillna('').astype(str)\n",
        "\n",
        "users['DegreeType'] = users['DegreeType'] + ' ' + users['Major'] + ' ' + users['TotalYearsExperience']\n"
      ]
    },
    {
      "cell_type": "code",
      "execution_count": 11,
      "metadata": {
        "colab": {
          "base_uri": "https://localhost:8080/"
        },
        "id": "xDrhQwRP_KKz",
        "outputId": "478585ab-95f9-46f4-f537-143824a89289"
      },
      "outputs": [
        {
          "data": {
            "text/html": [
              "<div>\n",
              "<style scoped>\n",
              "    .dataframe tbody tr th:only-of-type {\n",
              "        vertical-align: middle;\n",
              "    }\n",
              "\n",
              "    .dataframe tbody tr th {\n",
              "        vertical-align: top;\n",
              "    }\n",
              "\n",
              "    .dataframe thead th {\n",
              "        text-align: right;\n",
              "    }\n",
              "</style>\n",
              "<table border=\"1\" class=\"dataframe\">\n",
              "  <thead>\n",
              "    <tr style=\"text-align: right;\">\n",
              "      <th></th>\n",
              "      <th>UserID</th>\n",
              "      <th>WindowID</th>\n",
              "      <th>Split</th>\n",
              "      <th>City</th>\n",
              "      <th>State</th>\n",
              "      <th>Country</th>\n",
              "      <th>ZipCode</th>\n",
              "      <th>DegreeType</th>\n",
              "      <th>Major</th>\n",
              "      <th>GraduationDate</th>\n",
              "      <th>WorkHistoryCount</th>\n",
              "      <th>TotalYearsExperience</th>\n",
              "      <th>CurrentlyEmployed</th>\n",
              "      <th>ManagedOthers</th>\n",
              "      <th>ManagedHowMany</th>\n",
              "    </tr>\n",
              "  </thead>\n",
              "  <tbody>\n",
              "    <tr>\n",
              "      <th>0</th>\n",
              "      <td>13</td>\n",
              "      <td>6</td>\n",
              "      <td>Test</td>\n",
              "      <td>Philadelphia</td>\n",
              "      <td>PA</td>\n",
              "      <td>US</td>\n",
              "      <td>19143</td>\n",
              "      <td>Bachelor's Psychological &amp; Social Sciences 5.0</td>\n",
              "      <td>Psychological &amp; Social Sciences</td>\n",
              "      <td>2011-12-01 00:00:00</td>\n",
              "      <td>6</td>\n",
              "      <td>5.0</td>\n",
              "      <td>Yes</td>\n",
              "      <td>No</td>\n",
              "      <td>0</td>\n",
              "    </tr>\n",
              "    <tr>\n",
              "      <th>1</th>\n",
              "      <td>64</td>\n",
              "      <td>6</td>\n",
              "      <td>Train</td>\n",
              "      <td>Columbus</td>\n",
              "      <td>OH</td>\n",
              "      <td>US</td>\n",
              "      <td>43230</td>\n",
              "      <td>Master's Business Administration and Managemen...</td>\n",
              "      <td>Business Administration and Management, General</td>\n",
              "      <td>2011-12-01 00:00:00</td>\n",
              "      <td>3</td>\n",
              "      <td>22.0</td>\n",
              "      <td>Yes</td>\n",
              "      <td>No</td>\n",
              "      <td>0</td>\n",
              "    </tr>\n",
              "    <tr>\n",
              "      <th>2</th>\n",
              "      <td>101</td>\n",
              "      <td>6</td>\n",
              "      <td>Train</td>\n",
              "      <td>Brick</td>\n",
              "      <td>NJ</td>\n",
              "      <td>US</td>\n",
              "      <td>08724</td>\n",
              "      <td>High School Not Applicable 2.0</td>\n",
              "      <td>Not Applicable</td>\n",
              "      <td>NaN</td>\n",
              "      <td>1</td>\n",
              "      <td>2.0</td>\n",
              "      <td>No</td>\n",
              "      <td>Yes</td>\n",
              "      <td>4</td>\n",
              "    </tr>\n",
              "    <tr>\n",
              "      <th>3</th>\n",
              "      <td>133</td>\n",
              "      <td>6</td>\n",
              "      <td>Train</td>\n",
              "      <td>Wilmington</td>\n",
              "      <td>DE</td>\n",
              "      <td>US</td>\n",
              "      <td>19802</td>\n",
              "      <td>Bachelor's Sports Management 9.0</td>\n",
              "      <td>Sports Management</td>\n",
              "      <td>2003-05-01 00:00:00</td>\n",
              "      <td>6</td>\n",
              "      <td>9.0</td>\n",
              "      <td>Yes</td>\n",
              "      <td>Yes</td>\n",
              "      <td>6</td>\n",
              "    </tr>\n",
              "    <tr>\n",
              "      <th>4</th>\n",
              "      <td>151</td>\n",
              "      <td>6</td>\n",
              "      <td>Train</td>\n",
              "      <td>Norwich</td>\n",
              "      <td>CT</td>\n",
              "      <td>US</td>\n",
              "      <td>06360</td>\n",
              "      <td>Business 24.0</td>\n",
              "      <td>Business</td>\n",
              "      <td>1987-01-01 00:00:00</td>\n",
              "      <td>4</td>\n",
              "      <td>24.0</td>\n",
              "      <td>No</td>\n",
              "      <td>Yes</td>\n",
              "      <td>10</td>\n",
              "    </tr>\n",
              "  </tbody>\n",
              "</table>\n",
              "</div>"
            ],
            "text/plain": [
              "   UserID  WindowID  Split          City State Country ZipCode  \\\n",
              "0      13         6   Test  Philadelphia    PA      US   19143   \n",
              "1      64         6  Train      Columbus    OH      US   43230   \n",
              "2     101         6  Train         Brick    NJ      US   08724   \n",
              "3     133         6  Train    Wilmington    DE      US   19802   \n",
              "4     151         6  Train       Norwich    CT      US   06360   \n",
              "\n",
              "                                          DegreeType  \\\n",
              "0     Bachelor's Psychological & Social Sciences 5.0   \n",
              "1  Master's Business Administration and Managemen...   \n",
              "2                     High School Not Applicable 2.0   \n",
              "3                   Bachelor's Sports Management 9.0   \n",
              "4                                      Business 24.0   \n",
              "\n",
              "                                             Major       GraduationDate  \\\n",
              "0                  Psychological & Social Sciences  2011-12-01 00:00:00   \n",
              "1  Business Administration and Management, General  2011-12-01 00:00:00   \n",
              "2                                   Not Applicable                  NaN   \n",
              "3                                Sports Management  2003-05-01 00:00:00   \n",
              "4                                         Business  1987-01-01 00:00:00   \n",
              "\n",
              "   WorkHistoryCount TotalYearsExperience CurrentlyEmployed ManagedOthers  \\\n",
              "0                 6                  5.0               Yes            No   \n",
              "1                 3                 22.0               Yes            No   \n",
              "2                 1                  2.0                No           Yes   \n",
              "3                 6                  9.0               Yes           Yes   \n",
              "4                 4                 24.0                No           Yes   \n",
              "\n",
              "   ManagedHowMany  \n",
              "0               0  \n",
              "1               0  \n",
              "2               4  \n",
              "3               6  \n",
              "4              10  "
            ]
          },
          "execution_count": 11,
          "metadata": {},
          "output_type": "execute_result"
        }
      ],
      "source": [
        "users.head()"
      ]
    },
    {
      "cell_type": "code",
      "execution_count": 12,
      "metadata": {
        "id": "mCWnsVTbAibY"
      },
      "outputs": [],
      "source": [
        "tf = TfidfVectorizer(analyzer='word',ngram_range=(1, 2),min_df=0.0, stop_words='english')\n",
        "tfidf_matrix = tf.fit_transform(users['DegreeType'])"
      ]
    },
    {
      "cell_type": "code",
      "execution_count": 13,
      "metadata": {
        "colab": {
          "base_uri": "https://localhost:8080/"
        },
        "id": "0o-2jp4DAlVQ",
        "outputId": "d34496bc-edf4-4a88-ffcb-1db480165504"
      },
      "outputs": [
        {
          "data": {
            "text/plain": [
              "(25511, 13013)"
            ]
          },
          "execution_count": 13,
          "metadata": {},
          "output_type": "execute_result"
        }
      ],
      "source": [
        "tfidf_matrix.shape"
      ]
    },
    {
      "cell_type": "code",
      "execution_count": 14,
      "metadata": {
        "id": "7oOqORt8AuVf"
      },
      "outputs": [],
      "source": [
        "cosine_sim = linear_kernel(tfidf_matrix, tfidf_matrix)"
      ]
    },
    {
      "cell_type": "code",
      "execution_count": 15,
      "metadata": {
        "colab": {
          "base_uri": "https://localhost:8080/"
        },
        "id": "YfWv6nLmAuZs",
        "outputId": "0f17bc2d-467a-4c60-bfe8-1d05a4899825"
      },
      "outputs": [
        {
          "data": {
            "text/plain": [
              "(25511, 25511)"
            ]
          },
          "execution_count": 15,
          "metadata": {},
          "output_type": "execute_result"
        }
      ],
      "source": [
        "cosine_sim.shape"
      ]
    },
    {
      "cell_type": "code",
      "execution_count": 24,
      "metadata": {},
      "outputs": [
        {
          "data": {
            "text/plain": [
              "array([[1., 0., 0., ..., 0., 0., 0.],\n",
              "       [0., 1., 0., ..., 0., 0., 0.],\n",
              "       [0., 0., 1., ..., 1., 1., 0.],\n",
              "       ...,\n",
              "       [0., 0., 1., ..., 1., 1., 0.],\n",
              "       [0., 0., 1., ..., 1., 1., 0.],\n",
              "       [0., 0., 0., ..., 0., 0., 1.]])"
            ]
          },
          "execution_count": 24,
          "metadata": {},
          "output_type": "execute_result"
        }
      ],
      "source": [
        "cosine_sim"
      ]
    },
    {
      "cell_type": "code",
      "execution_count": 16,
      "metadata": {
        "id": "auAffUSvAubP"
      },
      "outputs": [],
      "source": [
        "user_based_approach = users.reset_index()\n",
        "userid = user_based_approach['UserID']\n",
        "indices = pd.Series(user_based_approach.index, index=user_based_approach['UserID'])"
      ]
    },
    {
      "cell_type": "code",
      "execution_count": 17,
      "metadata": {
        "id": "1e_lOUbTBrmj"
      },
      "outputs": [],
      "source": [
        "def get_recommendations_userwise(userid):\n",
        "    idx = indices[userid]\n",
        "    sim_scores = list(enumerate(cosine_sim[idx]))\n",
        "    sim_scores = sorted(sim_scores, key=lambda x: x[1], reverse=True)\n",
        "    user_indices = [i[0] for i in sim_scores]\n",
        "    user_indices_top = user_indices[1:12]\n",
        "    similar_users = list(user_based_approach.loc[indices.iloc[user_indices_top]]['UserID'].values)\n",
        "    return similar_users"
      ]
    },
    {
      "cell_type": "code",
      "execution_count": 25,
      "metadata": {
        "colab": {
          "base_uri": "https://localhost:8080/"
        },
        "id": "gShFxUFrCZvA",
        "outputId": "445f38e8-d2c7-4f7a-d95c-e95d9d898e15"
      },
      "outputs": [
        {
          "name": "stdout",
          "output_type": "stream",
          "text": [
            "-----Top 10 Similar users with userId: 554------\n"
          ]
        },
        {
          "data": {
            "text/plain": [
              "[363411,\n",
              " 1296070,\n",
              " 465442,\n",
              " 1121264,\n",
              " 109317,\n",
              " 1199131,\n",
              " 56406,\n",
              " 1209293,\n",
              " 1299650,\n",
              " 1306730,\n",
              " 695542]"
            ]
          },
          "execution_count": 25,
          "metadata": {},
          "output_type": "execute_result"
        }
      ],
      "source": [
        "print (\"-----Top 10 Similar users with userId: 554------\")\n",
        "get_recommendations_userwise(13)"
      ]
    },
    {
      "cell_type": "code",
      "execution_count": 26,
      "metadata": {
        "colab": {
          "base_uri": "https://localhost:8080/"
        },
        "id": "UFxh44dgHZvH",
        "outputId": "0a39862b-8911-4cf0-ce7e-a74bb62d3104"
      },
      "outputs": [
        {
          "data": {
            "text/plain": [
              "array([     13,      64,     101, ..., 1471948, 1472019, 1472066])"
            ]
          },
          "execution_count": 26,
          "metadata": {},
          "output_type": "execute_result"
        }
      ],
      "source": [
        "apps['UserID'].unique()"
      ]
    },
    {
      "cell_type": "code",
      "execution_count": 27,
      "metadata": {
        "id": "QCe_QdXbCZzs"
      },
      "outputs": [],
      "source": [
        "def get_job_id(usrid_list):\n",
        "    jobs_userwise = apps['UserID'].isin(usrid_list) #\n",
        "    df1 = pd.DataFrame(data = apps[jobs_userwise], columns=['JobID'])\n",
        "    joblist = df1['JobID'].tolist()\n",
        "    Job_list = jobs['JobID'].isin(joblist) #[1083186, 516837, 507614, 754917, 686406, 1058896, 335132])\n",
        "    df_temp = pd.DataFrame(data = jobs[Job_list], columns=['JobID','Title','Description','City','State'])\n",
        "    return df_temp"
      ]
    },
    {
      "cell_type": "code",
      "execution_count": 29,
      "metadata": {
        "colab": {
          "base_uri": "https://localhost:8080/",
          "height": 363
        },
        "id": "vSPXjd1OCZ4I",
        "outputId": "45f1cad7-d600-41ef-8104-e88411adfcbe"
      },
      "outputs": [
        {
          "data": {
            "text/html": [
              "<div>\n",
              "<style scoped>\n",
              "    .dataframe tbody tr th:only-of-type {\n",
              "        vertical-align: middle;\n",
              "    }\n",
              "\n",
              "    .dataframe tbody tr th {\n",
              "        vertical-align: top;\n",
              "    }\n",
              "\n",
              "    .dataframe thead th {\n",
              "        text-align: right;\n",
              "    }\n",
              "</style>\n",
              "<table border=\"1\" class=\"dataframe\">\n",
              "  <thead>\n",
              "    <tr style=\"text-align: right;\">\n",
              "      <th></th>\n",
              "      <th>JobID</th>\n",
              "      <th>Title</th>\n",
              "      <th>Description</th>\n",
              "      <th>City</th>\n",
              "      <th>State</th>\n",
              "    </tr>\n",
              "  </thead>\n",
              "  <tbody>\n",
              "    <tr>\n",
              "      <th>1835</th>\n",
              "      <td>17497</td>\n",
              "      <td>Community Living Specialist - Direct Care Posi...</td>\n",
              "      <td>NaN</td>\n",
              "      <td>Wayne</td>\n",
              "      <td>NJ</td>\n",
              "    </tr>\n",
              "    <tr>\n",
              "      <th>5347</th>\n",
              "      <td>51907</td>\n",
              "      <td>Restaurant Team Member - Crew</td>\n",
              "      <td>NaN</td>\n",
              "      <td>Chevy Chase</td>\n",
              "      <td>MD</td>\n",
              "    </tr>\n",
              "    <tr>\n",
              "      <th>6007</th>\n",
              "      <td>58250</td>\n",
              "      <td>Physical Therapist - IU Health Morgan Hospital</td>\n",
              "      <td>NaN</td>\n",
              "      <td>Bethany</td>\n",
              "      <td>IN</td>\n",
              "    </tr>\n",
              "    <tr>\n",
              "      <th>6545</th>\n",
              "      <td>63095</td>\n",
              "      <td>Human Capital Principal Financial Serv Emp Ben...</td>\n",
              "      <td>NaN</td>\n",
              "      <td>Glen Allen</td>\n",
              "      <td>VA</td>\n",
              "    </tr>\n",
              "    <tr>\n",
              "      <th>11901</th>\n",
              "      <td>111105</td>\n",
              "      <td>Program Administrative Coordinator</td>\n",
              "      <td>NaN</td>\n",
              "      <td>Covina</td>\n",
              "      <td>CA</td>\n",
              "    </tr>\n",
              "    <tr>\n",
              "      <th>17311</th>\n",
              "      <td>162856</td>\n",
              "      <td>Store Manager Off-site</td>\n",
              "      <td>NaN</td>\n",
              "      <td>Rialto</td>\n",
              "      <td>CA</td>\n",
              "    </tr>\n",
              "    <tr>\n",
              "      <th>22560</th>\n",
              "      <td>216510</td>\n",
              "      <td>$$55K Receptionist - Flexible Hours</td>\n",
              "      <td>NaN</td>\n",
              "      <td>San Marcos</td>\n",
              "      <td>CA</td>\n",
              "    </tr>\n",
              "    <tr>\n",
              "      <th>23084</th>\n",
              "      <td>221335</td>\n",
              "      <td>Youth Counselor Direct Care Residential</td>\n",
              "      <td>NaN</td>\n",
              "      <td>Fitchburg</td>\n",
              "      <td>MA</td>\n",
              "    </tr>\n",
              "    <tr>\n",
              "      <th>26242</th>\n",
              "      <td>253478</td>\n",
              "      <td>Specialist, Walk (Service Areas: AL &amp; FL)</td>\n",
              "      <td>NaN</td>\n",
              "      <td>Pensacola</td>\n",
              "      <td>FL</td>\n",
              "    </tr>\n",
              "    <tr>\n",
              "      <th>26401</th>\n",
              "      <td>255080</td>\n",
              "      <td>State Farm Insurance and Financial Services Agent</td>\n",
              "      <td>NaN</td>\n",
              "      <td>Council Bluffs</td>\n",
              "      <td>IA</td>\n",
              "    </tr>\n",
              "    <tr>\n",
              "      <th>28345</th>\n",
              "      <td>273495</td>\n",
              "      <td>Medical Device Sales - Durable Medical Equipme...</td>\n",
              "      <td>NaN</td>\n",
              "      <td>Jackson</td>\n",
              "      <td>MS</td>\n",
              "    </tr>\n",
              "    <tr>\n",
              "      <th>32920</th>\n",
              "      <td>316944</td>\n",
              "      <td>Adolescent Treatment Worker</td>\n",
              "      <td>NaN</td>\n",
              "      <td>California</td>\n",
              "      <td>KY</td>\n",
              "    </tr>\n",
              "    <tr>\n",
              "      <th>34935</th>\n",
              "      <td>337068</td>\n",
              "      <td>Enrollment Representative</td>\n",
              "      <td>NaN</td>\n",
              "      <td>Overland Park</td>\n",
              "      <td>KS</td>\n",
              "    </tr>\n",
              "    <tr>\n",
              "      <th>36184</th>\n",
              "      <td>350226</td>\n",
              "      <td>Enrollment Counselor</td>\n",
              "      <td>NaN</td>\n",
              "      <td>Atlanta</td>\n",
              "      <td>GA</td>\n",
              "    </tr>\n",
              "    <tr>\n",
              "      <th>39234</th>\n",
              "      <td>376376</td>\n",
              "      <td>Truck Driver - CDL Driver Training - Truck Dri...</td>\n",
              "      <td>NaN</td>\n",
              "      <td>Madison</td>\n",
              "      <td>TN</td>\n",
              "    </tr>\n",
              "    <tr>\n",
              "      <th>39386</th>\n",
              "      <td>377540</td>\n",
              "      <td>Customer Account Specialist - Pueblo, CO</td>\n",
              "      <td>NaN</td>\n",
              "      <td>Pueblo</td>\n",
              "      <td>CO</td>\n",
              "    </tr>\n",
              "    <tr>\n",
              "      <th>39903</th>\n",
              "      <td>382053</td>\n",
              "      <td>Behavior Management Consultant</td>\n",
              "      <td>NaN</td>\n",
              "      <td>Riverside</td>\n",
              "      <td>CA</td>\n",
              "    </tr>\n",
              "    <tr>\n",
              "      <th>41008</th>\n",
              "      <td>394334</td>\n",
              "      <td>Sales / Franchise</td>\n",
              "      <td>NaN</td>\n",
              "      <td>Middletown</td>\n",
              "      <td>CT</td>\n",
              "    </tr>\n",
              "    <tr>\n",
              "      <th>45218</th>\n",
              "      <td>433260</td>\n",
              "      <td>Accounts Payable Analyst</td>\n",
              "      <td>NaN</td>\n",
              "      <td>Charlotte</td>\n",
              "      <td>NC</td>\n",
              "    </tr>\n",
              "    <tr>\n",
              "      <th>46208</th>\n",
              "      <td>441053</td>\n",
              "      <td>Registered Nurse - PRN Pool</td>\n",
              "      <td>NaN</td>\n",
              "      <td>Franklin</td>\n",
              "      <td>TN</td>\n",
              "    </tr>\n",
              "    <tr>\n",
              "      <th>47343</th>\n",
              "      <td>451658</td>\n",
              "      <td>Residential Treatment Assistant II</td>\n",
              "      <td>NaN</td>\n",
              "      <td>Philadelphia</td>\n",
              "      <td>PA</td>\n",
              "    </tr>\n",
              "    <tr>\n",
              "      <th>50694</th>\n",
              "      <td>485753</td>\n",
              "      <td>Cardiac Ultrasound Technician</td>\n",
              "      <td>NaN</td>\n",
              "      <td>Concord</td>\n",
              "      <td>NC</td>\n",
              "    </tr>\n",
              "    <tr>\n",
              "      <th>54601</th>\n",
              "      <td>524713</td>\n",
              "      <td>Coordinator</td>\n",
              "      <td>NaN</td>\n",
              "      <td>Fort Washington</td>\n",
              "      <td>PA</td>\n",
              "    </tr>\n",
              "    <tr>\n",
              "      <th>54649</th>\n",
              "      <td>525186</td>\n",
              "      <td>Behavioral Health Worker</td>\n",
              "      <td>NaN</td>\n",
              "      <td>Philadelphia</td>\n",
              "      <td>PA</td>\n",
              "    </tr>\n",
              "    <tr>\n",
              "      <th>63822</th>\n",
              "      <td>616842</td>\n",
              "      <td>Part-time Administrative Assistant / Receptionist</td>\n",
              "      <td>NaN</td>\n",
              "      <td>Poway</td>\n",
              "      <td>CA</td>\n",
              "    </tr>\n",
              "    <tr>\n",
              "      <th>66042</th>\n",
              "      <td>639016</td>\n",
              "      <td>Social Worker</td>\n",
              "      <td>NaN</td>\n",
              "      <td>Lafayette</td>\n",
              "      <td>LA</td>\n",
              "    </tr>\n",
              "    <tr>\n",
              "      <th>75616</th>\n",
              "      <td>729140</td>\n",
              "      <td>Test Automation Engineer</td>\n",
              "      <td>NaN</td>\n",
              "      <td>Raleigh</td>\n",
              "      <td>NC</td>\n",
              "    </tr>\n",
              "    <tr>\n",
              "      <th>78513</th>\n",
              "      <td>753194</td>\n",
              "      <td>Customer Service Representative</td>\n",
              "      <td>NaN</td>\n",
              "      <td>Indianapolis</td>\n",
              "      <td>IN</td>\n",
              "    </tr>\n",
              "    <tr>\n",
              "      <th>81862</th>\n",
              "      <td>786611</td>\n",
              "      <td>Senior Manufacturing Engineer</td>\n",
              "      <td>NaN</td>\n",
              "      <td>Corona</td>\n",
              "      <td>CA</td>\n",
              "    </tr>\n",
              "    <tr>\n",
              "      <th>84361</th>\n",
              "      <td>812425</td>\n",
              "      <td>JOB DEVELOPMENT SPECIALIST</td>\n",
              "      <td>NaN</td>\n",
              "      <td>Lafayette</td>\n",
              "      <td>LA</td>\n",
              "    </tr>\n",
              "    <tr>\n",
              "      <th>84758</th>\n",
              "      <td>816697</td>\n",
              "      <td>Data Entry - Competitive Salary</td>\n",
              "      <td>NaN</td>\n",
              "      <td>North Wales</td>\n",
              "      <td>PA</td>\n",
              "    </tr>\n",
              "    <tr>\n",
              "      <th>89298</th>\n",
              "      <td>862642</td>\n",
              "      <td>Auditor</td>\n",
              "      <td>NaN</td>\n",
              "      <td>Arlington</td>\n",
              "      <td>VA</td>\n",
              "    </tr>\n",
              "    <tr>\n",
              "      <th>95243</th>\n",
              "      <td>920320</td>\n",
              "      <td>Operations Managers &amp; Supervisors</td>\n",
              "      <td>NaN</td>\n",
              "      <td>Moreno Valley</td>\n",
              "      <td>CA</td>\n",
              "    </tr>\n",
              "    <tr>\n",
              "      <th>95789</th>\n",
              "      <td>925930</td>\n",
              "      <td>Call Center Supervisor</td>\n",
              "      <td>NaN</td>\n",
              "      <td>Tampa</td>\n",
              "      <td>FL</td>\n",
              "    </tr>\n",
              "    <tr>\n",
              "      <th>98282</th>\n",
              "      <td>948898</td>\n",
              "      <td>RN Home Health - Full time Cincinnati area</td>\n",
              "      <td>NaN</td>\n",
              "      <td>Cincinnati</td>\n",
              "      <td>OH</td>\n",
              "    </tr>\n",
              "    <tr>\n",
              "      <th>102021</th>\n",
              "      <td>991237</td>\n",
              "      <td>Sr. Project Coordinator - Infra.</td>\n",
              "      <td>NaN</td>\n",
              "      <td>Portland</td>\n",
              "      <td>OR</td>\n",
              "    </tr>\n",
              "    <tr>\n",
              "      <th>109091</th>\n",
              "      <td>1051879</td>\n",
              "      <td>Financial Services Representative</td>\n",
              "      <td>NaN</td>\n",
              "      <td>Chicago</td>\n",
              "      <td>IL</td>\n",
              "    </tr>\n",
              "    <tr>\n",
              "      <th>115312</th>\n",
              "      <td>1112000</td>\n",
              "      <td>Automotive Technician / Automotive Mechanic / ...</td>\n",
              "      <td>NaN</td>\n",
              "      <td>Chantilly</td>\n",
              "      <td>VA</td>\n",
              "    </tr>\n",
              "  </tbody>\n",
              "</table>\n",
              "</div>"
            ],
            "text/plain": [
              "          JobID                                              Title  \\\n",
              "1835      17497  Community Living Specialist - Direct Care Posi...   \n",
              "5347      51907                      Restaurant Team Member - Crew   \n",
              "6007      58250     Physical Therapist - IU Health Morgan Hospital   \n",
              "6545      63095  Human Capital Principal Financial Serv Emp Ben...   \n",
              "11901    111105                 Program Administrative Coordinator   \n",
              "17311    162856                             Store Manager Off-site   \n",
              "22560    216510                $$55K Receptionist - Flexible Hours   \n",
              "23084    221335            Youth Counselor Direct Care Residential   \n",
              "26242    253478          Specialist, Walk (Service Areas: AL & FL)   \n",
              "26401    255080  State Farm Insurance and Financial Services Agent   \n",
              "28345    273495  Medical Device Sales - Durable Medical Equipme...   \n",
              "32920    316944                        Adolescent Treatment Worker   \n",
              "34935    337068                          Enrollment Representative   \n",
              "36184    350226                               Enrollment Counselor   \n",
              "39234    376376  Truck Driver - CDL Driver Training - Truck Dri...   \n",
              "39386    377540           Customer Account Specialist - Pueblo, CO   \n",
              "39903    382053                     Behavior Management Consultant   \n",
              "41008    394334                                  Sales / Franchise   \n",
              "45218    433260                           Accounts Payable Analyst   \n",
              "46208    441053                        Registered Nurse - PRN Pool   \n",
              "47343    451658                 Residential Treatment Assistant II   \n",
              "50694    485753                      Cardiac Ultrasound Technician   \n",
              "54601    524713                                        Coordinator   \n",
              "54649    525186                           Behavioral Health Worker   \n",
              "63822    616842  Part-time Administrative Assistant / Receptionist   \n",
              "66042    639016                                      Social Worker   \n",
              "75616    729140                           Test Automation Engineer   \n",
              "78513    753194                    Customer Service Representative   \n",
              "81862    786611                      Senior Manufacturing Engineer   \n",
              "84361    812425                         JOB DEVELOPMENT SPECIALIST   \n",
              "84758    816697                    Data Entry - Competitive Salary   \n",
              "89298    862642                                            Auditor   \n",
              "95243    920320                  Operations Managers & Supervisors   \n",
              "95789    925930                             Call Center Supervisor   \n",
              "98282    948898         RN Home Health - Full time Cincinnati area   \n",
              "102021   991237                   Sr. Project Coordinator - Infra.   \n",
              "109091  1051879                  Financial Services Representative   \n",
              "115312  1112000  Automotive Technician / Automotive Mechanic / ...   \n",
              "\n",
              "        Description             City State  \n",
              "1835            NaN            Wayne    NJ  \n",
              "5347            NaN      Chevy Chase    MD  \n",
              "6007            NaN          Bethany    IN  \n",
              "6545            NaN       Glen Allen    VA  \n",
              "11901           NaN           Covina    CA  \n",
              "17311           NaN           Rialto    CA  \n",
              "22560           NaN       San Marcos    CA  \n",
              "23084           NaN        Fitchburg    MA  \n",
              "26242           NaN        Pensacola    FL  \n",
              "26401           NaN   Council Bluffs    IA  \n",
              "28345           NaN          Jackson    MS  \n",
              "32920           NaN       California    KY  \n",
              "34935           NaN    Overland Park    KS  \n",
              "36184           NaN          Atlanta    GA  \n",
              "39234           NaN          Madison    TN  \n",
              "39386           NaN           Pueblo    CO  \n",
              "39903           NaN        Riverside    CA  \n",
              "41008           NaN       Middletown    CT  \n",
              "45218           NaN        Charlotte    NC  \n",
              "46208           NaN         Franklin    TN  \n",
              "47343           NaN     Philadelphia    PA  \n",
              "50694           NaN          Concord    NC  \n",
              "54601           NaN  Fort Washington    PA  \n",
              "54649           NaN     Philadelphia    PA  \n",
              "63822           NaN            Poway    CA  \n",
              "66042           NaN        Lafayette    LA  \n",
              "75616           NaN          Raleigh    NC  \n",
              "78513           NaN     Indianapolis    IN  \n",
              "81862           NaN           Corona    CA  \n",
              "84361           NaN        Lafayette    LA  \n",
              "84758           NaN      North Wales    PA  \n",
              "89298           NaN        Arlington    VA  \n",
              "95243           NaN    Moreno Valley    CA  \n",
              "95789           NaN            Tampa    FL  \n",
              "98282           NaN       Cincinnati    OH  \n",
              "102021          NaN         Portland    OR  \n",
              "109091          NaN          Chicago    IL  \n",
              "115312          NaN        Chantilly    VA  "
            ]
          },
          "execution_count": 29,
          "metadata": {},
          "output_type": "execute_result"
        }
      ],
      "source": [
        "get_job_id(get_recommendations_userwise(13))"
      ]
    },
    {
      "cell_type": "code",
      "execution_count": null,
      "metadata": {},
      "outputs": [],
      "source": []
    }
  ],
  "metadata": {
    "colab": {
      "provenance": []
    },
    "kernelspec": {
      "display_name": "Python 3",
      "language": "python",
      "name": "python3"
    },
    "language_info": {
      "codemirror_mode": {
        "name": "ipython",
        "version": 3
      },
      "file_extension": ".py",
      "mimetype": "text/x-python",
      "name": "python",
      "nbconvert_exporter": "python",
      "pygments_lexer": "ipython3",
      "version": "3.9.6"
    },
    "orig_nbformat": 4
  },
  "nbformat": 4,
  "nbformat_minor": 0
}
