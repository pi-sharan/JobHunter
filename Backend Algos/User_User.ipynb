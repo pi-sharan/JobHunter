{
  "cells": [
    {
      "cell_type": "code",
      "execution_count": null,
      "metadata": {
        "colab": {
          "base_uri": "https://localhost:8080/"
        },
        "id": "XAAeANv_2az6",
        "outputId": "cb54dff9-ef33-4ce7-f195-b16ce8bc580a"
      },
      "outputs": [
        {
          "name": "stdout",
          "output_type": "stream",
          "text": [
            "Mounted at /content/drive\n"
          ]
        }
      ],
      "source": [
        "from google.colab import drive\n",
        "drive.mount('/content/drive')"
      ]
    },
    {
      "cell_type": "code",
      "execution_count": 1,
      "metadata": {
        "id": "DYKIdKda1eXT"
      },
      "outputs": [],
      "source": [
        "%matplotlib inline\n",
        "import matplotlib.pyplot as plt\n",
        "import seaborn as sns\n",
        "import pandas as pd\n",
        "import numpy as np\n",
        "from scipy import stats\n",
        "from ast import literal_eval\n",
        "from sklearn.feature_extraction.text import TfidfVectorizer, CountVectorizer\n",
        "from sklearn.metrics.pairwise import linear_kernel, cosine_similarity"
      ]
    },
    {
      "cell_type": "code",
      "execution_count": 7,
      "metadata": {},
      "outputs": [],
      "source": [
        "apps = pd.read_csv('filtered_apps.csv')\n",
        "jobs = pd.read_csv('filtered_jobs.csv')\n",
        "users = pd.read_csv('filtered_users.csv')"
      ]
    },
    {
      "cell_type": "code",
      "execution_count": 8,
      "metadata": {
        "colab": {
          "base_uri": "https://localhost:8080/",
          "height": 313
        },
        "id": "inap2mSD8SdD",
        "outputId": "773b91b1-3e7b-4344-8a2d-c48d71e9f25d"
      },
      "outputs": [
        {
          "data": {
            "text/html": [
              "<div>\n",
              "<style scoped>\n",
              "    .dataframe tbody tr th:only-of-type {\n",
              "        vertical-align: middle;\n",
              "    }\n",
              "\n",
              "    .dataframe tbody tr th {\n",
              "        vertical-align: top;\n",
              "    }\n",
              "\n",
              "    .dataframe thead th {\n",
              "        text-align: right;\n",
              "    }\n",
              "</style>\n",
              "<table border=\"1\" class=\"dataframe\">\n",
              "  <thead>\n",
              "    <tr style=\"text-align: right;\">\n",
              "      <th></th>\n",
              "      <th>UserID</th>\n",
              "      <th>WindowID</th>\n",
              "      <th>Split</th>\n",
              "      <th>City</th>\n",
              "      <th>State</th>\n",
              "      <th>Country</th>\n",
              "      <th>ZipCode</th>\n",
              "      <th>DegreeType</th>\n",
              "      <th>Major</th>\n",
              "      <th>GraduationDate</th>\n",
              "      <th>WorkHistoryCount</th>\n",
              "      <th>TotalYearsExperience</th>\n",
              "      <th>CurrentlyEmployed</th>\n",
              "      <th>ManagedOthers</th>\n",
              "      <th>ManagedHowMany</th>\n",
              "    </tr>\n",
              "  </thead>\n",
              "  <tbody>\n",
              "    <tr>\n",
              "      <th>0</th>\n",
              "      <td>554</td>\n",
              "      <td>1</td>\n",
              "      <td>Train</td>\n",
              "      <td>Altamonte Springs</td>\n",
              "      <td>FL</td>\n",
              "      <td>US</td>\n",
              "      <td>32701</td>\n",
              "      <td>Bachelor's</td>\n",
              "      <td>Legal Studies</td>\n",
              "      <td>2006-12-01 00:00:00</td>\n",
              "      <td>2</td>\n",
              "      <td>4.0</td>\n",
              "      <td>No</td>\n",
              "      <td>No</td>\n",
              "      <td>0</td>\n",
              "    </tr>\n",
              "    <tr>\n",
              "      <th>1</th>\n",
              "      <td>769</td>\n",
              "      <td>1</td>\n",
              "      <td>Test</td>\n",
              "      <td>Roselle</td>\n",
              "      <td>IL</td>\n",
              "      <td>US</td>\n",
              "      <td>60172</td>\n",
              "      <td>Bachelor's</td>\n",
              "      <td>Radio-Television</td>\n",
              "      <td>2011-05-01 00:00:00</td>\n",
              "      <td>5</td>\n",
              "      <td>5.0</td>\n",
              "      <td>Yes</td>\n",
              "      <td>No</td>\n",
              "      <td>0</td>\n",
              "    </tr>\n",
              "    <tr>\n",
              "      <th>2</th>\n",
              "      <td>1697</td>\n",
              "      <td>1</td>\n",
              "      <td>Train</td>\n",
              "      <td>Justice</td>\n",
              "      <td>IL</td>\n",
              "      <td>US</td>\n",
              "      <td>60458</td>\n",
              "      <td>High School</td>\n",
              "      <td>Not Applicable</td>\n",
              "      <td>2007-01-01 00:00:00</td>\n",
              "      <td>4</td>\n",
              "      <td>6.0</td>\n",
              "      <td>NaN</td>\n",
              "      <td>No</td>\n",
              "      <td>0</td>\n",
              "    </tr>\n",
              "    <tr>\n",
              "      <th>3</th>\n",
              "      <td>2652</td>\n",
              "      <td>1</td>\n",
              "      <td>Test</td>\n",
              "      <td>Glendale</td>\n",
              "      <td>CA</td>\n",
              "      <td>US</td>\n",
              "      <td>91204</td>\n",
              "      <td>High School</td>\n",
              "      <td>Not Applicable</td>\n",
              "      <td>1987-01-01 00:00:00</td>\n",
              "      <td>3</td>\n",
              "      <td>21.0</td>\n",
              "      <td>No</td>\n",
              "      <td>Yes</td>\n",
              "      <td>3</td>\n",
              "    </tr>\n",
              "    <tr>\n",
              "      <th>4</th>\n",
              "      <td>4359</td>\n",
              "      <td>1</td>\n",
              "      <td>Train</td>\n",
              "      <td>Valrico</td>\n",
              "      <td>FL</td>\n",
              "      <td>US</td>\n",
              "      <td>33594</td>\n",
              "      <td>High School</td>\n",
              "      <td>Not Applicable</td>\n",
              "      <td>2010-01-01 00:00:00</td>\n",
              "      <td>3</td>\n",
              "      <td>2.0</td>\n",
              "      <td>Yes</td>\n",
              "      <td>No</td>\n",
              "      <td>0</td>\n",
              "    </tr>\n",
              "  </tbody>\n",
              "</table>\n",
              "</div>"
            ],
            "text/plain": [
              "   UserID  WindowID  Split               City State Country ZipCode  \\\n",
              "0     554         1  Train  Altamonte Springs    FL      US   32701   \n",
              "1     769         1   Test            Roselle    IL      US   60172   \n",
              "2    1697         1  Train            Justice    IL      US   60458   \n",
              "3    2652         1   Test           Glendale    CA      US   91204   \n",
              "4    4359         1  Train            Valrico    FL      US   33594   \n",
              "\n",
              "    DegreeType             Major       GraduationDate  WorkHistoryCount  \\\n",
              "0   Bachelor's     Legal Studies  2006-12-01 00:00:00                 2   \n",
              "1   Bachelor's  Radio-Television  2011-05-01 00:00:00                 5   \n",
              "2  High School    Not Applicable  2007-01-01 00:00:00                 4   \n",
              "3  High School    Not Applicable  1987-01-01 00:00:00                 3   \n",
              "4  High School    Not Applicable  2010-01-01 00:00:00                 3   \n",
              "\n",
              "   TotalYearsExperience CurrentlyEmployed ManagedOthers  ManagedHowMany  \n",
              "0                   4.0                No            No               0  \n",
              "1                   5.0               Yes            No               0  \n",
              "2                   6.0               NaN            No               0  \n",
              "3                  21.0                No           Yes               3  \n",
              "4                   2.0               Yes            No               0  "
            ]
          },
          "execution_count": 8,
          "metadata": {},
          "output_type": "execute_result"
        }
      ],
      "source": [
        "users.head()"
      ]
    },
    {
      "cell_type": "code",
      "execution_count": 9,
      "metadata": {
        "colab": {
          "base_uri": "https://localhost:8080/"
        },
        "id": "PsnExlwL_DAh",
        "outputId": "079703f6-9966-48fc-9df3-97cdffe67bbd"
      },
      "outputs": [],
      "source": [
        "users['DegreeType'] = users['DegreeType'].fillna('')\n",
        "users['Major'] = users['Major'].fillna('')\n",
        "users['TotalYearsExperience'] = users['TotalYearsExperience'].fillna('').astype(str)\n",
        "\n",
        "users['DegreeType'] = users['DegreeType'] + ' ' + users['Major'] + ' ' + users['TotalYearsExperience']\n"
      ]
    },
    {
      "cell_type": "code",
      "execution_count": 12,
      "metadata": {
        "colab": {
          "base_uri": "https://localhost:8080/"
        },
        "id": "xDrhQwRP_KKz",
        "outputId": "478585ab-95f9-46f4-f537-143824a89289"
      },
      "outputs": [
        {
          "data": {
            "text/html": [
              "<div>\n",
              "<style scoped>\n",
              "    .dataframe tbody tr th:only-of-type {\n",
              "        vertical-align: middle;\n",
              "    }\n",
              "\n",
              "    .dataframe tbody tr th {\n",
              "        vertical-align: top;\n",
              "    }\n",
              "\n",
              "    .dataframe thead th {\n",
              "        text-align: right;\n",
              "    }\n",
              "</style>\n",
              "<table border=\"1\" class=\"dataframe\">\n",
              "  <thead>\n",
              "    <tr style=\"text-align: right;\">\n",
              "      <th></th>\n",
              "      <th>UserID</th>\n",
              "      <th>WindowID</th>\n",
              "      <th>Split</th>\n",
              "      <th>City</th>\n",
              "      <th>State</th>\n",
              "      <th>Country</th>\n",
              "      <th>ZipCode</th>\n",
              "      <th>DegreeType</th>\n",
              "      <th>Major</th>\n",
              "      <th>GraduationDate</th>\n",
              "      <th>WorkHistoryCount</th>\n",
              "      <th>TotalYearsExperience</th>\n",
              "      <th>CurrentlyEmployed</th>\n",
              "      <th>ManagedOthers</th>\n",
              "      <th>ManagedHowMany</th>\n",
              "    </tr>\n",
              "  </thead>\n",
              "  <tbody>\n",
              "    <tr>\n",
              "      <th>0</th>\n",
              "      <td>554</td>\n",
              "      <td>1</td>\n",
              "      <td>Train</td>\n",
              "      <td>Altamonte Springs</td>\n",
              "      <td>FL</td>\n",
              "      <td>US</td>\n",
              "      <td>32701</td>\n",
              "      <td>Bachelor's Legal Studies 4.0</td>\n",
              "      <td>Legal Studies</td>\n",
              "      <td>2006-12-01 00:00:00</td>\n",
              "      <td>2</td>\n",
              "      <td>4.0</td>\n",
              "      <td>No</td>\n",
              "      <td>No</td>\n",
              "      <td>0</td>\n",
              "    </tr>\n",
              "    <tr>\n",
              "      <th>1</th>\n",
              "      <td>769</td>\n",
              "      <td>1</td>\n",
              "      <td>Test</td>\n",
              "      <td>Roselle</td>\n",
              "      <td>IL</td>\n",
              "      <td>US</td>\n",
              "      <td>60172</td>\n",
              "      <td>Bachelor's Radio-Television 5.0</td>\n",
              "      <td>Radio-Television</td>\n",
              "      <td>2011-05-01 00:00:00</td>\n",
              "      <td>5</td>\n",
              "      <td>5.0</td>\n",
              "      <td>Yes</td>\n",
              "      <td>No</td>\n",
              "      <td>0</td>\n",
              "    </tr>\n",
              "    <tr>\n",
              "      <th>2</th>\n",
              "      <td>1697</td>\n",
              "      <td>1</td>\n",
              "      <td>Train</td>\n",
              "      <td>Justice</td>\n",
              "      <td>IL</td>\n",
              "      <td>US</td>\n",
              "      <td>60458</td>\n",
              "      <td>High School Not Applicable 6.0</td>\n",
              "      <td>Not Applicable</td>\n",
              "      <td>2007-01-01 00:00:00</td>\n",
              "      <td>4</td>\n",
              "      <td>6.0</td>\n",
              "      <td>NaN</td>\n",
              "      <td>No</td>\n",
              "      <td>0</td>\n",
              "    </tr>\n",
              "    <tr>\n",
              "      <th>3</th>\n",
              "      <td>2652</td>\n",
              "      <td>1</td>\n",
              "      <td>Test</td>\n",
              "      <td>Glendale</td>\n",
              "      <td>CA</td>\n",
              "      <td>US</td>\n",
              "      <td>91204</td>\n",
              "      <td>High School Not Applicable 21.0</td>\n",
              "      <td>Not Applicable</td>\n",
              "      <td>1987-01-01 00:00:00</td>\n",
              "      <td>3</td>\n",
              "      <td>21.0</td>\n",
              "      <td>No</td>\n",
              "      <td>Yes</td>\n",
              "      <td>3</td>\n",
              "    </tr>\n",
              "    <tr>\n",
              "      <th>4</th>\n",
              "      <td>4359</td>\n",
              "      <td>1</td>\n",
              "      <td>Train</td>\n",
              "      <td>Valrico</td>\n",
              "      <td>FL</td>\n",
              "      <td>US</td>\n",
              "      <td>33594</td>\n",
              "      <td>High School Not Applicable 2.0</td>\n",
              "      <td>Not Applicable</td>\n",
              "      <td>2010-01-01 00:00:00</td>\n",
              "      <td>3</td>\n",
              "      <td>2.0</td>\n",
              "      <td>Yes</td>\n",
              "      <td>No</td>\n",
              "      <td>0</td>\n",
              "    </tr>\n",
              "  </tbody>\n",
              "</table>\n",
              "</div>"
            ],
            "text/plain": [
              "   UserID  WindowID  Split               City State Country ZipCode  \\\n",
              "0     554         1  Train  Altamonte Springs    FL      US   32701   \n",
              "1     769         1   Test            Roselle    IL      US   60172   \n",
              "2    1697         1  Train            Justice    IL      US   60458   \n",
              "3    2652         1   Test           Glendale    CA      US   91204   \n",
              "4    4359         1  Train            Valrico    FL      US   33594   \n",
              "\n",
              "                        DegreeType             Major       GraduationDate  \\\n",
              "0     Bachelor's Legal Studies 4.0     Legal Studies  2006-12-01 00:00:00   \n",
              "1  Bachelor's Radio-Television 5.0  Radio-Television  2011-05-01 00:00:00   \n",
              "2   High School Not Applicable 6.0    Not Applicable  2007-01-01 00:00:00   \n",
              "3  High School Not Applicable 21.0    Not Applicable  1987-01-01 00:00:00   \n",
              "4   High School Not Applicable 2.0    Not Applicable  2010-01-01 00:00:00   \n",
              "\n",
              "   WorkHistoryCount TotalYearsExperience CurrentlyEmployed ManagedOthers  \\\n",
              "0                 2                  4.0                No            No   \n",
              "1                 5                  5.0               Yes            No   \n",
              "2                 4                  6.0               NaN            No   \n",
              "3                 3                 21.0                No           Yes   \n",
              "4                 3                  2.0               Yes            No   \n",
              "\n",
              "   ManagedHowMany  \n",
              "0               0  \n",
              "1               0  \n",
              "2               0  \n",
              "3               3  \n",
              "4               0  "
            ]
          },
          "execution_count": 12,
          "metadata": {},
          "output_type": "execute_result"
        }
      ],
      "source": [
        "users.head()"
      ]
    },
    {
      "cell_type": "code",
      "execution_count": 14,
      "metadata": {
        "id": "mCWnsVTbAibY"
      },
      "outputs": [],
      "source": [
        "tf = TfidfVectorizer(analyzer='word',ngram_range=(1, 2),min_df=0.0, stop_words='english')\n",
        "tfidf_matrix = tf.fit_transform(users['DegreeType'])"
      ]
    },
    {
      "cell_type": "code",
      "execution_count": 15,
      "metadata": {
        "colab": {
          "base_uri": "https://localhost:8080/"
        },
        "id": "0o-2jp4DAlVQ",
        "outputId": "d34496bc-edf4-4a88-ffcb-1db480165504"
      },
      "outputs": [
        {
          "data": {
            "text/plain": [
              "(6223, 4049)"
            ]
          },
          "execution_count": 15,
          "metadata": {},
          "output_type": "execute_result"
        }
      ],
      "source": [
        "tfidf_matrix.shape"
      ]
    },
    {
      "cell_type": "code",
      "execution_count": 16,
      "metadata": {
        "id": "7oOqORt8AuVf"
      },
      "outputs": [],
      "source": [
        "cosine_sim = linear_kernel(tfidf_matrix, tfidf_matrix)"
      ]
    },
    {
      "cell_type": "code",
      "execution_count": 17,
      "metadata": {
        "colab": {
          "base_uri": "https://localhost:8080/"
        },
        "id": "YfWv6nLmAuZs",
        "outputId": "0f17bc2d-467a-4c60-bfe8-1d05a4899825"
      },
      "outputs": [
        {
          "data": {
            "text/plain": [
              "(6223, 6223)"
            ]
          },
          "execution_count": 17,
          "metadata": {},
          "output_type": "execute_result"
        }
      ],
      "source": [
        "cosine_sim.shape"
      ]
    },
    {
      "cell_type": "code",
      "execution_count": 18,
      "metadata": {
        "id": "auAffUSvAubP"
      },
      "outputs": [],
      "source": [
        "user_based_approach = users.reset_index()\n",
        "userid = user_based_approach['UserID']\n",
        "indices = pd.Series(user_based_approach.index, index=user_based_approach['UserID'])"
      ]
    },
    {
      "cell_type": "code",
      "execution_count": 19,
      "metadata": {
        "id": "1e_lOUbTBrmj"
      },
      "outputs": [],
      "source": [
        "def get_recommendations_userwise(userid):\n",
        "    idx = indices[userid]\n",
        "    sim_scores = list(enumerate(cosine_sim[idx]))\n",
        "    sim_scores = sorted(sim_scores, key=lambda x: x[1], reverse=True)\n",
        "    user_indices = [i[0] for i in sim_scores]\n",
        "    user_indices_top = user_indices[1:12]\n",
        "    similar_users = list(user_based_approach.loc[indices.iloc[user_indices_top]]['UserID'].values)\n",
        "    return similar_users"
      ]
    },
    {
      "cell_type": "code",
      "execution_count": 22,
      "metadata": {
        "colab": {
          "base_uri": "https://localhost:8080/"
        },
        "id": "gShFxUFrCZvA",
        "outputId": "445f38e8-d2c7-4f7a-d95c-e95d9d898e15"
      },
      "outputs": [
        {
          "name": "stdout",
          "output_type": "stream",
          "text": [
            "-----Top 10 Similar users with userId: 554------\n"
          ]
        },
        {
          "data": {
            "text/plain": [
              "[744467,\n",
              " 681099,\n",
              " 1337193,\n",
              " 214540,\n",
              " 734150,\n",
              " 1243561,\n",
              " 158773,\n",
              " 282295,\n",
              " 1080768,\n",
              " 382785,\n",
              " 1087895]"
            ]
          },
          "execution_count": 22,
          "metadata": {},
          "output_type": "execute_result"
        }
      ],
      "source": [
        "print (\"-----Top 10 Similar users with userId: 554------\")\n",
        "get_recommendations_userwise(554)"
      ]
    },
    {
      "cell_type": "code",
      "execution_count": 23,
      "metadata": {
        "colab": {
          "base_uri": "https://localhost:8080/"
        },
        "id": "UFxh44dgHZvH",
        "outputId": "0a39862b-8911-4cf0-ce7e-a74bb62d3104"
      },
      "outputs": [
        {
          "data": {
            "text/plain": [
              "array([    554,     769,    1697, ..., 1467940, 1468595, 1470416])"
            ]
          },
          "execution_count": 23,
          "metadata": {},
          "output_type": "execute_result"
        }
      ],
      "source": [
        "apps['UserID'].unique()"
      ]
    },
    {
      "cell_type": "code",
      "execution_count": 24,
      "metadata": {
        "id": "QCe_QdXbCZzs"
      },
      "outputs": [],
      "source": [
        "def get_job_id(usrid_list):\n",
        "    jobs_userwise = apps['UserID'].isin(usrid_list) #\n",
        "    df1 = pd.DataFrame(data = apps[jobs_userwise], columns=['JobID'])\n",
        "    joblist = df1['JobID'].tolist()\n",
        "    Job_list = jobs['JobID'].isin(joblist) #[1083186, 516837, 507614, 754917, 686406, 1058896, 335132])\n",
        "    df_temp = pd.DataFrame(data = jobs[Job_list], columns=['JobID','Title','Description','City','State'])\n",
        "    return df_temp"
      ]
    },
    {
      "cell_type": "code",
      "execution_count": 26,
      "metadata": {
        "colab": {
          "base_uri": "https://localhost:8080/",
          "height": 363
        },
        "id": "vSPXjd1OCZ4I",
        "outputId": "45f1cad7-d600-41ef-8104-e88411adfcbe"
      },
      "outputs": [
        {
          "data": {
            "text/html": [
              "<div>\n",
              "<style scoped>\n",
              "    .dataframe tbody tr th:only-of-type {\n",
              "        vertical-align: middle;\n",
              "    }\n",
              "\n",
              "    .dataframe tbody tr th {\n",
              "        vertical-align: top;\n",
              "    }\n",
              "\n",
              "    .dataframe thead th {\n",
              "        text-align: right;\n",
              "    }\n",
              "</style>\n",
              "<table border=\"1\" class=\"dataframe\">\n",
              "  <thead>\n",
              "    <tr style=\"text-align: right;\">\n",
              "      <th></th>\n",
              "      <th>JobID</th>\n",
              "      <th>Title</th>\n",
              "      <th>Description</th>\n",
              "      <th>City</th>\n",
              "      <th>State</th>\n",
              "    </tr>\n",
              "  </thead>\n",
              "  <tbody>\n",
              "    <tr>\n",
              "      <th>30</th>\n",
              "      <td>13926</td>\n",
              "      <td>Customer Service Representatives</td>\n",
              "      <td>&lt;p&gt;The adidas Group is one of the world&amp;rsquo;...</td>\n",
              "      <td>Indianapolis</td>\n",
              "      <td>IN</td>\n",
              "    </tr>\n",
              "    <tr>\n",
              "      <th>37</th>\n",
              "      <td>16581</td>\n",
              "      <td>Administrative Assistant</td>\n",
              "      <td>&lt;P&gt;&lt;SPAN style=\"TEXT-DECORATION: underline\"&gt;&lt;S...</td>\n",
              "      <td>Carmel</td>\n",
              "      <td>IN</td>\n",
              "    </tr>\n",
              "    <tr>\n",
              "      <th>62</th>\n",
              "      <td>29711</td>\n",
              "      <td>DENTAL FRONT OFFICE</td>\n",
              "      <td>Dental Front Office  Position Available   We a...</td>\n",
              "      <td>Avon</td>\n",
              "      <td>IN</td>\n",
              "    </tr>\n",
              "    <tr>\n",
              "      <th>81</th>\n",
              "      <td>34975</td>\n",
              "      <td>Data Entry Clerk/Warehouse Associate</td>\n",
              "      <td>&lt;p&gt;Seeking &lt;b&gt;Data Entry Clerk/Warehouse Assoc...</td>\n",
              "      <td>Marietta</td>\n",
              "      <td>GA</td>\n",
              "    </tr>\n",
              "    <tr>\n",
              "      <th>87</th>\n",
              "      <td>39361</td>\n",
              "      <td>Customer Service Representative</td>\n",
              "      <td>&lt;br&gt;\\r&lt;p style=\"text-align: center\" align=\"cen...</td>\n",
              "      <td>Charlotte</td>\n",
              "      <td>NC</td>\n",
              "    </tr>\n",
              "    <tr>\n",
              "      <th>...</th>\n",
              "      <td>...</td>\n",
              "      <td>...</td>\n",
              "      <td>...</td>\n",
              "      <td>...</td>\n",
              "      <td>...</td>\n",
              "    </tr>\n",
              "    <tr>\n",
              "      <th>6876</th>\n",
              "      <td>979213</td>\n",
              "      <td>Marketing Assistant</td>\n",
              "      <td>A Washington, DC law firm is currently seeking...</td>\n",
              "      <td>Washington</td>\n",
              "      <td>DC</td>\n",
              "    </tr>\n",
              "    <tr>\n",
              "      <th>6897</th>\n",
              "      <td>1029851</td>\n",
              "      <td>Executive Assistant / Board Liaison</td>\n",
              "      <td>&lt;p&gt;&lt;b&gt;&lt;span&gt;&lt;br&gt;\\rExecutive Assistant / Board ...</td>\n",
              "      <td>Alexandria</td>\n",
              "      <td>VA</td>\n",
              "    </tr>\n",
              "    <tr>\n",
              "      <th>6941</th>\n",
              "      <td>1080871</td>\n",
              "      <td>Resident Service Associate</td>\n",
              "      <td>&lt;p&gt;&lt;span&gt;Richman Property Services, Inc. a rap...</td>\n",
              "      <td>Bladensburg</td>\n",
              "      <td>MD</td>\n",
              "    </tr>\n",
              "    <tr>\n",
              "      <th>6959</th>\n",
              "      <td>1101067</td>\n",
              "      <td>Admissions Representative - Silver Spring, MD</td>\n",
              "      <td>&lt;p&gt;&lt;span&gt;Medtech College is a private institut...</td>\n",
              "      <td>Silver Spring</td>\n",
              "      <td>MD</td>\n",
              "    </tr>\n",
              "    <tr>\n",
              "      <th>6970</th>\n",
              "      <td>1116067</td>\n",
              "      <td>Administrative Assistant</td>\n",
              "      <td>&lt;SPAN&gt;Provides top-notch administrative assist...</td>\n",
              "      <td>Washington</td>\n",
              "      <td>DC</td>\n",
              "    </tr>\n",
              "  </tbody>\n",
              "</table>\n",
              "<p>251 rows × 5 columns</p>\n",
              "</div>"
            ],
            "text/plain": [
              "        JobID                                          Title  \\\n",
              "30      13926               Customer Service Representatives   \n",
              "37      16581                       Administrative Assistant   \n",
              "62      29711                            DENTAL FRONT OFFICE   \n",
              "81      34975           Data Entry Clerk/Warehouse Associate   \n",
              "87      39361                Customer Service Representative   \n",
              "...       ...                                            ...   \n",
              "6876   979213                            Marketing Assistant   \n",
              "6897  1029851            Executive Assistant / Board Liaison   \n",
              "6941  1080871                     Resident Service Associate   \n",
              "6959  1101067  Admissions Representative - Silver Spring, MD   \n",
              "6970  1116067                       Administrative Assistant   \n",
              "\n",
              "                                            Description           City State  \n",
              "30    <p>The adidas Group is one of the world&rsquo;...   Indianapolis    IN  \n",
              "37    <P><SPAN style=\"TEXT-DECORATION: underline\"><S...         Carmel    IN  \n",
              "62    Dental Front Office  Position Available   We a...           Avon    IN  \n",
              "81    <p>Seeking <b>Data Entry Clerk/Warehouse Assoc...       Marietta    GA  \n",
              "87    <br>\\r<p style=\"text-align: center\" align=\"cen...      Charlotte    NC  \n",
              "...                                                 ...            ...   ...  \n",
              "6876  A Washington, DC law firm is currently seeking...     Washington    DC  \n",
              "6897  <p><b><span><br>\\rExecutive Assistant / Board ...     Alexandria    VA  \n",
              "6941  <p><span>Richman Property Services, Inc. a rap...    Bladensburg    MD  \n",
              "6959  <p><span>Medtech College is a private institut...  Silver Spring    MD  \n",
              "6970  <SPAN>Provides top-notch administrative assist...     Washington    DC  \n",
              "\n",
              "[251 rows x 5 columns]"
            ]
          },
          "execution_count": 26,
          "metadata": {},
          "output_type": "execute_result"
        }
      ],
      "source": [
        "get_job_id(get_recommendations_userwise(554))"
      ]
    },
    {
      "cell_type": "code",
      "execution_count": null,
      "metadata": {
        "id": "QBJmMF0fCZ67"
      },
      "outputs": [],
      "source": []
    }
  ],
  "metadata": {
    "colab": {
      "provenance": []
    },
    "kernelspec": {
      "display_name": "Python 3",
      "language": "python",
      "name": "python3"
    },
    "language_info": {
      "codemirror_mode": {
        "name": "ipython",
        "version": 3
      },
      "file_extension": ".py",
      "mimetype": "text/x-python",
      "name": "python",
      "nbconvert_exporter": "python",
      "pygments_lexer": "ipython3",
      "version": "3.9.6"
    },
    "orig_nbformat": 4
  },
  "nbformat": 4,
  "nbformat_minor": 0
}
