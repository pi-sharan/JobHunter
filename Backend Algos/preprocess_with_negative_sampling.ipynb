{
 "cells": [
  {
   "cell_type": "code",
   "execution_count": 20,
   "metadata": {},
   "outputs": [],
   "source": [
    "%matplotlib inline\n",
    "import matplotlib.pyplot as plt\n",
    "import seaborn as sns\n",
    "import pandas as pd\n",
    "import numpy as np\n",
    "from scipy import stats\n",
    "from ast import literal_eval\n",
    "from sklearn.feature_extraction.text import TfidfVectorizer, CountVectorizer\n",
    "from sklearn.metrics.pairwise import linear_kernel, cosine_similarity\n",
    "\n",
    "import pandas as pd\n",
    "import numpy as np\n",
    "import warnings\n",
    "from tqdm import tqdm\n",
    "warnings.filterwarnings(\"ignore\")"
   ]
  },
  {
   "cell_type": "code",
   "execution_count": 21,
   "metadata": {},
   "outputs": [],
   "source": [
    "apps = pd.read_csv('../input_data/apps.tsv', delimiter='\\t',encoding='utf-8')\n",
    "user_history = pd.read_csv('../input_data/user_history.tsv', delimiter='\\t',encoding='utf-8')\n",
    "jobs = pd.read_csv('../input_data/jobs.tsv', delimiter='\\t',encoding='utf-8', on_bad_lines=\"skip\")\n",
    "users = pd.read_csv('../input_data/users.tsv' ,delimiter='\\t',encoding='utf-8')\n",
    "test_users = pd.read_csv('../input_data/test_users.tsv', delimiter='\\t',encoding='utf-8')"
   ]
  },
  {
   "cell_type": "markdown",
   "metadata": {},
   "source": [
    "**Window = 6**\n",
    "\n",
    "In our project, we are using only a subset of the original dataset, due to its large nature. We will only be using the data from one of the windows (here window 6)"
   ]
  },
  {
   "cell_type": "code",
   "execution_count": 22,
   "metadata": {},
   "outputs": [
    {
     "data": {
      "text/html": [
       "<div>\n",
       "<style scoped>\n",
       "    .dataframe tbody tr th:only-of-type {\n",
       "        vertical-align: middle;\n",
       "    }\n",
       "\n",
       "    .dataframe tbody tr th {\n",
       "        vertical-align: top;\n",
       "    }\n",
       "\n",
       "    .dataframe thead th {\n",
       "        text-align: right;\n",
       "    }\n",
       "</style>\n",
       "<table border=\"1\" class=\"dataframe\">\n",
       "  <thead>\n",
       "    <tr style=\"text-align: right;\">\n",
       "      <th></th>\n",
       "      <th>UserID</th>\n",
       "      <th>WindowID</th>\n",
       "      <th>Split</th>\n",
       "      <th>Sequence</th>\n",
       "      <th>JobTitle</th>\n",
       "    </tr>\n",
       "  </thead>\n",
       "  <tbody>\n",
       "    <tr>\n",
       "      <th>1337041</th>\n",
       "      <td>13</td>\n",
       "      <td>6</td>\n",
       "      <td>Test</td>\n",
       "      <td>1</td>\n",
       "      <td>Pennsylvania Mentor</td>\n",
       "    </tr>\n",
       "    <tr>\n",
       "      <th>1337042</th>\n",
       "      <td>13</td>\n",
       "      <td>6</td>\n",
       "      <td>Test</td>\n",
       "      <td>2</td>\n",
       "      <td>Student Worker</td>\n",
       "    </tr>\n",
       "    <tr>\n",
       "      <th>1337043</th>\n",
       "      <td>13</td>\n",
       "      <td>6</td>\n",
       "      <td>Test</td>\n",
       "      <td>3</td>\n",
       "      <td>Internship in Adoption Unit</td>\n",
       "    </tr>\n",
       "    <tr>\n",
       "      <th>1337044</th>\n",
       "      <td>13</td>\n",
       "      <td>6</td>\n",
       "      <td>Test</td>\n",
       "      <td>4</td>\n",
       "      <td>NaN</td>\n",
       "    </tr>\n",
       "    <tr>\n",
       "      <th>1337045</th>\n",
       "      <td>13</td>\n",
       "      <td>6</td>\n",
       "      <td>Test</td>\n",
       "      <td>5</td>\n",
       "      <td>Student Worker - Continuing Education</td>\n",
       "    </tr>\n",
       "    <tr>\n",
       "      <th>...</th>\n",
       "      <td>...</td>\n",
       "      <td>...</td>\n",
       "      <td>...</td>\n",
       "      <td>...</td>\n",
       "      <td>...</td>\n",
       "    </tr>\n",
       "    <tr>\n",
       "      <th>1530889</th>\n",
       "      <td>1472087</td>\n",
       "      <td>6</td>\n",
       "      <td>Train</td>\n",
       "      <td>3</td>\n",
       "      <td>GloBull Ambassador</td>\n",
       "    </tr>\n",
       "    <tr>\n",
       "      <th>1530890</th>\n",
       "      <td>1472087</td>\n",
       "      <td>6</td>\n",
       "      <td>Train</td>\n",
       "      <td>4</td>\n",
       "      <td>Research Assistant for Head Start Study</td>\n",
       "    </tr>\n",
       "    <tr>\n",
       "      <th>1530891</th>\n",
       "      <td>1472087</td>\n",
       "      <td>6</td>\n",
       "      <td>Train</td>\n",
       "      <td>5</td>\n",
       "      <td>Volunteer</td>\n",
       "    </tr>\n",
       "    <tr>\n",
       "      <th>1530892</th>\n",
       "      <td>1472087</td>\n",
       "      <td>6</td>\n",
       "      <td>Train</td>\n",
       "      <td>6</td>\n",
       "      <td>Customer Service Associate</td>\n",
       "    </tr>\n",
       "    <tr>\n",
       "      <th>1530893</th>\n",
       "      <td>1472087</td>\n",
       "      <td>6</td>\n",
       "      <td>Train</td>\n",
       "      <td>7</td>\n",
       "      <td>Customer Service Lead</td>\n",
       "    </tr>\n",
       "  </tbody>\n",
       "</table>\n",
       "<p>193853 rows × 5 columns</p>\n",
       "</div>"
      ],
      "text/plain": [
       "          UserID  WindowID  Split  Sequence  \\\n",
       "1337041       13         6   Test         1   \n",
       "1337042       13         6   Test         2   \n",
       "1337043       13         6   Test         3   \n",
       "1337044       13         6   Test         4   \n",
       "1337045       13         6   Test         5   \n",
       "...          ...       ...    ...       ...   \n",
       "1530889  1472087         6  Train         3   \n",
       "1530890  1472087         6  Train         4   \n",
       "1530891  1472087         6  Train         5   \n",
       "1530892  1472087         6  Train         6   \n",
       "1530893  1472087         6  Train         7   \n",
       "\n",
       "                                        JobTitle  \n",
       "1337041                      Pennsylvania Mentor  \n",
       "1337042                           Student Worker  \n",
       "1337043              Internship in Adoption Unit  \n",
       "1337044                                      NaN  \n",
       "1337045    Student Worker - Continuing Education  \n",
       "...                                          ...  \n",
       "1530889                       GloBull Ambassador  \n",
       "1530890  Research Assistant for Head Start Study  \n",
       "1530891                                Volunteer  \n",
       "1530892               Customer Service Associate  \n",
       "1530893                    Customer Service Lead  \n",
       "\n",
       "[193853 rows x 5 columns]"
      ]
     },
     "execution_count": 22,
     "metadata": {},
     "output_type": "execute_result"
    }
   ],
   "source": [
    "user_history[user_history.WindowID==6]"
   ]
  },
  {
   "cell_type": "code",
   "execution_count": 23,
   "metadata": {},
   "outputs": [
    {
     "name": "stdout",
     "output_type": "stream",
     "text": [
      "<class 'pandas.core.frame.DataFrame'>\n",
      "Index: 115998 entries, 861371 to 977368\n",
      "Data columns (total 11 columns):\n",
      " #   Column        Non-Null Count   Dtype \n",
      "---  ------        --------------   ----- \n",
      " 0   JobID         115998 non-null  int64 \n",
      " 1   WindowID      115998 non-null  int64 \n",
      " 2   Title         115996 non-null  object\n",
      " 3   Description   115997 non-null  object\n",
      " 4   Requirements  115923 non-null  object\n",
      " 5   City          115998 non-null  object\n",
      " 6   State         115998 non-null  object\n",
      " 7   Country       115998 non-null  object\n",
      " 8   Zip5          71528 non-null   object\n",
      " 9   StartDate     115998 non-null  object\n",
      " 10  EndDate       115998 non-null  object\n",
      "dtypes: int64(2), object(9)\n",
      "memory usage: 10.6+ MB\n"
     ]
    }
   ],
   "source": [
    "jobs[jobs.WindowID==6].info()"
   ]
  },
  {
   "cell_type": "code",
   "execution_count": 24,
   "metadata": {},
   "outputs": [
    {
     "name": "stdout",
     "output_type": "stream",
     "text": [
      "<class 'pandas.core.frame.DataFrame'>\n",
      "Index: 43334 entries, 296639 to 339972\n",
      "Data columns (total 15 columns):\n",
      " #   Column                Non-Null Count  Dtype  \n",
      "---  ------                --------------  -----  \n",
      " 0   UserID                43334 non-null  int64  \n",
      " 1   WindowID              43334 non-null  int64  \n",
      " 2   Split                 43334 non-null  object \n",
      " 3   City                  43334 non-null  object \n",
      " 4   State                 43276 non-null  object \n",
      " 5   Country               43334 non-null  object \n",
      " 6   ZipCode               43142 non-null  object \n",
      " 7   DegreeType            32034 non-null  object \n",
      " 8   Major                 32428 non-null  object \n",
      " 9   GraduationDate        29703 non-null  object \n",
      " 10  WorkHistoryCount      43334 non-null  int64  \n",
      " 11  TotalYearsExperience  41733 non-null  float64\n",
      " 12  CurrentlyEmployed     40653 non-null  object \n",
      " 13  ManagedOthers         43334 non-null  object \n",
      " 14  ManagedHowMany        43334 non-null  int64  \n",
      "dtypes: float64(1), int64(4), object(10)\n",
      "memory usage: 5.3+ MB\n"
     ]
    }
   ],
   "source": [
    "users[users.WindowID==6].info()"
   ]
  },
  {
   "cell_type": "code",
   "execution_count": 25,
   "metadata": {},
   "outputs": [
    {
     "name": "stdout",
     "output_type": "stream",
     "text": [
      "<class 'pandas.core.frame.DataFrame'>\n",
      "Index: 30006 entries, 296639 to 339971\n",
      "Data columns (total 15 columns):\n",
      " #   Column                Non-Null Count  Dtype  \n",
      "---  ------                --------------  -----  \n",
      " 0   UserID                30006 non-null  int64  \n",
      " 1   WindowID              30006 non-null  int64  \n",
      " 2   Split                 30006 non-null  object \n",
      " 3   City                  30006 non-null  object \n",
      " 4   State                 30006 non-null  object \n",
      " 5   Country               30006 non-null  object \n",
      " 6   ZipCode               29960 non-null  object \n",
      " 7   DegreeType            26006 non-null  object \n",
      " 8   Major                 30006 non-null  object \n",
      " 9   GraduationDate        23379 non-null  object \n",
      " 10  WorkHistoryCount      30006 non-null  int64  \n",
      " 11  TotalYearsExperience  30006 non-null  float64\n",
      " 12  CurrentlyEmployed     30006 non-null  object \n",
      " 13  ManagedOthers         30006 non-null  object \n",
      " 14  ManagedHowMany        30006 non-null  int64  \n",
      "dtypes: float64(1), int64(4), object(10)\n",
      "memory usage: 3.7+ MB\n"
     ]
    },
    {
     "data": {
      "text/plain": [
       "(Split\n",
       " Train    28864\n",
       " Test      1142\n",
       " Name: count, dtype: int64,\n",
       " None)"
      ]
     },
     "execution_count": 25,
     "metadata": {},
     "output_type": "execute_result"
    }
   ],
   "source": [
    "user_set = users[(users.WindowID==6) & (users.Country==\"US\")].dropna(axis=0,subset=[\"Major\", \"TotalYearsExperience\", \"CurrentlyEmployed\"])\n",
    "user_set.Split.value_counts(), user_set.info()"
   ]
  },
  {
   "cell_type": "markdown",
   "metadata": {},
   "source": [
    "As shown in the preprocess.ipynb file, the number of US apps are very high. We will only be considering US applications.<br>\n",
    "Furthermore, we willbe dropping all such users, who do not have a user_history attached to them."
   ]
  },
  {
   "cell_type": "code",
   "execution_count": 27,
   "metadata": {},
   "outputs": [
    {
     "name": "stdout",
     "output_type": "stream",
     "text": [
      "<class 'pandas.core.frame.DataFrame'>\n",
      "Index: 115684 entries, 861371 to 977368\n",
      "Data columns (total 11 columns):\n",
      " #   Column        Non-Null Count   Dtype \n",
      "---  ------        --------------   ----- \n",
      " 0   JobID         115684 non-null  int64 \n",
      " 1   WindowID      115684 non-null  int64 \n",
      " 2   Title         115684 non-null  object\n",
      " 3   Description   115684 non-null  object\n",
      " 4   Requirements  115684 non-null  object\n",
      " 5   City          115684 non-null  object\n",
      " 6   State         115684 non-null  object\n",
      " 7   Country       115684 non-null  object\n",
      " 8   Zip5          71502 non-null   object\n",
      " 9   StartDate     115684 non-null  object\n",
      " 10  EndDate       115684 non-null  object\n",
      "dtypes: int64(2), object(9)\n",
      "memory usage: 10.6+ MB\n"
     ]
    }
   ],
   "source": [
    "job_set = jobs[(jobs.WindowID==6) & (jobs.Country==\"US\")].dropna(axis=0,subset=[\"Description\",\"Requirements\",\"Title\"])\n",
    "job_set.info()"
   ]
  },
  {
   "cell_type": "code",
   "execution_count": 28,
   "metadata": {},
   "outputs": [],
   "source": [
    "user_id = user_set.UserID.unique().tolist()\n",
    "job_id = job_set.JobID.unique().tolist()\n",
    "work_history = user_history[user_history.UserID.isin(user_id)]\n",
    "work_history.dropna(axis=0,subset=[\"JobTitle\"], inplace=True)\n",
    "\n",
    "application_record = apps[(apps.UserID.isin(user_id))&(apps.JobID.isin(job_id))]"
   ]
  },
  {
   "cell_type": "code",
   "execution_count": 29,
   "metadata": {},
   "outputs": [],
   "source": [
    "work_user_id = work_history.UserID.unique()\n",
    "application_user_id = application_record.UserID.unique()\n",
    "user_set = user_set[(user_set.UserID.isin(work_user_id))&(user_set.UserID.isin(application_user_id))]\n",
    "user_id = user_set.UserID.unique()\n",
    "application_record = application_record[application_record.UserID.isin(user_id)]\n",
    "work_history = work_history[work_history.UserID.isin(user_id)]"
   ]
  },
  {
   "cell_type": "code",
   "execution_count": 41,
   "metadata": {},
   "outputs": [],
   "source": [
    "user_set.to_csv(\"users.csv\", index=False)\n",
    "application_record.to_csv(\"application_record.csv\", index=False)\n",
    "work_history.to_csv(\"work_history.csv\", index=False)\n",
    "job_set.to_csv(\"jobs.csv\", index=False)"
   ]
  },
  {
   "cell_type": "markdown",
   "metadata": {},
   "source": [
    "**Negative-sampling**"
   ]
  },
  {
   "cell_type": "code",
   "execution_count": 35,
   "metadata": {},
   "outputs": [
    {
     "name": "stdout",
     "output_type": "stream",
     "text": [
      "<pandas.core.groupby.generic.DataFrameGroupBy object at 0x3c850bee0>\n"
     ]
    },
    {
     "name": "stderr",
     "output_type": "stream",
     "text": [
      "  0%|          | 0/25511 [00:00<?, ?it/s]"
     ]
    },
    {
     "name": "stdout",
     "output_type": "stream",
     "text": [
      "         UserID  WindowID Split          ApplicationDate   JobID\n",
      "1247132      13         6  Test  2012-06-19 15:36:38.583  821691\n",
      "\n",
      "\n",
      "\n",
      "13\n"
     ]
    },
    {
     "name": "stderr",
     "output_type": "stream",
     "text": [
      "\n"
     ]
    }
   ],
   "source": [
    "final_apps = pd.DataFrame(columns = [\"UserID\",\"JobID\",\"label\"])\n",
    "job_id = job_set.JobID.unique().tolist()\n",
    "groups = application_record.groupby(\"UserID\")\n",
    "user_ids = []\n",
    "job_ids = []\n",
    "labels = []\n",
    "\n",
    "print(groups)\n",
    "\n",
    "for id, group in tqdm(groups):\n",
    "    print(group)\n",
    "    print()\n",
    "    print()\n",
    "    print()\n",
    "    print(id)\n",
    "    break"
   ]
  },
  {
   "cell_type": "code",
   "execution_count": 36,
   "metadata": {},
   "outputs": [
    {
     "name": "stderr",
     "output_type": "stream",
     "text": [
      "100%|██████████| 25511/25511 [02:30<00:00, 169.63it/s]\n"
     ]
    }
   ],
   "source": [
    "for idx, group in tqdm(groups):\n",
    "    size = len(group)\n",
    "    exist_job = group.JobID.unique().tolist()\n",
    "    candidate_job = [i for i in job_id if i not in exist_job ]\n",
    "    sample_job = np.random.randint(0,len(candidate_job),size)\n",
    "    user_ids.extend([idx] * 2 * size)\n",
    "    exist_job.extend([candidate_job[i] for i in sample_job])\n",
    "    job_ids.extend(exist_job)\n",
    "    label = [1] * size\n",
    "    label.extend([0] * size)\n",
    "    labels.extend(label)\n",
    "\n",
    "final_apps.UserID = user_ids\n",
    "final_apps.JobID = job_ids\n",
    "final_apps.label = labels"
   ]
  },
  {
   "cell_type": "code",
   "execution_count": 38,
   "metadata": {},
   "outputs": [
    {
     "data": {
      "text/plain": [
       "label\n",
       "1    120436\n",
       "0    120436\n",
       "Name: count, dtype: int64"
      ]
     },
     "execution_count": 38,
     "metadata": {},
     "output_type": "execute_result"
    }
   ],
   "source": [
    "final_apps.label.value_counts()"
   ]
  },
  {
   "cell_type": "code",
   "execution_count": 39,
   "metadata": {},
   "outputs": [],
   "source": [
    "final_apps.to_csv(\"apps.csv\",index=False)"
   ]
  },
  {
   "cell_type": "code",
   "execution_count": null,
   "metadata": {},
   "outputs": [],
   "source": []
  },
  {
   "cell_type": "code",
   "execution_count": null,
   "metadata": {},
   "outputs": [],
   "source": []
  },
  {
   "cell_type": "markdown",
   "metadata": {},
   "source": [
    "**Cleaning Jobs Dataframe**"
   ]
  },
  {
   "cell_type": "code",
   "execution_count": 42,
   "metadata": {},
   "outputs": [],
   "source": [
    "jobs = pd.read_csv(\"jobs.csv\")"
   ]
  },
  {
   "cell_type": "code",
   "execution_count": 43,
   "metadata": {},
   "outputs": [],
   "source": [
    "import re\n",
    "\n",
    "removePattern = r'(<(.*?)>)|(&\\w+)'\n",
    "addSpacePattern = r'([;:])|(\\\\r)|(\\\\n)'\n",
    "removeExtraSpaces = r'(\\s\\s+?)(?=\\S)'\n",
    "\n",
    "jobs['DescCleaned'] = jobs['Description'].astype(str).str.lower()\n",
    "jobs['DescCleaned'] = jobs['DescCleaned'].apply(lambda x: re.sub(removePattern, \"\", x))\n",
    "jobs['DescCleaned'] = jobs['DescCleaned'].apply(lambda x: re.sub(addSpacePattern, \" \", x))\n",
    "jobs['DescCleaned'] = jobs['DescCleaned'].apply(lambda x: re.sub(removeExtraSpaces, \" \", x))\n",
    "# Similarly for requirements\n",
    "jobs['ReqCleaned'] = jobs['Requirements'].astype(str).str.lower()\n",
    "jobs['ReqCleaned'] = jobs['ReqCleaned'].apply(lambda x: re.sub(removePattern, \"\", x))\n",
    "jobs['ReqCleaned'] = jobs['ReqCleaned'].apply(lambda x: re.sub(addSpacePattern, \" \", x))\n",
    "jobs['ReqCleaned'] = jobs['ReqCleaned'].apply(lambda x: re.sub(removeExtraSpaces, \" \", x))\n"
   ]
  },
  {
   "cell_type": "code",
   "execution_count": 47,
   "metadata": {},
   "outputs": [],
   "source": [
    "jobs.drop(columns=['Description', 'Requirements'], inplace=True)"
   ]
  },
  {
   "cell_type": "code",
   "execution_count": 49,
   "metadata": {},
   "outputs": [],
   "source": [
    "jobs.to_csv(\"jobs.csv\", index=False)"
   ]
  },
  {
   "cell_type": "code",
   "execution_count": null,
   "metadata": {},
   "outputs": [],
   "source": []
  }
 ],
 "metadata": {
  "kernelspec": {
   "display_name": "Python 3",
   "language": "python",
   "name": "python3"
  },
  "language_info": {
   "codemirror_mode": {
    "name": "ipython",
    "version": 3
   },
   "file_extension": ".py",
   "mimetype": "text/x-python",
   "name": "python",
   "nbconvert_exporter": "python",
   "pygments_lexer": "ipython3",
   "version": "3.9.6"
  },
  "orig_nbformat": 4
 },
 "nbformat": 4,
 "nbformat_minor": 2
}
