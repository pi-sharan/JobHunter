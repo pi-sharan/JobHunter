{
  "cells": [
    {
      "cell_type": "code",
      "execution_count": 28,
      "metadata": {
        "id": "Oblo0vSztbyt"
      },
      "outputs": [],
      "source": [
        "%matplotlib inline\n",
        "import matplotlib.pyplot as plt\n",
        "import seaborn as sns\n",
        "import pandas as pd\n",
        "import numpy as np\n",
        "from scipy import stats\n",
        "from ast import literal_eval\n",
        "from sklearn.feature_extraction.text import TfidfVectorizer, CountVectorizer\n",
        "from sklearn.metrics.pairwise import linear_kernel, cosine_similarity\n",
        "from torch.utils.data import DataLoader, TensorDataset"
      ]
    },
    {
      "cell_type": "code",
      "execution_count": 29,
      "metadata": {
        "id": "YR7WVCwAtbyu"
      },
      "outputs": [],
      "source": [
        "apps_data = pd.read_csv('filtered_apps.csv')\n",
        "users_data = pd.read_csv('filtered_users.csv')\n",
        "jobs_data = pd.read_csv('filtered_jobs.csv')"
      ]
    },
    {
      "cell_type": "code",
      "execution_count": 30,
      "metadata": {
        "id": "7XHzRxOktbyv"
      },
      "outputs": [],
      "source": [
        "apps = apps_data.copy()\n",
        "users = users_data.copy()\n",
        "jobs = jobs_data.copy()"
      ]
    },
    {
      "cell_type": "code",
      "execution_count": 31,
      "metadata": {
        "id": "YvrP9Xeutbyv"
      },
      "outputs": [],
      "source": [
        "unique_JobID = apps['JobID'].unique()\n",
        "unique_UserID = apps['UserID'].unique()\n",
        "j = 0\n",
        "user_old2new_id_dict = dict()\n",
        "user_new2old_id_dict = dict()\n",
        "for u in unique_UserID:\n",
        "    user_old2new_id_dict[u] = j\n",
        "    user_new2old_id_dict[j] = u\n",
        "    j += 1\n",
        "j = 0\n",
        "job_old2new_id_dict = dict()\n",
        "job_new2old_id_dict = dict()\n",
        "for i in unique_JobID:\n",
        "    job_old2new_id_dict[i] = j\n",
        "    job_new2old_id_dict[j] = i\n",
        "    j += 1"
      ]
    },
    {
      "cell_type": "code",
      "execution_count": 32,
      "metadata": {
        "id": "mRZcPZJNtbyv"
      },
      "outputs": [],
      "source": [
        "user_list = apps['UserID'].values\n",
        "job_list = apps['JobID'].values\n",
        "for j in range(len(apps)):\n",
        "    user_list[j] = user_old2new_id_dict[user_list[j]]\n",
        "    job_list[j] = job_old2new_id_dict[job_list[j]]\n",
        "apps['UserID'] = user_list\n",
        "apps['JobID'] = job_list\n",
        "\n",
        "# generate train_df with 70% samples and test_df with 30% samples, and there should have no overlap between them.\n",
        "train_index = np.random.random(len(apps)) <= 0.7\n",
        "train_df = apps[train_index]\n",
        "test_df = apps[~train_index]"
      ]
    },
    {
      "cell_type": "code",
      "execution_count": 33,
      "metadata": {
        "colab": {
          "base_uri": "https://localhost:8080/"
        },
        "id": "h4rfh3t4tbyv",
        "outputId": "25bbeb41-fa92-49f0-92e2-ac82a02d3a7d"
      },
      "outputs": [
        {
          "name": "stderr",
          "output_type": "stream",
          "text": [
            "<ipython-input-33-f1ba62f7282d>:1: SettingWithCopyWarning: \n",
            "A value is trying to be set on a copy of a slice from a DataFrame.\n",
            "Try using .loc[row_indexer,col_indexer] = value instead\n",
            "\n",
            "See the caveats in the documentation: https://pandas.pydata.org/pandas-docs/stable/user_guide/indexing.html#returning-a-view-versus-a-copy\n",
            "  train_df['Applied?'] = 1\n",
            "<ipython-input-33-f1ba62f7282d>:2: SettingWithCopyWarning: \n",
            "A value is trying to be set on a copy of a slice from a DataFrame.\n",
            "Try using .loc[row_indexer,col_indexer] = value instead\n",
            "\n",
            "See the caveats in the documentation: https://pandas.pydata.org/pandas-docs/stable/user_guide/indexing.html#returning-a-view-versus-a-copy\n",
            "  test_df['Applied?'] = 1\n"
          ]
        }
      ],
      "source": [
        "train_df['Applied?'] = 1\n",
        "test_df['Applied?'] = 1\n",
        "\n",
        "from scipy.sparse import coo_matrix\n",
        "\n",
        "# generate train_mat and test_mat\n",
        "num_users = len(apps['UserID'].unique())\n",
        "num_jobs = len(apps['JobID'].unique())\n",
        "\n",
        "train_mat = coo_matrix((train_df['Applied?'].values, (train_df['UserID'].values, train_df['JobID'].values)), shape=(num_users, num_jobs)).astype(float).toarray()\n",
        "test_mat = coo_matrix((test_df['Applied?'].values, (test_df['UserID'].values, test_df['JobID'].values)), shape=(num_users, num_jobs)).astype(float).toarray()"
      ]
    },
    {
      "cell_type": "markdown",
      "metadata": {
        "id": "kFEEsBNHDyI4"
      },
      "source": [
        "## MF Model"
      ]
    },
    {
      "cell_type": "code",
      "execution_count": 34,
      "metadata": {
        "id": "ZCTEEVQftbyw"
      },
      "outputs": [],
      "source": [
        "def MF_PreTrained_Embeddings(latent_factors, num_epochs):\n",
        "  P = np.random.rand(num_users, latent_factors)\n",
        "  Q = np.random.rand(latent_factors, num_jobs)\n",
        "\n",
        "  a = 0.01\n",
        "  b = 0.01\n",
        "  train_loss = []\n",
        "  test_loss = []\n",
        "  nonzero_indices_train = np.nonzero(train_mat)\n",
        "  nonzero_indices_test = np.nonzero(test_mat)\n",
        "\n",
        "  for epoch in range(num_epochs):\n",
        "      for i in range(num_users):\n",
        "          for j in range(num_jobs):\n",
        "              if train_mat[i, j] > 0:\n",
        "                  diff = train_mat[i, j] - np.dot(P[i, :], Q[:, j])\n",
        "                  P[i, :] += a * (diff * Q[:, j] - b * P[i, :])\n",
        "                  Q[:, j] += a * (diff * P[i, :] - b * Q[:, j])\n",
        "\n",
        "      predicted_matrix = np.dot(P, Q)\n",
        "\n",
        "      rmse_train = np.sqrt(np.mean((predicted_matrix[nonzero_indices_train] - train_mat[nonzero_indices_train])**2))\n",
        "      rmse_test = np.sqrt(np.mean((predicted_matrix[nonzero_indices_test] - test_mat[nonzero_indices_test])**2))\n",
        "\n",
        "      train_loss.append(rmse_train)\n",
        "      test_loss.append(rmse_test)\n",
        "\n",
        "      print('Epoch', epoch + 1, 'of', num_epochs, end=': ')\n",
        "      print('RMSE Train Loss: {:.4f}'.format(rmse_train), end=', ')\n",
        "      print('RMSE Test Loss: {:.4f}'.format(rmse_test))\n",
        "\n",
        "  return P, Q"
      ]
    },
    {
      "cell_type": "code",
      "execution_count": 35,
      "metadata": {
        "colab": {
          "base_uri": "https://localhost:8080/"
        },
        "id": "hG-O01AStbyw",
        "outputId": "05d70c45-371e-4798-b2a5-450993914309"
      },
      "outputs": [
        {
          "name": "stdout",
          "output_type": "stream",
          "text": [
            "Epoch 1 of 20: RMSE Train Loss: 0.4065, RMSE Test Loss: 0.4238\n",
            "Epoch 2 of 20: RMSE Train Loss: 0.3336, RMSE Test Loss: 0.3606\n",
            "Epoch 3 of 20: RMSE Train Loss: 0.2874, RMSE Test Loss: 0.3206\n",
            "Epoch 4 of 20: RMSE Train Loss: 0.2549, RMSE Test Loss: 0.2923\n",
            "Epoch 5 of 20: RMSE Train Loss: 0.2305, RMSE Test Loss: 0.2709\n",
            "Epoch 6 of 20: RMSE Train Loss: 0.2114, RMSE Test Loss: 0.2540\n",
            "Epoch 7 of 20: RMSE Train Loss: 0.1958, RMSE Test Loss: 0.2401\n",
            "Epoch 8 of 20: RMSE Train Loss: 0.1829, RMSE Test Loss: 0.2286\n",
            "Epoch 9 of 20: RMSE Train Loss: 0.1720, RMSE Test Loss: 0.2187\n",
            "Epoch 10 of 20: RMSE Train Loss: 0.1625, RMSE Test Loss: 0.2101\n",
            "Epoch 11 of 20: RMSE Train Loss: 0.1544, RMSE Test Loss: 0.2026\n",
            "Epoch 12 of 20: RMSE Train Loss: 0.1471, RMSE Test Loss: 0.1960\n",
            "Epoch 13 of 20: RMSE Train Loss: 0.1407, RMSE Test Loss: 0.1901\n",
            "Epoch 14 of 20: RMSE Train Loss: 0.1350, RMSE Test Loss: 0.1848\n",
            "Epoch 15 of 20: RMSE Train Loss: 0.1298, RMSE Test Loss: 0.1799\n",
            "Epoch 16 of 20: RMSE Train Loss: 0.1251, RMSE Test Loss: 0.1755\n",
            "Epoch 17 of 20: RMSE Train Loss: 0.1209, RMSE Test Loss: 0.1715\n",
            "Epoch 18 of 20: RMSE Train Loss: 0.1169, RMSE Test Loss: 0.1678\n",
            "Epoch 19 of 20: RMSE Train Loss: 0.1133, RMSE Test Loss: 0.1643\n",
            "Epoch 20 of 20: RMSE Train Loss: 0.1099, RMSE Test Loss: 0.1611\n"
          ]
        }
      ],
      "source": [
        "latent_factors_for_MF = 5\n",
        "num_epochs = 20\n",
        "P1, Q1 = MF_PreTrained_Embeddings(latent_factors_for_MF, num_epochs)"
      ]
    },
    {
      "cell_type": "code",
      "execution_count": 66,
      "metadata": {
        "colab": {
          "base_uri": "https://localhost:8080/"
        },
        "id": "gDZKnfLPXg-Z",
        "outputId": "bcb07771-5c25-4dd5-98c1-9f5e3e939cb7"
      },
      "outputs": [
        {
          "data": {
            "text/plain": [
              "array([[ 0.61499939,  0.55747721,  0.6654069 ,  0.10410612,  0.25779505],\n",
              "       [ 0.59688402,  0.15283283,  0.71423659,  0.21701342,  0.43705078],\n",
              "       [ 0.48940721,  0.14444482,  0.69537756,  0.43325664,  0.36460837],\n",
              "       ...,\n",
              "       [ 0.72341687,  0.47670927,  0.32372443,  0.42536412,  0.15104292],\n",
              "       [ 0.61772317,  0.58924582, -0.05381008,  0.75106155,  0.58602578],\n",
              "       [ 0.26125577,  0.72023559,  0.68104296,  0.02240294,  0.59779581]])"
            ]
          },
          "execution_count": 66,
          "metadata": {},
          "output_type": "execute_result"
        }
      ],
      "source": [
        "P1"
      ]
    },
    {
      "cell_type": "code",
      "execution_count": 36,
      "metadata": {
        "colab": {
          "base_uri": "https://localhost:8080/",
          "height": 206
        },
        "id": "KAyvxcqntbyw",
        "outputId": "240267fe-f142-41cc-de8b-b40d0365a95c"
      },
      "outputs": [
        {
          "data": {
            "application/vnd.google.colaboratory.intrinsic+json": {
              "summary": "{\n  \"name\": \"train_df\",\n  \"rows\": 72799,\n  \"fields\": [\n    {\n      \"column\": \"UserID\",\n      \"properties\": {\n        \"dtype\": \"number\",\n        \"std\": 1765,\n        \"min\": 0,\n        \"max\": 6222,\n        \"num_unique_values\": 6057,\n        \"samples\": [\n          1067,\n          6096,\n          1091\n        ],\n        \"semantic_type\": \"\",\n        \"description\": \"\"\n      }\n    },\n    {\n      \"column\": \"WindowID\",\n      \"properties\": {\n        \"dtype\": \"number\",\n        \"std\": 1,\n        \"min\": 1,\n        \"max\": 7,\n        \"num_unique_values\": 7,\n        \"samples\": [\n          1,\n          2,\n          6\n        ],\n        \"semantic_type\": \"\",\n        \"description\": \"\"\n      }\n    },\n    {\n      \"column\": \"Split\",\n      \"properties\": {\n        \"dtype\": \"category\",\n        \"num_unique_values\": 2,\n        \"samples\": [\n          \"Test\",\n          \"Train\"\n        ],\n        \"semantic_type\": \"\",\n        \"description\": \"\"\n      }\n    },\n    {\n      \"column\": \"ApplicationDate\",\n      \"properties\": {\n        \"dtype\": \"string\",\n        \"num_unique_values\": 72614,\n        \"samples\": [\n          \"2012-04-01 13:22:01.55\",\n          \"2012-05-11 01:38:26.18\"\n        ],\n        \"semantic_type\": \"\",\n        \"description\": \"\"\n      }\n    },\n    {\n      \"column\": \"JobID\",\n      \"properties\": {\n        \"dtype\": \"number\",\n        \"std\": 1980,\n        \"min\": 0,\n        \"max\": 6970,\n        \"num_unique_values\": 6921,\n        \"samples\": [\n          618,\n          2953\n        ],\n        \"semantic_type\": \"\",\n        \"description\": \"\"\n      }\n    },\n    {\n      \"column\": \"Applied?\",\n      \"properties\": {\n        \"dtype\": \"number\",\n        \"std\": 0,\n        \"min\": 1,\n        \"max\": 1,\n        \"num_unique_values\": 1,\n        \"samples\": [\n          1\n        ],\n        \"semantic_type\": \"\",\n        \"description\": \"\"\n      }\n    }\n  ]\n}",
              "type": "dataframe",
              "variable_name": "train_df"
            },
            "text/html": [
              "\n",
              "  <div id=\"df-0a63edd2-da19-40f4-a52d-1e9d47ce0ebc\" class=\"colab-df-container\">\n",
              "    <div>\n",
              "<style scoped>\n",
              "    .dataframe tbody tr th:only-of-type {\n",
              "        vertical-align: middle;\n",
              "    }\n",
              "\n",
              "    .dataframe tbody tr th {\n",
              "        vertical-align: top;\n",
              "    }\n",
              "\n",
              "    .dataframe thead th {\n",
              "        text-align: right;\n",
              "    }\n",
              "</style>\n",
              "<table border=\"1\" class=\"dataframe\">\n",
              "  <thead>\n",
              "    <tr style=\"text-align: right;\">\n",
              "      <th></th>\n",
              "      <th>UserID</th>\n",
              "      <th>WindowID</th>\n",
              "      <th>Split</th>\n",
              "      <th>ApplicationDate</th>\n",
              "      <th>JobID</th>\n",
              "      <th>Applied?</th>\n",
              "    </tr>\n",
              "  </thead>\n",
              "  <tbody>\n",
              "    <tr>\n",
              "      <th>0</th>\n",
              "      <td>0</td>\n",
              "      <td>1</td>\n",
              "      <td>Train</td>\n",
              "      <td>2012-04-02 11:05:25.333</td>\n",
              "      <td>0</td>\n",
              "      <td>1</td>\n",
              "    </tr>\n",
              "    <tr>\n",
              "      <th>1</th>\n",
              "      <td>0</td>\n",
              "      <td>1</td>\n",
              "      <td>Train</td>\n",
              "      <td>2012-04-02 05:08:41.413</td>\n",
              "      <td>1</td>\n",
              "      <td>1</td>\n",
              "    </tr>\n",
              "    <tr>\n",
              "      <th>3</th>\n",
              "      <td>0</td>\n",
              "      <td>1</td>\n",
              "      <td>Train</td>\n",
              "      <td>2012-04-02 11:05:25.833</td>\n",
              "      <td>3</td>\n",
              "      <td>1</td>\n",
              "    </tr>\n",
              "    <tr>\n",
              "      <th>4</th>\n",
              "      <td>0</td>\n",
              "      <td>1</td>\n",
              "      <td>Train</td>\n",
              "      <td>2012-04-02 11:05:25.76</td>\n",
              "      <td>4</td>\n",
              "      <td>1</td>\n",
              "    </tr>\n",
              "    <tr>\n",
              "      <th>5</th>\n",
              "      <td>0</td>\n",
              "      <td>1</td>\n",
              "      <td>Train</td>\n",
              "      <td>2012-04-02 05:08:44.72</td>\n",
              "      <td>5</td>\n",
              "      <td>1</td>\n",
              "    </tr>\n",
              "  </tbody>\n",
              "</table>\n",
              "</div>\n",
              "    <div class=\"colab-df-buttons\">\n",
              "\n",
              "  <div class=\"colab-df-container\">\n",
              "    <button class=\"colab-df-convert\" onclick=\"convertToInteractive('df-0a63edd2-da19-40f4-a52d-1e9d47ce0ebc')\"\n",
              "            title=\"Convert this dataframe to an interactive table.\"\n",
              "            style=\"display:none;\">\n",
              "\n",
              "  <svg xmlns=\"http://www.w3.org/2000/svg\" height=\"24px\" viewBox=\"0 -960 960 960\">\n",
              "    <path d=\"M120-120v-720h720v720H120Zm60-500h600v-160H180v160Zm220 220h160v-160H400v160Zm0 220h160v-160H400v160ZM180-400h160v-160H180v160Zm440 0h160v-160H620v160ZM180-180h160v-160H180v160Zm440 0h160v-160H620v160Z\"/>\n",
              "  </svg>\n",
              "    </button>\n",
              "\n",
              "  <style>\n",
              "    .colab-df-container {\n",
              "      display:flex;\n",
              "      gap: 12px;\n",
              "    }\n",
              "\n",
              "    .colab-df-convert {\n",
              "      background-color: #E8F0FE;\n",
              "      border: none;\n",
              "      border-radius: 50%;\n",
              "      cursor: pointer;\n",
              "      display: none;\n",
              "      fill: #1967D2;\n",
              "      height: 32px;\n",
              "      padding: 0 0 0 0;\n",
              "      width: 32px;\n",
              "    }\n",
              "\n",
              "    .colab-df-convert:hover {\n",
              "      background-color: #E2EBFA;\n",
              "      box-shadow: 0px 1px 2px rgba(60, 64, 67, 0.3), 0px 1px 3px 1px rgba(60, 64, 67, 0.15);\n",
              "      fill: #174EA6;\n",
              "    }\n",
              "\n",
              "    .colab-df-buttons div {\n",
              "      margin-bottom: 4px;\n",
              "    }\n",
              "\n",
              "    [theme=dark] .colab-df-convert {\n",
              "      background-color: #3B4455;\n",
              "      fill: #D2E3FC;\n",
              "    }\n",
              "\n",
              "    [theme=dark] .colab-df-convert:hover {\n",
              "      background-color: #434B5C;\n",
              "      box-shadow: 0px 1px 3px 1px rgba(0, 0, 0, 0.15);\n",
              "      filter: drop-shadow(0px 1px 2px rgba(0, 0, 0, 0.3));\n",
              "      fill: #FFFFFF;\n",
              "    }\n",
              "  </style>\n",
              "\n",
              "    <script>\n",
              "      const buttonEl =\n",
              "        document.querySelector('#df-0a63edd2-da19-40f4-a52d-1e9d47ce0ebc button.colab-df-convert');\n",
              "      buttonEl.style.display =\n",
              "        google.colab.kernel.accessAllowed ? 'block' : 'none';\n",
              "\n",
              "      async function convertToInteractive(key) {\n",
              "        const element = document.querySelector('#df-0a63edd2-da19-40f4-a52d-1e9d47ce0ebc');\n",
              "        const dataTable =\n",
              "          await google.colab.kernel.invokeFunction('convertToInteractive',\n",
              "                                                    [key], {});\n",
              "        if (!dataTable) return;\n",
              "\n",
              "        const docLinkHtml = 'Like what you see? Visit the ' +\n",
              "          '<a target=\"_blank\" href=https://colab.research.google.com/notebooks/data_table.ipynb>data table notebook</a>'\n",
              "          + ' to learn more about interactive tables.';\n",
              "        element.innerHTML = '';\n",
              "        dataTable['output_type'] = 'display_data';\n",
              "        await google.colab.output.renderOutput(dataTable, element);\n",
              "        const docLink = document.createElement('div');\n",
              "        docLink.innerHTML = docLinkHtml;\n",
              "        element.appendChild(docLink);\n",
              "      }\n",
              "    </script>\n",
              "  </div>\n",
              "\n",
              "\n",
              "<div id=\"df-589573c6-89ed-4807-809c-7c0b2bfa8c65\">\n",
              "  <button class=\"colab-df-quickchart\" onclick=\"quickchart('df-589573c6-89ed-4807-809c-7c0b2bfa8c65')\"\n",
              "            title=\"Suggest charts\"\n",
              "            style=\"display:none;\">\n",
              "\n",
              "<svg xmlns=\"http://www.w3.org/2000/svg\" height=\"24px\"viewBox=\"0 0 24 24\"\n",
              "     width=\"24px\">\n",
              "    <g>\n",
              "        <path d=\"M19 3H5c-1.1 0-2 .9-2 2v14c0 1.1.9 2 2 2h14c1.1 0 2-.9 2-2V5c0-1.1-.9-2-2-2zM9 17H7v-7h2v7zm4 0h-2V7h2v10zm4 0h-2v-4h2v4z\"/>\n",
              "    </g>\n",
              "</svg>\n",
              "  </button>\n",
              "\n",
              "<style>\n",
              "  .colab-df-quickchart {\n",
              "      --bg-color: #E8F0FE;\n",
              "      --fill-color: #1967D2;\n",
              "      --hover-bg-color: #E2EBFA;\n",
              "      --hover-fill-color: #174EA6;\n",
              "      --disabled-fill-color: #AAA;\n",
              "      --disabled-bg-color: #DDD;\n",
              "  }\n",
              "\n",
              "  [theme=dark] .colab-df-quickchart {\n",
              "      --bg-color: #3B4455;\n",
              "      --fill-color: #D2E3FC;\n",
              "      --hover-bg-color: #434B5C;\n",
              "      --hover-fill-color: #FFFFFF;\n",
              "      --disabled-bg-color: #3B4455;\n",
              "      --disabled-fill-color: #666;\n",
              "  }\n",
              "\n",
              "  .colab-df-quickchart {\n",
              "    background-color: var(--bg-color);\n",
              "    border: none;\n",
              "    border-radius: 50%;\n",
              "    cursor: pointer;\n",
              "    display: none;\n",
              "    fill: var(--fill-color);\n",
              "    height: 32px;\n",
              "    padding: 0;\n",
              "    width: 32px;\n",
              "  }\n",
              "\n",
              "  .colab-df-quickchart:hover {\n",
              "    background-color: var(--hover-bg-color);\n",
              "    box-shadow: 0 1px 2px rgba(60, 64, 67, 0.3), 0 1px 3px 1px rgba(60, 64, 67, 0.15);\n",
              "    fill: var(--button-hover-fill-color);\n",
              "  }\n",
              "\n",
              "  .colab-df-quickchart-complete:disabled,\n",
              "  .colab-df-quickchart-complete:disabled:hover {\n",
              "    background-color: var(--disabled-bg-color);\n",
              "    fill: var(--disabled-fill-color);\n",
              "    box-shadow: none;\n",
              "  }\n",
              "\n",
              "  .colab-df-spinner {\n",
              "    border: 2px solid var(--fill-color);\n",
              "    border-color: transparent;\n",
              "    border-bottom-color: var(--fill-color);\n",
              "    animation:\n",
              "      spin 1s steps(1) infinite;\n",
              "  }\n",
              "\n",
              "  @keyframes spin {\n",
              "    0% {\n",
              "      border-color: transparent;\n",
              "      border-bottom-color: var(--fill-color);\n",
              "      border-left-color: var(--fill-color);\n",
              "    }\n",
              "    20% {\n",
              "      border-color: transparent;\n",
              "      border-left-color: var(--fill-color);\n",
              "      border-top-color: var(--fill-color);\n",
              "    }\n",
              "    30% {\n",
              "      border-color: transparent;\n",
              "      border-left-color: var(--fill-color);\n",
              "      border-top-color: var(--fill-color);\n",
              "      border-right-color: var(--fill-color);\n",
              "    }\n",
              "    40% {\n",
              "      border-color: transparent;\n",
              "      border-right-color: var(--fill-color);\n",
              "      border-top-color: var(--fill-color);\n",
              "    }\n",
              "    60% {\n",
              "      border-color: transparent;\n",
              "      border-right-color: var(--fill-color);\n",
              "    }\n",
              "    80% {\n",
              "      border-color: transparent;\n",
              "      border-right-color: var(--fill-color);\n",
              "      border-bottom-color: var(--fill-color);\n",
              "    }\n",
              "    90% {\n",
              "      border-color: transparent;\n",
              "      border-bottom-color: var(--fill-color);\n",
              "    }\n",
              "  }\n",
              "</style>\n",
              "\n",
              "  <script>\n",
              "    async function quickchart(key) {\n",
              "      const quickchartButtonEl =\n",
              "        document.querySelector('#' + key + ' button');\n",
              "      quickchartButtonEl.disabled = true;  // To prevent multiple clicks.\n",
              "      quickchartButtonEl.classList.add('colab-df-spinner');\n",
              "      try {\n",
              "        const charts = await google.colab.kernel.invokeFunction(\n",
              "            'suggestCharts', [key], {});\n",
              "      } catch (error) {\n",
              "        console.error('Error during call to suggestCharts:', error);\n",
              "      }\n",
              "      quickchartButtonEl.classList.remove('colab-df-spinner');\n",
              "      quickchartButtonEl.classList.add('colab-df-quickchart-complete');\n",
              "    }\n",
              "    (() => {\n",
              "      let quickchartButtonEl =\n",
              "        document.querySelector('#df-589573c6-89ed-4807-809c-7c0b2bfa8c65 button');\n",
              "      quickchartButtonEl.style.display =\n",
              "        google.colab.kernel.accessAllowed ? 'block' : 'none';\n",
              "    })();\n",
              "  </script>\n",
              "</div>\n",
              "\n",
              "    </div>\n",
              "  </div>\n"
            ],
            "text/plain": [
              "   UserID  WindowID  Split          ApplicationDate  JobID  Applied?\n",
              "0       0         1  Train  2012-04-02 11:05:25.333      0         1\n",
              "1       0         1  Train  2012-04-02 05:08:41.413      1         1\n",
              "3       0         1  Train  2012-04-02 11:05:25.833      3         1\n",
              "4       0         1  Train   2012-04-02 11:05:25.76      4         1\n",
              "5       0         1  Train   2012-04-02 05:08:44.72      5         1"
            ]
          },
          "execution_count": 36,
          "metadata": {},
          "output_type": "execute_result"
        }
      ],
      "source": [
        "train_df.head()"
      ]
    },
    {
      "cell_type": "code",
      "execution_count": 37,
      "metadata": {
        "colab": {
          "base_uri": "https://localhost:8080/",
          "height": 206
        },
        "id": "7mKRIcDqtbyw",
        "outputId": "754a30d7-1ddc-4d4f-9070-45184d9a7a90"
      },
      "outputs": [
        {
          "data": {
            "application/vnd.google.colaboratory.intrinsic+json": {
              "summary": "{\n  \"name\": \"test_df\",\n  \"rows\": 30766,\n  \"fields\": [\n    {\n      \"column\": \"UserID\",\n      \"properties\": {\n        \"dtype\": \"number\",\n        \"std\": 1769,\n        \"min\": 0,\n        \"max\": 6222,\n        \"num_unique_values\": 5400,\n        \"samples\": [\n          2884,\n          1225,\n          3662\n        ],\n        \"semantic_type\": \"\",\n        \"description\": \"\"\n      }\n    },\n    {\n      \"column\": \"WindowID\",\n      \"properties\": {\n        \"dtype\": \"number\",\n        \"std\": 1,\n        \"min\": 1,\n        \"max\": 7,\n        \"num_unique_values\": 7,\n        \"samples\": [\n          1,\n          2,\n          6\n        ],\n        \"semantic_type\": \"\",\n        \"description\": \"\"\n      }\n    },\n    {\n      \"column\": \"Split\",\n      \"properties\": {\n        \"dtype\": \"category\",\n        \"num_unique_values\": 2,\n        \"samples\": [\n          \"Test\",\n          \"Train\"\n        ],\n        \"semantic_type\": \"\",\n        \"description\": \"\"\n      }\n    },\n    {\n      \"column\": \"ApplicationDate\",\n      \"properties\": {\n        \"dtype\": \"string\",\n        \"num_unique_values\": 30739,\n        \"samples\": [\n          \"2012-05-30 12:52:39.673\",\n          \"2012-05-14 13:06:14.863\"\n        ],\n        \"semantic_type\": \"\",\n        \"description\": \"\"\n      }\n    },\n    {\n      \"column\": \"JobID\",\n      \"properties\": {\n        \"dtype\": \"number\",\n        \"std\": 1989,\n        \"min\": 0,\n        \"max\": 6968,\n        \"num_unique_values\": 6538,\n        \"samples\": [\n          4769,\n          320\n        ],\n        \"semantic_type\": \"\",\n        \"description\": \"\"\n      }\n    },\n    {\n      \"column\": \"Applied?\",\n      \"properties\": {\n        \"dtype\": \"number\",\n        \"std\": 0,\n        \"min\": 1,\n        \"max\": 1,\n        \"num_unique_values\": 1,\n        \"samples\": [\n          1\n        ],\n        \"semantic_type\": \"\",\n        \"description\": \"\"\n      }\n    }\n  ]\n}",
              "type": "dataframe",
              "variable_name": "test_df"
            },
            "text/html": [
              "\n",
              "  <div id=\"df-956c7d77-8f47-49d9-a355-80c5128ace01\" class=\"colab-df-container\">\n",
              "    <div>\n",
              "<style scoped>\n",
              "    .dataframe tbody tr th:only-of-type {\n",
              "        vertical-align: middle;\n",
              "    }\n",
              "\n",
              "    .dataframe tbody tr th {\n",
              "        vertical-align: top;\n",
              "    }\n",
              "\n",
              "    .dataframe thead th {\n",
              "        text-align: right;\n",
              "    }\n",
              "</style>\n",
              "<table border=\"1\" class=\"dataframe\">\n",
              "  <thead>\n",
              "    <tr style=\"text-align: right;\">\n",
              "      <th></th>\n",
              "      <th>UserID</th>\n",
              "      <th>WindowID</th>\n",
              "      <th>Split</th>\n",
              "      <th>ApplicationDate</th>\n",
              "      <th>JobID</th>\n",
              "      <th>Applied?</th>\n",
              "    </tr>\n",
              "  </thead>\n",
              "  <tbody>\n",
              "    <tr>\n",
              "      <th>2</th>\n",
              "      <td>0</td>\n",
              "      <td>1</td>\n",
              "      <td>Train</td>\n",
              "      <td>2012-04-02 11:05:24.333</td>\n",
              "      <td>2</td>\n",
              "      <td>1</td>\n",
              "    </tr>\n",
              "    <tr>\n",
              "      <th>8</th>\n",
              "      <td>0</td>\n",
              "      <td>1</td>\n",
              "      <td>Train</td>\n",
              "      <td>2012-04-02 05:08:40.687</td>\n",
              "      <td>8</td>\n",
              "      <td>1</td>\n",
              "    </tr>\n",
              "    <tr>\n",
              "      <th>10</th>\n",
              "      <td>0</td>\n",
              "      <td>1</td>\n",
              "      <td>Train</td>\n",
              "      <td>2012-04-02 11:05:23.78</td>\n",
              "      <td>10</td>\n",
              "      <td>1</td>\n",
              "    </tr>\n",
              "    <tr>\n",
              "      <th>12</th>\n",
              "      <td>0</td>\n",
              "      <td>1</td>\n",
              "      <td>Train</td>\n",
              "      <td>2012-04-02 11:05:25.01</td>\n",
              "      <td>12</td>\n",
              "      <td>1</td>\n",
              "    </tr>\n",
              "    <tr>\n",
              "      <th>15</th>\n",
              "      <td>0</td>\n",
              "      <td>1</td>\n",
              "      <td>Train</td>\n",
              "      <td>2012-04-02 11:05:25.1</td>\n",
              "      <td>15</td>\n",
              "      <td>1</td>\n",
              "    </tr>\n",
              "  </tbody>\n",
              "</table>\n",
              "</div>\n",
              "    <div class=\"colab-df-buttons\">\n",
              "\n",
              "  <div class=\"colab-df-container\">\n",
              "    <button class=\"colab-df-convert\" onclick=\"convertToInteractive('df-956c7d77-8f47-49d9-a355-80c5128ace01')\"\n",
              "            title=\"Convert this dataframe to an interactive table.\"\n",
              "            style=\"display:none;\">\n",
              "\n",
              "  <svg xmlns=\"http://www.w3.org/2000/svg\" height=\"24px\" viewBox=\"0 -960 960 960\">\n",
              "    <path d=\"M120-120v-720h720v720H120Zm60-500h600v-160H180v160Zm220 220h160v-160H400v160Zm0 220h160v-160H400v160ZM180-400h160v-160H180v160Zm440 0h160v-160H620v160ZM180-180h160v-160H180v160Zm440 0h160v-160H620v160Z\"/>\n",
              "  </svg>\n",
              "    </button>\n",
              "\n",
              "  <style>\n",
              "    .colab-df-container {\n",
              "      display:flex;\n",
              "      gap: 12px;\n",
              "    }\n",
              "\n",
              "    .colab-df-convert {\n",
              "      background-color: #E8F0FE;\n",
              "      border: none;\n",
              "      border-radius: 50%;\n",
              "      cursor: pointer;\n",
              "      display: none;\n",
              "      fill: #1967D2;\n",
              "      height: 32px;\n",
              "      padding: 0 0 0 0;\n",
              "      width: 32px;\n",
              "    }\n",
              "\n",
              "    .colab-df-convert:hover {\n",
              "      background-color: #E2EBFA;\n",
              "      box-shadow: 0px 1px 2px rgba(60, 64, 67, 0.3), 0px 1px 3px 1px rgba(60, 64, 67, 0.15);\n",
              "      fill: #174EA6;\n",
              "    }\n",
              "\n",
              "    .colab-df-buttons div {\n",
              "      margin-bottom: 4px;\n",
              "    }\n",
              "\n",
              "    [theme=dark] .colab-df-convert {\n",
              "      background-color: #3B4455;\n",
              "      fill: #D2E3FC;\n",
              "    }\n",
              "\n",
              "    [theme=dark] .colab-df-convert:hover {\n",
              "      background-color: #434B5C;\n",
              "      box-shadow: 0px 1px 3px 1px rgba(0, 0, 0, 0.15);\n",
              "      filter: drop-shadow(0px 1px 2px rgba(0, 0, 0, 0.3));\n",
              "      fill: #FFFFFF;\n",
              "    }\n",
              "  </style>\n",
              "\n",
              "    <script>\n",
              "      const buttonEl =\n",
              "        document.querySelector('#df-956c7d77-8f47-49d9-a355-80c5128ace01 button.colab-df-convert');\n",
              "      buttonEl.style.display =\n",
              "        google.colab.kernel.accessAllowed ? 'block' : 'none';\n",
              "\n",
              "      async function convertToInteractive(key) {\n",
              "        const element = document.querySelector('#df-956c7d77-8f47-49d9-a355-80c5128ace01');\n",
              "        const dataTable =\n",
              "          await google.colab.kernel.invokeFunction('convertToInteractive',\n",
              "                                                    [key], {});\n",
              "        if (!dataTable) return;\n",
              "\n",
              "        const docLinkHtml = 'Like what you see? Visit the ' +\n",
              "          '<a target=\"_blank\" href=https://colab.research.google.com/notebooks/data_table.ipynb>data table notebook</a>'\n",
              "          + ' to learn more about interactive tables.';\n",
              "        element.innerHTML = '';\n",
              "        dataTable['output_type'] = 'display_data';\n",
              "        await google.colab.output.renderOutput(dataTable, element);\n",
              "        const docLink = document.createElement('div');\n",
              "        docLink.innerHTML = docLinkHtml;\n",
              "        element.appendChild(docLink);\n",
              "      }\n",
              "    </script>\n",
              "  </div>\n",
              "\n",
              "\n",
              "<div id=\"df-8074c806-7c52-48d8-9979-ba5b8ce16728\">\n",
              "  <button class=\"colab-df-quickchart\" onclick=\"quickchart('df-8074c806-7c52-48d8-9979-ba5b8ce16728')\"\n",
              "            title=\"Suggest charts\"\n",
              "            style=\"display:none;\">\n",
              "\n",
              "<svg xmlns=\"http://www.w3.org/2000/svg\" height=\"24px\"viewBox=\"0 0 24 24\"\n",
              "     width=\"24px\">\n",
              "    <g>\n",
              "        <path d=\"M19 3H5c-1.1 0-2 .9-2 2v14c0 1.1.9 2 2 2h14c1.1 0 2-.9 2-2V5c0-1.1-.9-2-2-2zM9 17H7v-7h2v7zm4 0h-2V7h2v10zm4 0h-2v-4h2v4z\"/>\n",
              "    </g>\n",
              "</svg>\n",
              "  </button>\n",
              "\n",
              "<style>\n",
              "  .colab-df-quickchart {\n",
              "      --bg-color: #E8F0FE;\n",
              "      --fill-color: #1967D2;\n",
              "      --hover-bg-color: #E2EBFA;\n",
              "      --hover-fill-color: #174EA6;\n",
              "      --disabled-fill-color: #AAA;\n",
              "      --disabled-bg-color: #DDD;\n",
              "  }\n",
              "\n",
              "  [theme=dark] .colab-df-quickchart {\n",
              "      --bg-color: #3B4455;\n",
              "      --fill-color: #D2E3FC;\n",
              "      --hover-bg-color: #434B5C;\n",
              "      --hover-fill-color: #FFFFFF;\n",
              "      --disabled-bg-color: #3B4455;\n",
              "      --disabled-fill-color: #666;\n",
              "  }\n",
              "\n",
              "  .colab-df-quickchart {\n",
              "    background-color: var(--bg-color);\n",
              "    border: none;\n",
              "    border-radius: 50%;\n",
              "    cursor: pointer;\n",
              "    display: none;\n",
              "    fill: var(--fill-color);\n",
              "    height: 32px;\n",
              "    padding: 0;\n",
              "    width: 32px;\n",
              "  }\n",
              "\n",
              "  .colab-df-quickchart:hover {\n",
              "    background-color: var(--hover-bg-color);\n",
              "    box-shadow: 0 1px 2px rgba(60, 64, 67, 0.3), 0 1px 3px 1px rgba(60, 64, 67, 0.15);\n",
              "    fill: var(--button-hover-fill-color);\n",
              "  }\n",
              "\n",
              "  .colab-df-quickchart-complete:disabled,\n",
              "  .colab-df-quickchart-complete:disabled:hover {\n",
              "    background-color: var(--disabled-bg-color);\n",
              "    fill: var(--disabled-fill-color);\n",
              "    box-shadow: none;\n",
              "  }\n",
              "\n",
              "  .colab-df-spinner {\n",
              "    border: 2px solid var(--fill-color);\n",
              "    border-color: transparent;\n",
              "    border-bottom-color: var(--fill-color);\n",
              "    animation:\n",
              "      spin 1s steps(1) infinite;\n",
              "  }\n",
              "\n",
              "  @keyframes spin {\n",
              "    0% {\n",
              "      border-color: transparent;\n",
              "      border-bottom-color: var(--fill-color);\n",
              "      border-left-color: var(--fill-color);\n",
              "    }\n",
              "    20% {\n",
              "      border-color: transparent;\n",
              "      border-left-color: var(--fill-color);\n",
              "      border-top-color: var(--fill-color);\n",
              "    }\n",
              "    30% {\n",
              "      border-color: transparent;\n",
              "      border-left-color: var(--fill-color);\n",
              "      border-top-color: var(--fill-color);\n",
              "      border-right-color: var(--fill-color);\n",
              "    }\n",
              "    40% {\n",
              "      border-color: transparent;\n",
              "      border-right-color: var(--fill-color);\n",
              "      border-top-color: var(--fill-color);\n",
              "    }\n",
              "    60% {\n",
              "      border-color: transparent;\n",
              "      border-right-color: var(--fill-color);\n",
              "    }\n",
              "    80% {\n",
              "      border-color: transparent;\n",
              "      border-right-color: var(--fill-color);\n",
              "      border-bottom-color: var(--fill-color);\n",
              "    }\n",
              "    90% {\n",
              "      border-color: transparent;\n",
              "      border-bottom-color: var(--fill-color);\n",
              "    }\n",
              "  }\n",
              "</style>\n",
              "\n",
              "  <script>\n",
              "    async function quickchart(key) {\n",
              "      const quickchartButtonEl =\n",
              "        document.querySelector('#' + key + ' button');\n",
              "      quickchartButtonEl.disabled = true;  // To prevent multiple clicks.\n",
              "      quickchartButtonEl.classList.add('colab-df-spinner');\n",
              "      try {\n",
              "        const charts = await google.colab.kernel.invokeFunction(\n",
              "            'suggestCharts', [key], {});\n",
              "      } catch (error) {\n",
              "        console.error('Error during call to suggestCharts:', error);\n",
              "      }\n",
              "      quickchartButtonEl.classList.remove('colab-df-spinner');\n",
              "      quickchartButtonEl.classList.add('colab-df-quickchart-complete');\n",
              "    }\n",
              "    (() => {\n",
              "      let quickchartButtonEl =\n",
              "        document.querySelector('#df-8074c806-7c52-48d8-9979-ba5b8ce16728 button');\n",
              "      quickchartButtonEl.style.display =\n",
              "        google.colab.kernel.accessAllowed ? 'block' : 'none';\n",
              "    })();\n",
              "  </script>\n",
              "</div>\n",
              "\n",
              "    </div>\n",
              "  </div>\n"
            ],
            "text/plain": [
              "    UserID  WindowID  Split          ApplicationDate  JobID  Applied?\n",
              "2        0         1  Train  2012-04-02 11:05:24.333      2         1\n",
              "8        0         1  Train  2012-04-02 05:08:40.687      8         1\n",
              "10       0         1  Train   2012-04-02 11:05:23.78     10         1\n",
              "12       0         1  Train   2012-04-02 11:05:25.01     12         1\n",
              "15       0         1  Train    2012-04-02 11:05:25.1     15         1"
            ]
          },
          "execution_count": 37,
          "metadata": {},
          "output_type": "execute_result"
        }
      ],
      "source": [
        "test_df.head()"
      ]
    },
    {
      "cell_type": "code",
      "execution_count": 38,
      "metadata": {
        "id": "7SRKHypOtbyw"
      },
      "outputs": [],
      "source": [
        "from torch.utils.data import DataLoader, TensorDataset\n",
        "import torch\n",
        "train_user_ids = torch.LongTensor(train_df['UserID'].values)\n",
        "train_job_ids = torch.LongTensor(train_df['JobID'].values)\n",
        "train_job_features = torch.FloatTensor(train_df['Applied?'].values.astype(np.float32))\n",
        "\n",
        "train_dataset = TensorDataset(train_user_ids, train_job_ids, train_job_features)\n",
        "batch_size = 256\n",
        "\n",
        "# Create a DataLoader that generates batches of data\n",
        "train_dataloader = DataLoader(train_dataset, batch_size=batch_size, shuffle=True)\n",
        "\n",
        "test_user_ids = torch.LongTensor(test_df['UserID'].values)\n",
        "test_job_ids = torch.LongTensor(test_df['JobID'].values)\n",
        "test_job_features = torch.FloatTensor(test_df['Applied?'].values.astype(np.float32))\n",
        "\n",
        "test_dataset = TensorDataset(test_user_ids, test_job_ids, test_job_features)\n",
        "\n",
        "# Create a DataLoader that generates batches of data\n",
        "test_dataloader = DataLoader(test_dataset, batch_size=batch_size, shuffle=True)"
      ]
    },
    {
      "cell_type": "code",
      "execution_count": 39,
      "metadata": {
        "colab": {
          "base_uri": "https://localhost:8080/"
        },
        "id": "yjR8h876tbyw",
        "outputId": "ee521daf-bd8b-4054-8c2a-aab7057f7783"
      },
      "outputs": [
        {
          "data": {
            "text/plain": [
              "<torch.utils.data.dataloader.DataLoader at 0x7e21894fbf10>"
            ]
          },
          "execution_count": 39,
          "metadata": {},
          "output_type": "execute_result"
        }
      ],
      "source": [
        "train_dataloader"
      ]
    },
    {
      "cell_type": "markdown",
      "metadata": {
        "id": "zsDiYz8EDrB0"
      },
      "source": [
        "## NCF Model"
      ]
    },
    {
      "cell_type": "code",
      "execution_count": 48,
      "metadata": {
        "id": "KLzlf5v9uEBI"
      },
      "outputs": [],
      "source": [
        "import torch\n",
        "from torch.utils.data import DataLoader\n",
        "import torch.nn as nn\n",
        "import numpy as np\n",
        "\n",
        "# Define your NCF model\n",
        "class NCF(nn.Module):\n",
        "    def __init__(self, num_users, num_items, embedding_dim, hidden_dim, pretrained_user_embs, pretrained_item_embs):\n",
        "        super(NCF, self).__init__()\n",
        "        self.user_embedding = nn.Embedding(num_users, embedding_dim)\n",
        "        self.item_embedding = nn.Embedding(num_items, embedding_dim)\n",
        "        self.fc_layers = nn.Sequential(\n",
        "            nn.Linear(embedding_dim * 2, hidden_dim),\n",
        "            nn.ReLU(),\n",
        "            nn.Linear(hidden_dim, 1)\n",
        "        )\n",
        "        if pretrained_user_embs is not None:\n",
        "            self.user_embedding.weight.data.copy_(torch.from_numpy(pretrained_user_embs))\n",
        "        if pretrained_item_embs is not None:\n",
        "            self.item_embedding.weight.data.copy_(torch.from_numpy(pretrained_item_embs))\n",
        "\n",
        "    def forward(self, user, item):\n",
        "        user_embed = self.user_embedding(user)\n",
        "        item_embed = self.item_embedding(item)\n",
        "        concat_embed = torch.cat((user_embed, item_embed), -1)\n",
        "        out = self.fc_layers(concat_embed)\n",
        "        return out.squeeze(), user_embed, item_embed  # Return user and item embeddings\n",
        "\n"
      ]
    },
    {
      "cell_type": "code",
      "execution_count": 73,
      "metadata": {
        "id": "4FGjrO8i-PfP"
      },
      "outputs": [],
      "source": [
        "def train_NCF(model, train_loader, test_loader, lr, num_epochs):\n",
        "    loss_fn = nn.BCEWithLogitsLoss()\n",
        "    optimizer = torch.optim.Adam(model.parameters(), lr=lr)\n",
        "    train_loss = []\n",
        "    test_loss = []\n",
        "    user_latent = []\n",
        "    item_latent = []\n",
        "\n",
        "    for epoch in range(num_epochs):\n",
        "        model.train()\n",
        "        running_train_loss = []\n",
        "\n",
        "        for user, item, ifApplied in train_loader:\n",
        "            optimizer.zero_grad()\n",
        "            output, user_embed, item_embed = model(user, item)  # Get user and item embeddings\n",
        "            loss = loss_fn(output, ifApplied.float())  # Convert ifApplied to float\n",
        "            loss.backward()\n",
        "            optimizer.step()\n",
        "            running_train_loss.append(loss.item())\n",
        "\n",
        "        model.eval()\n",
        "        running_test_loss = []\n",
        "\n",
        "        with torch.no_grad():\n",
        "            for user, item, ifApplied in test_loader:\n",
        "                output, _, _ = model(user, item)  # Discard user and item embeddings in testing\n",
        "                loss = loss_fn(output, ifApplied.float())  # Convert ifApplied to float\n",
        "                running_test_loss.append(loss.item())\n",
        "\n",
        "        print('Epoch', epoch + 1, 'of', num_epochs, end=': ')\n",
        "        train_rmse = np.sqrt(np.mean(running_train_loss))\n",
        "        test_rmse = np.sqrt(np.mean(running_test_loss))\n",
        "        print('RMSE Train Loss: {:.4f}'.format(train_rmse), end=', ')\n",
        "        print('RMSE Test Loss: {:.4f}'.format(test_rmse))\n",
        "\n",
        "        train_loss.append(train_rmse)\n",
        "        test_loss.append(test_rmse)\n",
        "\n",
        "        if min(test_loss) >= test_rmse:\n",
        "            user_latent = user_embed\n",
        "            item_latent = item_embed\n",
        "\n",
        "    x = [i + 1 for i in range(num_epochs)]\n",
        "    plt.plot(x, train_loss, label='train_loss')\n",
        "    plt.plot(x, test_loss, label='test_loss')\n",
        "    leg = plt.legend(loc='upper center')\n",
        "    plt.xticks([i + 1 for i in range(0, num_epochs, 3)])\n",
        "    plt.show()\n",
        "\n",
        "    return train_loss, test_loss, user_latent, item_latent"
      ]
    },
    {
      "cell_type": "code",
      "execution_count": 59,
      "metadata": {
        "colab": {
          "base_uri": "https://localhost:8080/"
        },
        "id": "SCvDfeayXBCO",
        "outputId": "74c1c469-e371-44a7-b25f-35905093a198"
      },
      "outputs": [
        {
          "name": "stdout",
          "output_type": "stream",
          "text": [
            "None\n"
          ]
        }
      ],
      "source": []
    },
    {
      "cell_type": "markdown",
      "metadata": {
        "id": "hvxL9M9QDehI"
      },
      "source": [
        "## Baseline NCF"
      ]
    },
    {
      "cell_type": "code",
      "execution_count": 74,
      "metadata": {
        "colab": {
          "base_uri": "https://localhost:8080/",
          "height": 604
        },
        "id": "XxnwjQBq-PWX",
        "outputId": "c979fdf2-c28b-4b1f-b364-c7822ed7759a"
      },
      "outputs": [
        {
          "name": "stdout",
          "output_type": "stream",
          "text": [
            "Epoch 1 of 10: RMSE Train Loss: 0.4612, RMSE Test Loss: 0.1975\n",
            "Epoch 2 of 10: RMSE Train Loss: 0.1358, RMSE Test Loss: 0.0928\n",
            "Epoch 3 of 10: RMSE Train Loss: 0.0742, RMSE Test Loss: 0.0600\n",
            "Epoch 4 of 10: RMSE Train Loss: 0.0509, RMSE Test Loss: 0.0440\n",
            "Epoch 5 of 10: RMSE Train Loss: 0.0385, RMSE Test Loss: 0.0346\n",
            "Epoch 6 of 10: RMSE Train Loss: 0.0307, RMSE Test Loss: 0.0282\n",
            "Epoch 7 of 10: RMSE Train Loss: 0.0254, RMSE Test Loss: 0.0237\n",
            "Epoch 8 of 10: RMSE Train Loss: 0.0215, RMSE Test Loss: 0.0203\n",
            "Epoch 9 of 10: RMSE Train Loss: 0.0185, RMSE Test Loss: 0.0176\n",
            "Epoch 10 of 10: RMSE Train Loss: 0.0161, RMSE Test Loss: 0.0155\n"
          ]
        },
        {
          "data": {
            "image/png": "[encoded data removed]",
            "text/plain": [
              "<Figure size 640x480 with 1 Axes>"
            ]
          },
          "metadata": {},
          "output_type": "display_data"
        }
      ],
      "source": [
        "# Define model and parameters\n",
        "model = NCF(num_users, num_jobs, embedding_dim=5, hidden_dim=32, pretrained_user_embs = None, pretrained_item_embs = None)\n",
        "lr = 0.001\n",
        "num_epochs = 10\n",
        "\n",
        "# Train the model\n",
        "train_loss, test_loss, user_latent, item_latent = train_NCF(model, train_dataloader, test_dataloader, lr, num_epochs)"
      ]
    },
    {
      "cell_type": "code",
      "execution_count": 75,
      "metadata": {
        "colab": {
          "base_uri": "https://localhost:8080/"
        },
        "id": "hP1Ro1UqXaYn",
        "outputId": "d5da4328-7591-4d13-c4f0-17b5583206fb"
      },
      "outputs": [
        {
          "name": "stdout",
          "output_type": "stream",
          "text": [
            "tensor([[-2.3334e-01,  1.1084e-03, -5.9337e-01, -8.5852e-01,  1.1274e+00],\n",
            "        [-4.3787e-01, -1.3580e+00,  1.2666e+00,  6.2956e-01, -5.4515e-01],\n",
            "        [-1.2914e+00,  2.3370e-02, -1.8101e+00, -7.9350e-01,  4.5231e-01],\n",
            "        [ 1.6650e+00, -7.7324e-01,  2.5449e-01,  2.7486e-01, -1.5091e+00],\n",
            "        [-1.4104e+00, -7.2046e-02,  8.2333e-01,  1.0963e+00, -4.2022e-01],\n",
            "        [ 8.2678e-01,  5.9192e-01,  3.3511e-01,  1.6555e+00, -1.1716e+00],\n",
            "        [-1.0083e+00, -1.2765e-01,  6.8722e-01, -1.3035e+00,  2.0237e+00],\n",
            "        [-3.9258e-01,  1.7308e+00,  4.1756e-01, -7.5156e-01, -8.7196e-01],\n",
            "        [ 1.6440e+00, -9.3750e-01, -7.6386e-01,  1.2311e+00, -1.6625e+00],\n",
            "        [-2.5619e-01,  2.3656e-01,  8.8685e-01,  7.8950e-01,  3.8159e-01],\n",
            "        [-1.2260e+00,  2.7318e-01, -1.4342e+00, -7.1707e-01,  5.7676e-01],\n",
            "        [-1.6173e-01,  1.4378e-01, -9.3109e-01,  4.3176e-01, -1.2777e+00],\n",
            "        [-9.0566e-01, -1.4155e+00,  3.7067e-01, -6.7413e-01,  1.1852e+00],\n",
            "        [-8.0231e-01, -7.9386e-01,  1.5048e+00,  3.2191e-01,  9.0055e-01],\n",
            "        [-7.9964e-01,  2.8143e-01,  1.2432e+00,  4.8867e-01, -4.7869e-01],\n",
            "        [ 1.0672e-01, -1.6031e+00, -5.3236e-01,  1.7193e-01,  3.3233e-01],\n",
            "        [-1.7156e+00, -1.5624e+00, -7.2500e-01, -1.5138e+00, -1.1759e+00],\n",
            "        [-1.7040e-01,  1.5902e-02,  1.7395e+00,  8.8641e-01,  5.6845e-01],\n",
            "        [ 7.2499e-01, -1.0242e+00, -2.7068e-01,  1.0221e+00,  1.7108e+00],\n",
            "        [-2.0756e-01,  3.1444e-02, -9.7095e-01,  1.2180e+00,  1.3749e+00],\n",
            "        [-6.5939e-01, -1.2997e+00,  1.5987e+00, -1.5783e-01, -1.1817e+00],\n",
            "        [ 6.6533e-02,  1.7513e+00, -8.0014e-01, -2.3493e-01, -6.8333e-01],\n",
            "        [-2.3744e-01,  1.7049e-02, -1.0176e+00,  6.6027e-01, -9.8128e-01],\n",
            "        [ 8.9976e-01,  5.2554e-01, -2.0208e+00,  2.5067e-01,  2.1766e+00],\n",
            "        [ 6.4407e-01, -2.3199e-01,  8.8068e-01,  8.1977e-01, -1.9012e+00],\n",
            "        [ 6.7998e-01, -5.0736e-01,  2.4448e+00,  1.9791e-01,  1.0169e+00],\n",
            "        [ 2.6966e-01, -7.9228e-01,  3.1235e-01,  1.6971e-01, -7.1089e-01],\n",
            "        [-1.0473e+00,  1.0982e+00, -7.5178e-01, -7.3193e-01,  9.6813e-01],\n",
            "        [-6.6484e-01, -2.4587e-01, -1.2568e+00,  1.0708e+00, -5.2537e-01],\n",
            "        [-1.2201e+00, -4.1393e-01,  9.1937e-01, -4.3110e-01,  1.7027e-01],\n",
            "        [-7.5217e-01, -9.1725e-03, -6.4962e-01,  3.3951e-02,  4.1018e-01],\n",
            "        [ 8.9317e-01,  9.8505e-01,  1.2505e+00, -5.6956e-01, -1.7880e-01],\n",
            "        [ 1.9104e+00, -7.7058e-01,  2.3088e+00,  9.4680e-01,  9.3664e-01],\n",
            "        [-4.3855e-01,  1.4097e+00, -1.1576e+00,  8.6722e-01, -2.3179e-01],\n",
            "        [-1.4360e-02,  6.6460e-01, -9.6393e-01,  3.6553e-01, -1.1105e+00],\n",
            "        [-9.6404e-01,  9.0321e-01, -3.7086e-01, -1.2472e+00,  1.7291e+00],\n",
            "        [ 2.1152e+00, -1.2972e-01,  5.2358e-02, -4.4687e-01, -1.6723e+00],\n",
            "        [-2.9906e-01,  7.0056e-01,  2.5029e+00, -2.4595e-01,  5.0887e-01],\n",
            "        [-1.9108e-01,  7.0502e-01,  1.1150e+00,  8.9215e-01,  6.6555e-01],\n",
            "        [ 7.1786e-01,  1.7454e+00,  1.6229e+00,  1.6197e-02,  2.4719e+00],\n",
            "        [ 1.6090e+00, -2.9213e-01,  2.5614e+00, -1.0821e+00, -1.0704e+00],\n",
            "        [-3.4884e-01, -1.1135e+00,  5.5272e-01,  1.1274e+00, -1.4777e-02],\n",
            "        [ 5.4014e-01,  1.3611e+00,  5.9062e-01,  8.3767e-01,  1.0827e+00],\n",
            "        [-1.2934e+00, -2.1484e-01,  1.0275e+00,  1.1588e+00, -1.8740e-01],\n",
            "        [ 2.0641e+00, -1.1158e+00,  1.9493e+00, -5.6418e-01, -1.2642e+00],\n",
            "        [-9.1612e-01,  2.9349e-01, -9.4978e-01,  2.0517e-01,  9.5163e-01],\n",
            "        [-1.4965e+00, -5.0456e-01,  4.6969e-01,  5.3138e-01, -1.3508e-01],\n",
            "        [ 1.9388e-01, -2.1586e+00, -2.2530e-01,  1.6690e+00,  5.9253e-01],\n",
            "        [-8.1547e-01,  1.7404e+00, -2.2054e-01, -2.8032e-02, -2.5772e-01],\n",
            "        [ 1.0210e+00, -1.5176e-01,  5.0190e-01, -6.8571e-01, -1.8698e+00],\n",
            "        [ 2.0379e+00,  5.3422e-01,  1.4522e+00,  1.1531e+00, -7.8503e-01],\n",
            "        [-1.6553e+00, -3.6746e-01, -2.3457e+00,  4.3722e-01,  3.7422e-01],\n",
            "        [-1.0489e+00, -1.3078e+00,  7.0869e-01, -1.4753e+00, -8.3589e-01],\n",
            "        [-1.4244e-01, -4.4661e-01, -7.9700e-01,  5.3066e-01,  1.9378e-01],\n",
            "        [ 1.4670e-01, -3.0766e-01,  3.5366e-01,  2.0617e+00, -2.6551e-01],\n",
            "        [ 3.0458e+00,  8.3961e-01, -1.6571e-01,  1.1812e+00,  1.5526e+00],\n",
            "        [ 6.3244e-01, -1.2295e+00, -2.1586e-01, -1.2888e+00, -1.0658e+00],\n",
            "        [ 1.1284e-01, -9.2398e-01,  5.2471e-01,  5.1981e-01,  4.0309e-01],\n",
            "        [ 2.0302e+00, -7.4193e-01,  8.0495e-02,  1.4598e+00, -1.1905e+00],\n",
            "        [-2.8089e-01,  1.0982e+00,  1.9184e+00,  3.0063e+00, -1.9528e-01],\n",
            "        [ 1.6670e+00,  2.9785e-01,  5.2172e-01,  8.5747e-01, -8.5696e-01],\n",
            "        [ 1.7271e+00, -4.7629e-01,  2.1138e+00,  7.5615e-01,  1.1468e+00],\n",
            "        [-9.0542e-01,  3.2949e-01, -1.5514e+00,  2.0403e-02,  5.9818e-01],\n",
            "        [-1.1882e+00,  1.4271e+00,  6.8654e-02, -2.5189e-01, -1.0374e+00],\n",
            "        [ 1.1248e+00,  6.2222e-01,  1.0843e+00,  1.6988e-01,  5.6851e-01],\n",
            "        [-1.0507e-01,  2.1804e-01, -5.1797e-01,  1.8850e-01, -6.6537e-01],\n",
            "        [-1.6016e+00,  1.4777e+00, -8.0627e-01, -1.0261e+00,  1.4035e+00],\n",
            "        [ 9.2980e-01,  1.2877e+00, -6.4602e-01, -1.5581e+00,  3.3134e-01],\n",
            "        [-1.5319e+00,  8.4927e-02, -3.4951e-01, -1.2092e+00, -1.3219e+00],\n",
            "        [ 1.0713e+00,  5.6444e-01,  2.9615e-01, -8.1250e-01, -9.9315e-01],\n",
            "        [ 8.2639e-01,  1.4374e+00,  1.0566e+00, -6.8200e-01, -7.1934e-01],\n",
            "        [ 7.9984e-01, -1.1690e+00,  4.8491e-01,  1.1996e+00,  8.5389e-01],\n",
            "        [ 7.5057e-01, -1.7801e+00,  8.5212e-01, -2.2956e-01, -4.1104e-01],\n",
            "        [-2.2974e+00, -2.7507e-01,  4.6689e-01,  1.7167e+00, -4.7633e-02],\n",
            "        [-1.6538e+00, -2.9326e-01,  1.1150e+00, -8.3727e-01, -1.2703e+00],\n",
            "        [-9.7596e-01, -2.7700e-01,  1.2209e+00,  1.2485e-01,  4.4202e-01],\n",
            "        [-1.2363e+00,  1.7985e+00,  4.4624e-01,  2.7978e+00, -2.2633e+00],\n",
            "        [-3.8551e-02, -5.3923e-01, -1.4596e+00, -1.2263e+00,  2.9054e+00],\n",
            "        [ 2.4283e-01,  1.3701e+00,  1.0777e+00, -5.2415e-01, -1.0909e+00],\n",
            "        [-1.0768e+00,  7.3201e-01, -6.0739e-01,  8.6264e-01,  1.7814e-01],\n",
            "        [ 3.0343e+00, -1.0503e+00,  4.9483e-01,  1.1038e+00, -2.7561e-01],\n",
            "        [ 1.3263e+00, -5.8771e-01, -9.7310e-01, -4.2886e-01, -7.2342e-01],\n",
            "        [ 1.1905e+00,  1.3908e+00, -1.2374e-01, -8.3915e-01, -1.9136e+00],\n",
            "        [ 8.6217e-02, -1.3537e+00,  3.0106e-01,  7.2121e-01,  1.0794e+00],\n",
            "        [-4.9057e-01, -1.0281e+00,  1.6254e+00,  8.5848e-01, -1.0483e+00],\n",
            "        [-1.4909e-01,  5.8518e-03,  1.7842e+00, -3.6948e-01,  9.2086e-01],\n",
            "        [ 1.0069e+00, -7.6283e-01, -3.5937e-01,  1.2155e+00, -8.2604e-01],\n",
            "        [-5.6391e-01, -9.8993e-02,  1.8301e-01,  1.6857e+00, -1.3557e+00],\n",
            "        [-8.0207e-01, -8.9383e-01, -1.1837e+00, -3.6316e-01, -4.2451e-01],\n",
            "        [ 1.3585e-01, -1.5145e+00,  2.9641e-01,  4.1113e-01,  1.6744e+00],\n",
            "        [-4.2975e-01,  1.6510e-01, -2.7131e-01,  1.4616e+00,  5.0736e-01],\n",
            "        [-4.7397e-01, -1.1741e+00,  9.9963e-01,  1.8054e+00,  2.8663e-01],\n",
            "        [ 7.3558e-01, -1.0682e+00, -2.1490e-01,  5.6955e-01,  1.4014e-01],\n",
            "        [-1.7309e+00,  3.4179e-01, -2.7115e-01, -1.1008e-01, -3.5061e-01],\n",
            "        [ 2.5518e-01, -1.1255e+00, -1.2895e+00,  1.7613e-01,  7.3759e-02]],\n",
            "       grad_fn=<EmbeddingBackward0>)\n"
          ]
        }
      ],
      "source": [
        "print(item_latent)"
      ]
    },
    {
      "cell_type": "markdown",
      "metadata": {
        "id": "cSnIA23gDjLR"
      },
      "source": [
        "## NCF + MF with the pretrained embeddings"
      ]
    },
    {
      "cell_type": "code",
      "execution_count": 76,
      "metadata": {
        "colab": {
          "base_uri": "https://localhost:8080/",
          "height": 604
        },
        "id": "gJgUjN8P-jSo",
        "outputId": "88faa2e9-a86e-4c0c-f68b-e042c649c12d"
      },
      "outputs": [
        {
          "name": "stdout",
          "output_type": "stream",
          "text": [
            "Epoch 1 of 10: RMSE Train Loss: 0.2922, RMSE Test Loss: 0.0364\n",
            "Epoch 2 of 10: RMSE Train Loss: 0.0236, RMSE Test Loss: 0.0154\n",
            "Epoch 3 of 10: RMSE Train Loss: 0.0122, RMSE Test Loss: 0.0098\n",
            "Epoch 4 of 10: RMSE Train Loss: 0.0082, RMSE Test Loss: 0.0071\n",
            "Epoch 5 of 10: RMSE Train Loss: 0.0062, RMSE Test Loss: 0.0055\n",
            "Epoch 6 of 10: RMSE Train Loss: 0.0049, RMSE Test Loss: 0.0045\n",
            "Epoch 7 of 10: RMSE Train Loss: 0.0040, RMSE Test Loss: 0.0038\n",
            "Epoch 8 of 10: RMSE Train Loss: 0.0034, RMSE Test Loss: 0.0032\n",
            "Epoch 9 of 10: RMSE Train Loss: 0.0029, RMSE Test Loss: 0.0028\n",
            "Epoch 10 of 10: RMSE Train Loss: 0.0026, RMSE Test Loss: 0.0024\n"
          ]
        },
        {
          "data": {
            "image/png": "[encoded data removed]",
            "text/plain": [
              "<Figure size 640x480 with 1 Axes>"
            ]
          },
          "metadata": {},
          "output_type": "display_data"
        }
      ],
      "source": [
        "# Define model and parameters\n",
        "model_with_laten_factors = NCF(num_users, num_jobs, embedding_dim=5, hidden_dim=64, pretrained_user_embs = P1, pretrained_item_embs = Q1.T)\n",
        "lr = 0.001\n",
        "num_epochs = 10\n",
        "\n",
        "# Train the model\n",
        "train_loss_with_laten_factors, test_loss_with_laten_factors, user_latent_with_laten_factors, item_latent_with_laten_factors = train_NCF(model_with_laten_factors, train_dataloader, test_dataloader, lr, num_epochs)"
      ]
    },
    {
      "cell_type": "code",
      "execution_count": 87,
      "metadata": {
        "colab": {
          "base_uri": "https://localhost:8080/"
        },
        "id": "IYxpeWo-gFNn",
        "outputId": "bd389a1a-0fca-40f6-a7d1-5516614427a2"
      },
      "outputs": [
        {
          "data": {
            "text/plain": [
              "tensor([[ 0.5669,  0.2255,  0.2136,  0.5892,  0.8038],\n",
              "        [ 0.7105,  0.4122,  0.3984,  0.4225,  0.4246],\n",
              "        [ 0.3676,  0.5374,  0.7373,  0.7232,  0.2294],\n",
              "        [ 0.4953,  0.6275,  0.5157,  0.2996,  0.6034],\n",
              "        [ 0.1527,  0.2720,  0.8021,  0.4354,  0.7499],\n",
              "        [ 0.6907,  0.2323,  0.7683,  0.7793,  0.1423],\n",
              "        [ 0.3475,  0.5452,  0.2634,  0.6170,  0.6568],\n",
              "        [ 0.3860,  0.5955,  0.3527,  0.7858,  0.3365],\n",
              "        [ 0.5109,  0.5343,  0.4553,  0.5028,  0.5744],\n",
              "        [ 0.6430,  0.4529,  0.4442,  0.3855,  0.5507],\n",
              "        [ 0.9995,  0.2515,  0.1102,  0.4351,  0.2725],\n",
              "        [ 0.7143,  0.7124,  0.2278,  0.1704,  0.5153],\n",
              "        [ 0.1447,  0.4468,  0.6944,  0.3646,  0.6778],\n",
              "        [ 0.2571,  0.5123,  0.7352,  0.4317,  0.3815],\n",
              "        [ 0.2805,  0.0836,  0.4976,  0.4761,  0.1291],\n",
              "        [ 0.2708,  0.8537,  0.5472,  0.8972,  0.3542],\n",
              "        [ 0.5354,  0.3363,  0.6474,  0.5184,  0.5598],\n",
              "        [ 0.4629,  0.9250,  0.4098,  0.1654,  0.5284],\n",
              "        [ 0.7742,  0.4325,  0.2906,  0.3639,  0.5096],\n",
              "        [ 0.5711,  0.5481,  0.9323,  0.5687,  0.7364],\n",
              "        [ 0.2815,  0.6297,  0.7092,  0.3286,  0.4387],\n",
              "        [ 0.3334,  0.3998,  0.8650,  0.5922,  0.2791],\n",
              "        [ 0.4670,  0.7923,  0.4038,  0.3682,  0.2783],\n",
              "        [ 0.8636,  0.0960,  0.6213,  0.3831,  0.4339],\n",
              "        [ 0.4536,  0.3827,  0.6500,  0.4672,  0.6811],\n",
              "        [ 0.5697,  0.7675,  0.3394,  0.2691,  0.3761],\n",
              "        [ 0.3149,  0.5135,  0.2394,  0.5674,  0.6215],\n",
              "        [ 0.7510,  0.3908,  0.5653,  0.1961,  0.5927],\n",
              "        [ 0.6927,  0.2604,  0.5680,  0.6016,  0.2974],\n",
              "        [ 0.7359,  0.6128,  0.1190,  0.4561,  0.3963],\n",
              "        [ 0.5993,  0.6958,  0.5164,  0.3407,  0.2891],\n",
              "        [ 0.6931,  0.2794,  0.4745,  0.6122,  0.4393],\n",
              "        [ 0.3101,  0.5981,  0.2075,  0.5449,  0.7707],\n",
              "        [ 0.3837,  0.3835,  0.5298,  0.4029,  0.6435],\n",
              "        [ 0.6404,  0.4884,  0.1535,  0.6884,  0.4420],\n",
              "        [ 0.5066,  0.7253,  0.6788,  0.1588,  0.4225],\n",
              "        [ 0.5002,  0.4771,  0.4203,  0.6121,  0.4593],\n",
              "        [ 0.6410,  0.7174,  0.4099,  0.7628,  0.0573],\n",
              "        [ 0.3491,  0.7135,  0.1253,  0.9027,  0.1370],\n",
              "        [ 0.6886,  0.1309,  0.5455,  0.7812,  0.1777],\n",
              "        [ 0.5642,  0.2531,  0.5333,  0.4869,  0.4361],\n",
              "        [ 0.5983,  0.6805,  0.6927,  0.1383,  0.3158],\n",
              "        [ 0.5450,  0.3012,  0.5612,  0.3015,  0.7105],\n",
              "        [ 0.5179,  0.1930,  0.6845,  0.5302,  0.7130],\n",
              "        [ 0.5527,  0.2213,  0.7021,  0.7299,  0.2768],\n",
              "        [ 0.1823,  0.7251,  0.2143,  0.7059,  0.5161],\n",
              "        [ 0.5060,  0.2077,  0.7208,  0.7087,  0.1994],\n",
              "        [ 0.6053,  0.2413,  0.5699,  0.6716,  0.2516],\n",
              "        [ 0.3010,  0.7073,  0.2062,  0.2956,  0.8813],\n",
              "        [ 0.4426,  0.3422,  0.7557,  0.4642,  0.2521],\n",
              "        [ 0.5777,  0.4676,  0.3830,  0.7333,  0.2935],\n",
              "        [ 0.3097,  0.4766,  0.4257,  0.3958,  0.6871],\n",
              "        [ 0.2306,  0.3666,  0.7040,  0.2951,  0.6912],\n",
              "        [ 0.4121,  0.3304,  0.7927,  0.2179,  0.7618],\n",
              "        [ 0.6293,  0.1752,  0.6336,  0.8064,  0.1923],\n",
              "        [ 0.4141,  0.7633,  0.4131,  0.2932,  0.4658],\n",
              "        [ 0.6481,  0.3272,  0.4698,  0.3000,  0.6240],\n",
              "        [ 0.5794,  0.4084,  0.4871,  0.2587,  0.4320],\n",
              "        [ 0.0727,  0.2815,  0.6075,  0.8007,  0.5026],\n",
              "        [ 0.7576,  0.6235,  0.5413,  0.3076,  0.1786],\n",
              "        [ 0.5630,  0.3384,  0.3562,  0.8290,  0.3411],\n",
              "        [ 0.4009,  0.4836,  0.6933,  0.5481,  0.3157],\n",
              "        [ 0.6410,  0.7007,  0.3794,  0.2577,  0.6347],\n",
              "        [ 0.3623,  0.7159,  0.2997,  0.5776,  0.4509],\n",
              "        [ 0.8607,  0.3901,  0.8862,  0.2193, -0.0187],\n",
              "        [ 0.5385,  0.6978,  0.3271,  0.5297,  0.2698],\n",
              "        [ 0.0780,  0.8382,  0.5392,  0.2698,  0.5345],\n",
              "        [ 0.4453,  0.2071,  0.1588,  0.8013,  0.7290],\n",
              "        [ 0.3146,  0.2417,  0.5993,  0.6839,  0.5891],\n",
              "        [ 0.5485,  0.3308,  0.3310,  0.6317,  0.6431],\n",
              "        [ 0.6488,  0.2717,  0.4738,  0.2824,  0.6942],\n",
              "        [ 0.1580,  0.0754,  0.5579,  0.7070,  0.7424],\n",
              "        [ 0.2387,  0.7361,  0.7071,  0.1686,  0.5663],\n",
              "        [ 0.3657,  0.8604,  0.1448,  0.3512,  0.5755],\n",
              "        [ 0.7955,  0.0521,  0.6013,  0.7347,  0.2289],\n",
              "        [ 0.3676,  0.0808,  0.8080,  0.3919,  0.6160],\n",
              "        [ 0.4987,  0.4760,  0.3150,  0.8318, -0.0397],\n",
              "        [ 0.2065,  0.2102,  0.2870,  0.8107,  0.8990],\n",
              "        [ 0.4604,  0.2028,  0.8011,  0.6817,  0.3456],\n",
              "        [ 0.5504,  0.0825,  0.2366,  0.6534,  0.7340],\n",
              "        [ 0.2455,  0.3412,  0.6933,  0.7867,  0.3560],\n",
              "        [ 0.3443,  0.4580,  0.7392,  0.2668,  0.7593],\n",
              "        [ 0.4189,  0.2512,  0.2613,  0.5877,  0.5315],\n",
              "        [ 0.6862,  0.5226,  0.7273,  0.0950,  0.3644],\n",
              "        [ 0.6957,  0.3766,  0.5954,  0.3879,  0.0969],\n",
              "        [ 0.7020,  0.4467,  0.6411,  0.1117,  0.5530],\n",
              "        [ 0.5848,  0.0536,  0.7000,  0.4631,  0.5948],\n",
              "        [ 0.8130,  0.3049,  0.7701,  0.2488,  0.3105],\n",
              "        [ 0.2059,  0.6305,  0.4672,  0.5788,  0.7339],\n",
              "        [ 0.5926,  0.2105,  0.8990,  0.1767,  0.3651],\n",
              "        [ 0.7165,  0.3484,  0.3494,  0.6301,  0.3826],\n",
              "        [ 0.6049,  0.4116,  0.8463,  0.4904,  0.0482],\n",
              "        [ 0.6028,  0.4606,  0.4123,  0.6593,  0.2432],\n",
              "        [ 0.5006,  0.3294,  0.7725,  0.6555,  0.1794],\n",
              "        [ 0.5678,  0.3794,  0.2153,  0.6648,  0.5907]],\n",
              "       grad_fn=<EmbeddingBackward0>)"
            ]
          },
          "execution_count": 87,
          "metadata": {},
          "output_type": "execute_result"
        }
      ],
      "source": [
        "user_latent_with_laten_factors"
      ]
    },
    {
      "cell_type": "code",
      "execution_count": 86,
      "metadata": {
        "id": "7Nh6U5mjXH0I"
      },
      "outputs": [],
      "source": [
        "result = np.dot(user_latent.detach().numpy(), item_latent.detach().numpy().T)"
      ]
    },
    {
      "cell_type": "code",
      "execution_count": 80,
      "metadata": {
        "colab": {
          "base_uri": "https://localhost:8080/"
        },
        "id": "RXlcLGiFbc9G",
        "outputId": "6905cc27-e2ec-4931-815c-10f3c2323c4a"
      },
      "outputs": [
        {
          "data": {
            "text/plain": [
              "array([[ 1.0608435 ,  1.5989398 ,  1.149435  , ..., -1.7199792 ,\n",
              "         1.8707467 , -1.3191156 ],\n",
              "       [-0.4190069 , -3.960667  , -0.08724787, ..., -0.66112125,\n",
              "        -1.680675  ,  0.02787339],\n",
              "       [-1.8355203 ,  1.6094096 , -0.20891154, ...,  0.9775451 ,\n",
              "         0.475854  ,  1.3833618 ],\n",
              "       ...,\n",
              "       [-1.651911  , -4.16412   ,  0.47091225, ..., -1.4371368 ,\n",
              "         0.15493798, -0.42769814],\n",
              "       [-1.073612  ,  1.4921563 ,  0.22956586, ..., -1.2258668 ,\n",
              "         2.820637  , -1.4656448 ],\n",
              "       [ 1.4137938 , -0.52322817,  0.04266527, ..., -1.6182353 ,\n",
              "        -0.22820288, -1.672533  ]], dtype=float32)"
            ]
          },
          "execution_count": 80,
          "metadata": {},
          "output_type": "execute_result"
        }
      ],
      "source": [
        "result"
      ]
    },
    {
      "cell_type": "code",
      "execution_count": 83,
      "metadata": {
        "id": "MhZ3_SwJdEWY"
      },
      "outputs": [],
      "source": [
        "result_MF = np.dot(P1, Q1)"
      ]
    },
    {
      "cell_type": "code",
      "execution_count": 84,
      "metadata": {
        "colab": {
          "base_uri": "https://localhost:8080/"
        },
        "id": "omIwEDKadMtN",
        "outputId": "5f404507-f909-4cc1-8d03-67e08dd63e76"
      },
      "outputs": [
        {
          "data": {
            "text/plain": [
              "array([[1.07768877, 1.07215992, 0.96990665, ..., 1.3478393 , 1.09857882,\n",
              "        1.31020168],\n",
              "       [0.94588442, 0.94522841, 1.05869077, ..., 1.27506179, 0.92094694,\n",
              "        1.0436826 ],\n",
              "       [0.90762048, 0.88574284, 1.01532291, ..., 1.20066597, 0.93661495,\n",
              "        1.07420544],\n",
              "       ...,\n",
              "       [0.95239583, 0.9995246 , 0.94712471, ..., 1.07793765, 1.04220854,\n",
              "        1.26180798],\n",
              "       [1.04391231, 1.1536564 , 1.16423113, ..., 1.39242059, 1.01161515,\n",
              "        1.41490067],\n",
              "       [1.13390353, 1.10007602, 0.96824018, ..., 1.67218398, 1.01321411,\n",
              "        1.34016321]])"
            ]
          },
          "execution_count": 84,
          "metadata": {},
          "output_type": "execute_result"
        }
      ],
      "source": [
        "result_MF"
      ]
    },
    {
      "cell_type": "code",
      "execution_count": 81,
      "metadata": {
        "id": "nS63_NQUbmA7"
      },
      "outputs": [],
      "source": [
        "import pickle\n",
        "with open(\"Result\", \"wb\") as f1:\n",
        "  pickle.dump(result, f1)"
      ]
    },
    {
      "cell_type": "code",
      "execution_count": 93,
      "metadata": {
        "id": "PKTUs6kE6TKI"
      },
      "outputs": [],
      "source": [
        "similarities = np.dot(user_latent.detach().numpy(), item_latent.detach().numpy().T) / (np.linalg.norm(item_latent.detach().numpy(), axis=1) * np.linalg.norm(user_latent.detach().numpy()))\n"
      ]
    },
    {
      "cell_type": "code",
      "execution_count": 123,
      "metadata": {
        "id": "uWxsYvsh6tKO"
      },
      "outputs": [],
      "source": [
        "def recommend_jobs_for_user(user_id):\n",
        "    job_similarities = similarities[:, user_id]\n",
        "    top_indices = np.argsort(job_similarities)[::-1][:10]\n",
        "    recommended_job_ids = [jobs['Title'][i]  for i in top_indices]\n",
        "\n",
        "    return recommended_job_ids\n",
        "\n"
      ]
    },
    {
      "cell_type": "code",
      "execution_count": 124,
      "metadata": {
        "colab": {
          "base_uri": "https://localhost:8080/"
        },
        "id": "Z7PoyA24IrVx",
        "outputId": "de8b707e-9967-42bd-f24e-41450823fe67"
      },
      "outputs": [
        {
          "data": {
            "text/plain": [
              "['Data Entry - full time',\n",
              " 'Greeter',\n",
              " 'Claims Examiner',\n",
              " 'Shipping Coordinator',\n",
              " 'CUSTOMER SERVICE REPRESENTATIVE',\n",
              " 'Secretary/Registrar    position available May 1, 2012',\n",
              " 'Account Manager',\n",
              " 'Human Resource Associate',\n",
              " 'Office Assistant',\n",
              " 'Front Desk/Night Audit']"
            ]
          },
          "execution_count": 124,
          "metadata": {},
          "output_type": "execute_result"
        }
      ],
      "source": [
        "recommend_jobs_for_user(90)"
      ]
    },
    {
      "cell_type": "code",
      "execution_count": null,
      "metadata": {},
      "outputs": [],
      "source": []
    },
    {
      "cell_type": "code",
      "execution_count": null,
      "metadata": {},
      "outputs": [],
      "source": [
        "def predict(model, user_idx, item_idx):\n",
        "    model.eval()\n",
        "    with torch.no_grad():\n",
        "        user_tensor = torch.LongTensor([user_idx])\n",
        "        item_tensor = torch.LongTensor([item_idx])\n",
        "        output, _, _ = model(user_tensor, item_tensor)\n",
        "        probability = output.item()  # Output already contains probability after sigmoid\n",
        "    return probability\n",
        "\n",
        "print(predict(model_with_laten_factors, 90, 695))"
      ]
    },
    {
      "cell_type": "markdown",
      "metadata": {},
      "source": [
        "**ANALYSIS**\n",
        "\n",
        "MF or NCF would just not work on the dataset we have. It is very difficult to do collaborative filtering tasks on such dataset with on binary 1s and 0s. <br>\n",
        "\n",
        "We will be moving to a content based recommendation system, which uses the text of the data to recommend jobs."
      ]
    },
    {
      "cell_type": "code",
      "execution_count": null,
      "metadata": {},
      "outputs": [],
      "source": []
    }
  ],
  "metadata": {
    "colab": {
      "provenance": []
    },
    "kernelspec": {
      "display_name": "Python 3",
      "language": "python",
      "name": "python3"
    },
    "language_info": {
      "codemirror_mode": {
        "name": "ipython",
        "version": 3
      },
      "file_extension": ".py",
      "mimetype": "text/x-python",
      "name": "python",
      "nbconvert_exporter": "python",
      "pygments_lexer": "ipython3",
      "version": "3.11.7"
    }
  },
  "nbformat": 4,
  "nbformat_minor": 0
}
