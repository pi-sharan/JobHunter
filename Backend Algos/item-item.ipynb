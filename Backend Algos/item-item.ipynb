{
 "cells": [
  {
   "cell_type": "code",
   "execution_count": 34,
   "metadata": {},
   "outputs": [
    {
     "name": "stdout",
     "output_type": "stream",
     "text": [
      "Requirement already satisfied: scikit-learn in c:\\python312\\lib\\site-packages (1.4.1.post1)\n",
      "Requirement already satisfied: numpy<2.0,>=1.19.5 in c:\\python312\\lib\\site-packages (from scikit-learn) (1.26.3)\n",
      "Requirement already satisfied: scipy>=1.6.0 in c:\\python312\\lib\\site-packages (from scikit-learn) (1.12.0)\n",
      "Requirement already satisfied: joblib>=1.2.0 in c:\\python312\\lib\\site-packages (from scikit-learn) (1.3.2)\n",
      "Requirement already satisfied: threadpoolctl>=2.0.0 in c:\\python312\\lib\\site-packages (from scikit-learn) (3.3.0)\n",
      "Note: you may need to restart the kernel to use updated packages.\n"
     ]
    },
    {
     "name": "stderr",
     "output_type": "stream",
     "text": [
      "\n",
      "[notice] A new release of pip is available: 23.2.1 -> 24.0\n",
      "[notice] To update, run: python.exe -m pip install --upgrade pip\n"
     ]
    }
   ],
   "source": [
    "pip install scikit-learn"
   ]
  },
  {
   "cell_type": "code",
   "execution_count": 1,
   "metadata": {},
   "outputs": [],
   "source": [
    "%matplotlib inline\n",
    "import matplotlib.pyplot as plt\n",
    "import seaborn as sns\n",
    "import pandas as pd\n",
    "import numpy as np\n",
    "from scipy import stats\n",
    "from ast import literal_eval\n",
    "from sklearn.feature_extraction.text import TfidfVectorizer, CountVectorizer\n",
    "from sklearn.metrics.pairwise import linear_kernel, cosine_similarity"
   ]
  },
  {
   "cell_type": "code",
   "execution_count": 2,
   "metadata": {},
   "outputs": [],
   "source": [
    "apps = pd.read_csv('filtered_apps.csv')\n",
    "users = pd.read_csv('filtered_users.csv')\n",
    "jobs = pd.read_csv('filtered_jobs.csv')"
   ]
  },
  {
   "cell_type": "code",
   "execution_count": 3,
   "metadata": {},
   "outputs": [
    {
     "data": {
      "text/html": [
       "<div>\n",
       "<style scoped>\n",
       "    .dataframe tbody tr th:only-of-type {\n",
       "        vertical-align: middle;\n",
       "    }\n",
       "\n",
       "    .dataframe tbody tr th {\n",
       "        vertical-align: top;\n",
       "    }\n",
       "\n",
       "    .dataframe thead th {\n",
       "        text-align: right;\n",
       "    }\n",
       "</style>\n",
       "<table border=\"1\" class=\"dataframe\">\n",
       "  <thead>\n",
       "    <tr style=\"text-align: right;\">\n",
       "      <th></th>\n",
       "      <th>UserID</th>\n",
       "      <th>WindowID</th>\n",
       "      <th>Split</th>\n",
       "      <th>City</th>\n",
       "      <th>State</th>\n",
       "      <th>Country</th>\n",
       "      <th>ZipCode</th>\n",
       "      <th>DegreeType</th>\n",
       "      <th>Major</th>\n",
       "      <th>GraduationDate</th>\n",
       "      <th>WorkHistoryCount</th>\n",
       "      <th>TotalYearsExperience</th>\n",
       "      <th>CurrentlyEmployed</th>\n",
       "      <th>ManagedOthers</th>\n",
       "      <th>ManagedHowMany</th>\n",
       "    </tr>\n",
       "  </thead>\n",
       "  <tbody>\n",
       "    <tr>\n",
       "      <th>0</th>\n",
       "      <td>554</td>\n",
       "      <td>1</td>\n",
       "      <td>Train</td>\n",
       "      <td>Altamonte Springs</td>\n",
       "      <td>FL</td>\n",
       "      <td>US</td>\n",
       "      <td>32701</td>\n",
       "      <td>Bachelor's</td>\n",
       "      <td>Legal Studies</td>\n",
       "      <td>2006-12-01 00:00:00</td>\n",
       "      <td>2</td>\n",
       "      <td>4.0</td>\n",
       "      <td>No</td>\n",
       "      <td>No</td>\n",
       "      <td>0</td>\n",
       "    </tr>\n",
       "    <tr>\n",
       "      <th>1</th>\n",
       "      <td>769</td>\n",
       "      <td>1</td>\n",
       "      <td>Test</td>\n",
       "      <td>Roselle</td>\n",
       "      <td>IL</td>\n",
       "      <td>US</td>\n",
       "      <td>60172</td>\n",
       "      <td>Bachelor's</td>\n",
       "      <td>Radio-Television</td>\n",
       "      <td>2011-05-01 00:00:00</td>\n",
       "      <td>5</td>\n",
       "      <td>5.0</td>\n",
       "      <td>Yes</td>\n",
       "      <td>No</td>\n",
       "      <td>0</td>\n",
       "    </tr>\n",
       "    <tr>\n",
       "      <th>2</th>\n",
       "      <td>1697</td>\n",
       "      <td>1</td>\n",
       "      <td>Train</td>\n",
       "      <td>Justice</td>\n",
       "      <td>IL</td>\n",
       "      <td>US</td>\n",
       "      <td>60458</td>\n",
       "      <td>High School</td>\n",
       "      <td>Not Applicable</td>\n",
       "      <td>2007-01-01 00:00:00</td>\n",
       "      <td>4</td>\n",
       "      <td>6.0</td>\n",
       "      <td>NaN</td>\n",
       "      <td>No</td>\n",
       "      <td>0</td>\n",
       "    </tr>\n",
       "    <tr>\n",
       "      <th>3</th>\n",
       "      <td>2652</td>\n",
       "      <td>1</td>\n",
       "      <td>Test</td>\n",
       "      <td>Glendale</td>\n",
       "      <td>CA</td>\n",
       "      <td>US</td>\n",
       "      <td>91204</td>\n",
       "      <td>High School</td>\n",
       "      <td>Not Applicable</td>\n",
       "      <td>1987-01-01 00:00:00</td>\n",
       "      <td>3</td>\n",
       "      <td>21.0</td>\n",
       "      <td>No</td>\n",
       "      <td>Yes</td>\n",
       "      <td>3</td>\n",
       "    </tr>\n",
       "    <tr>\n",
       "      <th>4</th>\n",
       "      <td>4359</td>\n",
       "      <td>1</td>\n",
       "      <td>Train</td>\n",
       "      <td>Valrico</td>\n",
       "      <td>FL</td>\n",
       "      <td>US</td>\n",
       "      <td>33594</td>\n",
       "      <td>High School</td>\n",
       "      <td>Not Applicable</td>\n",
       "      <td>2010-01-01 00:00:00</td>\n",
       "      <td>3</td>\n",
       "      <td>2.0</td>\n",
       "      <td>Yes</td>\n",
       "      <td>No</td>\n",
       "      <td>0</td>\n",
       "    </tr>\n",
       "  </tbody>\n",
       "</table>\n",
       "</div>"
      ],
      "text/plain": [
       "   UserID  WindowID  Split               City State Country ZipCode  \\\n",
       "0     554         1  Train  Altamonte Springs    FL      US   32701   \n",
       "1     769         1   Test            Roselle    IL      US   60172   \n",
       "2    1697         1  Train            Justice    IL      US   60458   \n",
       "3    2652         1   Test           Glendale    CA      US   91204   \n",
       "4    4359         1  Train            Valrico    FL      US   33594   \n",
       "\n",
       "    DegreeType             Major       GraduationDate  WorkHistoryCount  \\\n",
       "0   Bachelor's     Legal Studies  2006-12-01 00:00:00                 2   \n",
       "1   Bachelor's  Radio-Television  2011-05-01 00:00:00                 5   \n",
       "2  High School    Not Applicable  2007-01-01 00:00:00                 4   \n",
       "3  High School    Not Applicable  1987-01-01 00:00:00                 3   \n",
       "4  High School    Not Applicable  2010-01-01 00:00:00                 3   \n",
       "\n",
       "   TotalYearsExperience CurrentlyEmployed ManagedOthers  ManagedHowMany  \n",
       "0                   4.0                No            No               0  \n",
       "1                   5.0               Yes            No               0  \n",
       "2                   6.0               NaN            No               0  \n",
       "3                  21.0                No           Yes               3  \n",
       "4                   2.0               Yes            No               0  "
      ]
     },
     "execution_count": 3,
     "metadata": {},
     "output_type": "execute_result"
    }
   ],
   "source": [
    "users.head()"
   ]
  },
  {
   "cell_type": "code",
   "execution_count": 4,
   "metadata": {},
   "outputs": [
    {
     "data": {
      "text/html": [
       "<div>\n",
       "<style scoped>\n",
       "    .dataframe tbody tr th:only-of-type {\n",
       "        vertical-align: middle;\n",
       "    }\n",
       "\n",
       "    .dataframe tbody tr th {\n",
       "        vertical-align: top;\n",
       "    }\n",
       "\n",
       "    .dataframe thead th {\n",
       "        text-align: right;\n",
       "    }\n",
       "</style>\n",
       "<table border=\"1\" class=\"dataframe\">\n",
       "  <thead>\n",
       "    <tr style=\"text-align: right;\">\n",
       "      <th></th>\n",
       "      <th>0</th>\n",
       "      <th>1</th>\n",
       "      <th>2</th>\n",
       "      <th>3</th>\n",
       "      <th>4</th>\n",
       "    </tr>\n",
       "  </thead>\n",
       "  <tbody>\n",
       "    <tr>\n",
       "      <th>JobID</th>\n",
       "      <td>15</td>\n",
       "      <td>40</td>\n",
       "      <td>450</td>\n",
       "      <td>458</td>\n",
       "      <td>460</td>\n",
       "    </tr>\n",
       "    <tr>\n",
       "      <th>WindowID</th>\n",
       "      <td>1</td>\n",
       "      <td>1</td>\n",
       "      <td>1</td>\n",
       "      <td>1</td>\n",
       "      <td>1</td>\n",
       "    </tr>\n",
       "    <tr>\n",
       "      <th>Title</th>\n",
       "      <td>Administrative Assistant</td>\n",
       "      <td>Administrative Assistant</td>\n",
       "      <td>Customer Service Rep</td>\n",
       "      <td>Administrative Assistant</td>\n",
       "      <td>Data Entry - full time</td>\n",
       "    </tr>\n",
       "    <tr>\n",
       "      <th>Description</th>\n",
       "      <td>This Administrative Assistant position is resp...</td>\n",
       "      <td>ADMINISTRATIVE ASSISTANT Part Time The West Or...</td>\n",
       "      <td>Customer Service Rep -  Provide Customer Servi...</td>\n",
       "      <td>Administrative Assistant -  In Bus 26yrs Fashi...</td>\n",
       "      <td>Data Entry - full time       -                ...</td>\n",
       "    </tr>\n",
       "    <tr>\n",
       "      <th>Requirements</th>\n",
       "      <td>Please refer to the Job Description to view th...</td>\n",
       "      <td>Please refer to the Job Description to view th...</td>\n",
       "      <td>Please refer to the Job Description to view th...</td>\n",
       "      <td>Please refer to the Job Description to view th...</td>\n",
       "      <td>Qualified Candidates should have data entry sk...</td>\n",
       "    </tr>\n",
       "    <tr>\n",
       "      <th>City</th>\n",
       "      <td>Los Angeles</td>\n",
       "      <td>Orlando</td>\n",
       "      <td>Coral Springs</td>\n",
       "      <td>Pompano Beach</td>\n",
       "      <td>Fort Lauderdale</td>\n",
       "    </tr>\n",
       "    <tr>\n",
       "      <th>State</th>\n",
       "      <td>CA</td>\n",
       "      <td>FL</td>\n",
       "      <td>FL</td>\n",
       "      <td>FL</td>\n",
       "      <td>FL</td>\n",
       "    </tr>\n",
       "    <tr>\n",
       "      <th>Country</th>\n",
       "      <td>US</td>\n",
       "      <td>US</td>\n",
       "      <td>US</td>\n",
       "      <td>US</td>\n",
       "      <td>US</td>\n",
       "    </tr>\n",
       "    <tr>\n",
       "      <th>Zip5</th>\n",
       "      <td>90011.0</td>\n",
       "      <td>NaN</td>\n",
       "      <td>33065.0</td>\n",
       "      <td>33069.0</td>\n",
       "      <td>33309.0</td>\n",
       "    </tr>\n",
       "    <tr>\n",
       "      <th>StartDate</th>\n",
       "      <td>2012-03-09 01:12:16.81</td>\n",
       "      <td>2012-03-14 09:00:54.13</td>\n",
       "      <td>2012-03-08 01:21:44.497</td>\n",
       "      <td>2012-03-10 01:14:03.83</td>\n",
       "      <td>2012-03-11 01:18:58.9</td>\n",
       "    </tr>\n",
       "    <tr>\n",
       "      <th>EndDate</th>\n",
       "      <td>2012-04-08 23:59:59</td>\n",
       "      <td>2012-04-13 23:59:59</td>\n",
       "      <td>2012-04-07 23:59:59</td>\n",
       "      <td>2012-04-09 23:59:59</td>\n",
       "      <td>2012-04-10 23:59:59</td>\n",
       "    </tr>\n",
       "    <tr>\n",
       "      <th>DescCleaned</th>\n",
       "      <td>this administrative assistant position is resp...</td>\n",
       "      <td>administrative assistant part time the west or...</td>\n",
       "      <td>customer service rep - provide customer servic...</td>\n",
       "      <td>administrative assistant - in bus 26yrs fashio...</td>\n",
       "      <td>data entry - full time - bi-lingual, eng/span ...</td>\n",
       "    </tr>\n",
       "    <tr>\n",
       "      <th>ReqCleaned</th>\n",
       "      <td>please refer to the job description to view th...</td>\n",
       "      <td>please refer to the job description to view th...</td>\n",
       "      <td>please refer to the job description to view th...</td>\n",
       "      <td>please refer to the job description to view th...</td>\n",
       "      <td>qualified candidates should have data entry sk...</td>\n",
       "    </tr>\n",
       "  </tbody>\n",
       "</table>\n",
       "</div>"
      ],
      "text/plain": [
       "                                                              0  \\\n",
       "JobID                                                        15   \n",
       "WindowID                                                      1   \n",
       "Title                                  Administrative Assistant   \n",
       "Description   This Administrative Assistant position is resp...   \n",
       "Requirements  Please refer to the Job Description to view th...   \n",
       "City                                                Los Angeles   \n",
       "State                                                        CA   \n",
       "Country                                                      US   \n",
       "Zip5                                                    90011.0   \n",
       "StartDate                                2012-03-09 01:12:16.81   \n",
       "EndDate                                     2012-04-08 23:59:59   \n",
       "DescCleaned   this administrative assistant position is resp...   \n",
       "ReqCleaned    please refer to the job description to view th...   \n",
       "\n",
       "                                                              1  \\\n",
       "JobID                                                        40   \n",
       "WindowID                                                      1   \n",
       "Title                                  Administrative Assistant   \n",
       "Description   ADMINISTRATIVE ASSISTANT Part Time The West Or...   \n",
       "Requirements  Please refer to the Job Description to view th...   \n",
       "City                                                    Orlando   \n",
       "State                                                        FL   \n",
       "Country                                                      US   \n",
       "Zip5                                                        NaN   \n",
       "StartDate                                2012-03-14 09:00:54.13   \n",
       "EndDate                                     2012-04-13 23:59:59   \n",
       "DescCleaned   administrative assistant part time the west or...   \n",
       "ReqCleaned    please refer to the job description to view th...   \n",
       "\n",
       "                                                              2  \\\n",
       "JobID                                                       450   \n",
       "WindowID                                                      1   \n",
       "Title                                      Customer Service Rep   \n",
       "Description   Customer Service Rep -  Provide Customer Servi...   \n",
       "Requirements  Please refer to the Job Description to view th...   \n",
       "City                                              Coral Springs   \n",
       "State                                                        FL   \n",
       "Country                                                      US   \n",
       "Zip5                                                    33065.0   \n",
       "StartDate                               2012-03-08 01:21:44.497   \n",
       "EndDate                                     2012-04-07 23:59:59   \n",
       "DescCleaned   customer service rep - provide customer servic...   \n",
       "ReqCleaned    please refer to the job description to view th...   \n",
       "\n",
       "                                                              3  \\\n",
       "JobID                                                       458   \n",
       "WindowID                                                      1   \n",
       "Title                                  Administrative Assistant   \n",
       "Description   Administrative Assistant -  In Bus 26yrs Fashi...   \n",
       "Requirements  Please refer to the Job Description to view th...   \n",
       "City                                              Pompano Beach   \n",
       "State                                                        FL   \n",
       "Country                                                      US   \n",
       "Zip5                                                    33069.0   \n",
       "StartDate                                2012-03-10 01:14:03.83   \n",
       "EndDate                                     2012-04-09 23:59:59   \n",
       "DescCleaned   administrative assistant - in bus 26yrs fashio...   \n",
       "ReqCleaned    please refer to the job description to view th...   \n",
       "\n",
       "                                                              4  \n",
       "JobID                                                       460  \n",
       "WindowID                                                      1  \n",
       "Title                                    Data Entry - full time  \n",
       "Description   Data Entry - full time       -                ...  \n",
       "Requirements  Qualified Candidates should have data entry sk...  \n",
       "City                                            Fort Lauderdale  \n",
       "State                                                        FL  \n",
       "Country                                                      US  \n",
       "Zip5                                                    33309.0  \n",
       "StartDate                                 2012-03-11 01:18:58.9  \n",
       "EndDate                                     2012-04-10 23:59:59  \n",
       "DescCleaned   data entry - full time - bi-lingual, eng/span ...  \n",
       "ReqCleaned    qualified candidates should have data entry sk...  "
      ]
     },
     "execution_count": 4,
     "metadata": {},
     "output_type": "execute_result"
    }
   ],
   "source": [
    "jobs.head().transpose()"
   ]
  },
  {
   "cell_type": "markdown",
   "metadata": {},
   "source": [
    "We added the title to the job description column of the data to run the tfidf on it."
   ]
  },
  {
   "cell_type": "code",
   "execution_count": 14,
   "metadata": {},
   "outputs": [],
   "source": [
    "jobs['Title'] = jobs['Title'].fillna('')\n",
    "jobs['DescCleaned'] = jobs['DescCleaned'].fillna('')\n",
    "jobs['DescCleaned'] = jobs['Title'] + ' ' + jobs['DescCleaned']"
   ]
  },
  {
   "cell_type": "markdown",
   "metadata": {},
   "source": [
    "We will be applying TF-IDF on the description column of the dataset."
   ]
  },
  {
   "cell_type": "code",
   "execution_count": 15,
   "metadata": {},
   "outputs": [],
   "source": [
    "from sklearn.feature_extraction.text import TfidfVectorizer, CountVectorizer\n",
    "tf = TfidfVectorizer(analyzer='word',ngram_range=(1, 2),min_df=0.0, stop_words='english')\n",
    "tfidf_matrix = tf.fit_transform(jobs['Description'])"
   ]
  },
  {
   "cell_type": "code",
   "execution_count": 16,
   "metadata": {},
   "outputs": [
    {
     "data": {
      "text/plain": [
       "<6971x332029 sparse matrix of type '<class 'numpy.float64'>'\n",
       "\twith 1328457 stored elements in Compressed Sparse Row format>"
      ]
     },
     "execution_count": 16,
     "metadata": {},
     "output_type": "execute_result"
    }
   ],
   "source": [
    "tfidf_matrix"
   ]
  },
  {
   "cell_type": "code",
   "execution_count": 17,
   "metadata": {},
   "outputs": [],
   "source": [
    "cosine_sim = linear_kernel(tfidf_matrix, tfidf_matrix)"
   ]
  },
  {
   "cell_type": "code",
   "execution_count": 18,
   "metadata": {},
   "outputs": [
    {
     "data": {
      "text/plain": [
       "array([1.        , 0.0652381 , 0.00246659, ..., 0.00964788, 0.01140206,\n",
       "       0.04338644])"
      ]
     },
     "execution_count": 18,
     "metadata": {},
     "output_type": "execute_result"
    }
   ],
   "source": [
    "cosine_sim[0]"
   ]
  },
  {
   "cell_type": "code",
   "execution_count": 19,
   "metadata": {},
   "outputs": [],
   "source": [
    "jobs_US_base_line = jobs.reset_index()\n",
    "titles = jobs_US_base_line['Title']\n",
    "indices = pd.Series(jobs.index, index=jobs['Title'])"
   ]
  },
  {
   "cell_type": "code",
   "execution_count": 20,
   "metadata": {},
   "outputs": [],
   "source": [
    "def get_recommendations(query):\n",
    "    # Calculate the TF-IDF vector representation of the query\n",
    "    query_tfidf = tf.transform([query])\n",
    "\n",
    "    cosine_similarities = linear_kernel(query_tfidf, tfidf_matrix).flatten()\n",
    "\n",
    "    top_similar_indices = cosine_similarities.argsort()[::-1]\n",
    "\n",
    "    # Get the top N closest jobs\n",
    "    N = 10 \n",
    "    top_N_jobs = top_similar_indices[:N]\n",
    "\n",
    "    # Printing those top 10 job's cleaned description\n",
    "    for idx in top_N_jobs:\n",
    "        print(jobs.iloc[idx]['DescCleaned'])\n",
    "        print()\n"
   ]
  },
  {
   "cell_type": "code",
   "execution_count": 22,
   "metadata": {},
   "outputs": [
    {
     "name": "stdout",
     "output_type": "stream",
     "text": [
      "Customer Service Customer Service heavy duty truck parts company looking for customer service rep.  \n",
      "\n",
      "Customer Service Rep Customer Service Rep spring into a fantastic career opportunity! | customer service rep | we are a firm located in a popular cincinnati neighborhood, making it difficult to leave even after the day is done! we feel that welcoming a new customer service rep through our doors will help complete our growing company! experience with customer service will be beneficial for you as our new customer service rep. if you ve always wanted a career helping others, you ll fit right in! we offer a competitive benefits package, even for your family! holidays, vacation, great salary, and more! we're looking to begin interviewing immediately, so apply now and become our newest customer service rep!\n",
      "\n",
      "Customer Service/Sales Customer Service/Salescustomer service rep needed w/citizens & flood experience. bilingual eng/span a must. source - miami herald\n",
      "\n",
      "Customer Service Representative Customer Service Representativecustomer service representative\n",
      "\n",
      "Customer Service Rep Customer Service Repcustomer service rep - provide customer service for podiatry practices. experience in medical supply/bracing preferred., crodriguez@surefitlab.com sf51988 source - south florida sun-sentinel\n",
      "\n",
      "Customer Service Representative Customer Service Representative customer service representative truckload carrier based in nashville tn looking for an experienced customer service rep. will be responsible for all aspects of customer service. booking freight, scheduling, and reporting. will be responsible for handling assigned customers. must be able to work in a fast paced environment. communication skills both verbal and written must be excellent. degree or equivalent experience required.  \n",
      "\n",
      "Customer Service-Call Center Rep - Customer Service-Call Center Rep -this customer service-call center rep position features fun working environment pay up to $12.00 immediate need for customer service-call center rep seeking fun working environment. strong customer service skills and call center experience a strong plus and will be keys to success in this insurance company. will be responsible for answering telephone inquires and promoting the organization's products and services. responsible for researching and solving complaints to ensure customer retention and satisfaction. must also be able to navigate in multiple systems. apply for this great position as a customer service-call center rep today! we are an equal employment opportunity employer.\n",
      "\n",
      "Customer Service-Call Center Rep - Customer Service-Call Center Rep -this customer service-call center rep position features fun working environment pay up to $12.00 immediate need for customer service-call center rep seeking fun working environment. strong customer service skills and call center experience a strong plus and will be keys to success in this insurance company. will be responsible for answering telephone inquires and promoting the organization's products and services. responsible for researching and solving complaints to ensure customer retention and satisfaction. must also be able to navigate in multiple systems. apply for this great position as a customer service-call center rep today! we are an equal employment opportunity employer.\n",
      "\n",
      "Sales / Customer Service Sales / Customer Servicesales / customer svc triangle rent a car sales / customer service rep. $30k+ potential. send resume to jmolina@ trianglerentacar.com. source - charlotte observer\n",
      "\n",
      "Customer Service Rep. Customer Service Rep.customer service customer service rep. santa monica seafood co. customer service rep. of food svc. sales in rancho dominguez, ca. candidates must possess professionalism, dependability. analytical & problem solving skills. ability to manage multiple tasks. strong influence abilities & high level of integrity. computer skills a must-proficient in ms office. excellent written & verbal skills, eye for detail. bi-lingual. exp. working in food industry. minimum job requirements hs diploma or related exp. must be able to work flexible hours-rotating sat. please e-mail resume to mariav@smseafood.com or fax 310 886-1056 los angeles times 2012-03-23 source - los angeles times\n",
      "\n"
     ]
    }
   ],
   "source": [
    "get_recommendations('Customer Service Rep')"
   ]
  },
  {
   "cell_type": "code",
   "execution_count": 23,
   "metadata": {},
   "outputs": [
    {
     "name": "stdout",
     "output_type": "stream",
     "text": [
      "HR Assistant HR Assistantimmediate opening for a human resource assistant\n",
      "\n",
      "Administrative Assistant Administrative Assistantimmediate opening for an administrative assistant. temp-hire administrative position with a large distribution center.\n",
      "\n",
      "Medical Receptionst Medical Receptionstimmediate opening! a successful, busy, baltimore county medical practice has an immediate opening for a medical receptionist you will also be a front desk receptionist. previous experience in the medical field is a prerequisite. coding, charge posting, payment and co-payment collection. accounts receivable experience preferred. working knowledge of insurances, computerized registration, billing and collection procedures. full-time position.\n",
      "\n",
      "Call Center Customer Service Call Center Customer Servicefast paced company in arlington is seeking an ambitious and outgoing call center representative for an immediate opening. this is a full-time temporary position lasting up to a month and is metro accessible.   \n",
      "\n",
      "Lift Truck Operator Lift Truck Operatorwsi services, inc., the premier warehousing and distribution organization in north america, has an immediate opening for a lift truck operator in our lamirada, ca facility.\n",
      "\n",
      "ADMINISTRATIVE ASSISTANT NEEDED ASAP! ADMINISTRATIVE ASSISTANT NEEDED ASAP!well known company has an immediate opening for an administrative assistant who has at least three years experience. must be proficient in word, excel, and outlook! must have excellent communication skills and be able to multi-task in a fast paced environment. looking for someone who is a team player. great working environment. email resume as a word attachment to paris goldfarb. we are an equal employment opportunity employer.\n",
      "\n",
      "ADMINISTRATIVE ASSISTANT NEEDED ASAP! ADMINISTRATIVE ASSISTANT NEEDED ASAP!well known company has an immediate opening for an administrative assistant who has at least three years experience. must be proficient in word, excel, and outlook! must have excellent communication skills and be able to multi-task in a fast paced environment. looking for someone who is a team player. great working environment. email resume as a word attachment to paris goldfarb. we are an equal employment opportunity employer.\n",
      "\n",
      "RECEPTIONIST  needed M-F, 8am-5pm RECEPTIONIST  needed M-F, 8am-5pmreceptionist needed m-f, 8am-5pm. immediate opening. please send resume to resumes.beltone@gmail.com subject line jackson position. source - clarion ledger - jackson, ms\n",
      "\n",
      "Legal/Admin Assistant Legal/Admin Assistantlegal/administrative assistant established estate planning and probate law firm has an immediate opening in the downtown fort worth area for a legal/administrative assistant.    \n",
      "\n",
      "Administrative Associate Administrative Associatejoin a successful team in this accomplished local telecommunications organization . there is an immediate opening for a organized, ambitious administrative assistant. our client is looking for a professional hard working and self motivated individual to support a team of five. in this role you will maintain excel spreadsheets, respond to written correspondence, assist with emails and travel arrangements. call jennifer at ultimate staffing for immediate consideration!            \n",
      "\n"
     ]
    }
   ],
   "source": [
    "get_recommendations('Immediate Opening')"
   ]
  },
  {
   "cell_type": "code",
   "execution_count": 24,
   "metadata": {},
   "outputs": [
    {
     "name": "stdout",
     "output_type": "stream",
     "text": [
      "Human Resources Assistant Human Resources Assistantfirm is seeking a human resources assistant with exceptional skills to join their team. human resources assistant must possess excellent verbal and written communication skills.\n",
      "\n",
      "Human Resources Assistant / Jr Generalist Human Resources Assistant / Jr Generalist human resources assistant / jr. generalist growing trading and technology firm is looking for motivated candidates for an human resources assistant / jr generalist to join our new york based team . this person will report to the head of human resources and will provide support to the hr director and the hr team in multiple areas (benefits, payroll, new hire orientation, training, etc.). you will help to manage and update employee information in a centralized hr database. employment verifications, creating employee files, and answering general questions from employees. collegial atmosphere, great place to learn and be part of a team. jump start your career in human resources with us!     \n",
      "\n",
      "Human Resources Assistant Human Resources Assistantwhether your bracket’s busted or you’ve got perfect picks, this job opportunity will be sure to cure your march madness! due to promotion within the company, our human resources assistant role is open to a professional with 2+ years in a payroll/ hr setting. your role as the human resources assistant for our firm will consist of working from an administrative standpoint. perks include a competitive starting salary, full benefits, and more!!\n",
      "\n",
      "Human Resources Assistant Human Resources Assistantdiamond comic distributors, inc. location olive branch, mississippi date march, 2012 position title human resources assistant dept human resources position summary the human resources assistant will work in the olive branch distribution center, while reporting to the human resources director at the home office in timonium, maryland. the human resources assistant will be responsible for assisting the human resources department at the home office with administrative duties. essential functions act as the human resources liaison interact with the temporary agency for temporary employees conduct job interviews conduct new hire orientations communicate with employees on individual employee related issues (court mandated support orders, social security issues, etc). communicate with the human resources assistant at the home office the status of those discussions. train new employees on the time clock handle time clock related issues conduct exit interviews on individuals who resign their position from the company for employees who resign, make sure to get a resignation letter assist in the annual insurance enrollment process inform new hires of their eligibility to enroll in company benefits assist new hires with the automated insurance enrollment process communicate with the human resources supervisor the progress of the insurance enrollment activity interact with family medical leave act (fmla) related issues – coordinate with human resources at the home office   \n",
      "\n",
      "Human Resources Assistant/Recruiter Human Resources Assistant/Recruiterif you like a fast-paced environment in a rapidly growing company, then we have an opening for you. cardiovascular consultants offers a comprehensive benefits package including medical, dental, vision, 401k and a great personal time off plan. the human resources assistant/recruiter will be expected to provide full administrative support to the human resources department. works closely with the hr team to provide primary clerical support & assist with projects as assigned. the ideal candidate will be a multi-faceted individual who wants to work in a challenging, fast-paced, team oriented environment. the human resources assistant/recruiter will be in charge of recruiting on a daily basis. the hr assistant/recruiter will review and call on potential candidates to prescreen them for any openings that may become available within our company. good phone etiquette is a must for this position due to the high volume of phone calls that come in and and go out of the department.\n",
      "\n",
      "Human Resources Assistant Human Resources Assistanthuman resources assistant seeking an individual to provide clerical support to the human resources director. minimum 5 years experience in human resources in a supporting role required. must be detail oriented. possess excellent computer skills, communication skills, organizational skills, and must be able to handle multiple tasks. email your resume with salary requirements to croberts@henwebb.com. eoe\n",
      "\n",
      "Benefits/Human Resources Assistant Benefits/Human Resources Assistantour human resources department is looking for a entry level client-focused individual to assist the human resources and payroll departments. the benefits/human resources assistant will be exposed to many facets of hr and payroll field and will interact with employees at all levels of the organization. in addition, the benefits/human resources assistant will provide administrative support and depending on skill level handle other tasks such as benefit administration, 401k administration, recruiting and pre-employment, and hris. general responsibilities include entering data and running reports using microsoft excel and company databases assisting with recruitment by posting ads, conducting reference checks, and scheduling interviews answering and directing phone calls opening and sorting mail keeping accurate filing system for documents assist in benefit administration assist in 401k administration assist in payroll processing  \n",
      "\n",
      "Human Resources Assistant/Receptionist Human Resources Assistant/Receptionist human resources assistant/receptionist leisure hotels and resorts, a hotel management company headquartered in leawood, kansas with properties in 7 states is seeking a human resources assistant/receptionist for the corporate office. the ideal candidate must have previous experience in hr administrative support to include but not limited to payroll processing, benefit administration, hr policies and procedures and safety program administration. good working knowledge of excel, microsoft word, and power point are required. interested candidates please fax cover letter and resume, inclusive of salary requirements to (913)-499-4755. or send information to attention riochelle fitzpatrick, corporate vice president human resources rfitzpatrick@leisurehotel.com.        \n",
      "\n",
      "HR Assistant HR Assistant| hr assistant | due to promotion within the company, our human resources assistant role is open to a professional with 2+ years in a payroll/ hr setting. your role as the human resources assistant for our firm will consist of working from an administrative standpoint. are you looking for a career with purpose and a high level of importance with a company? this key role is perfectly suited for the professional who desires a lot of responsibility and who can work directly for the person at the top of the ladder! perks include a competitive starting salary, full benefits, and more!! we re looking to interview immediately, so apply now!\n",
      "\n",
      "Human Resources Assistant/Coordinator Human Resources Assistant/Coordinatorbecker & poliakoff, a mid-sized law firm is seeking a human resources assistant/coordinator to support the hr department. the human resources assistant assists with the administration of the day-to-day operations of the human resources functions and duties. the hr assistant carries out responsibilities in some or all of the following functional areas hris, employee relations, training and development, benefits, and payroll. the hr assistant has partial responsibility for these areas assist with employee orientation, training logistics and recordkeeping assist with time and attendance system assisting with payroll process and serve as back-up support assist with pre-screening recruitment process and staffing logistics assist with firm wide employee communications research projects as assigned assisting with benefits administration and recordkeeping provide hr related employee services maintaining employee files and the hr filing system for current and termed employees assisting with the day-to-day efficient operation of the hr office. the human resources assistant helps with the implementation of services, policies, and programs through hr staff reports to the hr director, and assists company managers with hr issues.  \n",
      "\n"
     ]
    }
   ],
   "source": [
    "get_recommendations('P/T HUMAN RESOURCES ASSISTANT')"
   ]
  },
  {
   "cell_type": "code",
   "execution_count": 25,
   "metadata": {},
   "outputs": [
    {
     "name": "stdout",
     "output_type": "stream",
     "text": [
      "Office Administration Part Time - Philadelphia Office Administration Part Time - Philadelphiathe office administration position will require daily interactions with dock workers, tractor trailer drivers, delivery drivers, and customers. strong communication and organizational skills are a must. 1-2 years experience in transportation industry is preferred. this position is for second shift operating between 6 00pm and 2 00am. must have own transportation. job responsibilities receiving and responding to customers regarding international and domestic shipments preparing customs documentation communication of arrival information to customers basic data entry filing of paperwork preparing paperwork for departing loads proactively communicates with customers and resolves issues receive and enter shipments tendered through fax, e-mail, and edi in timely manner  \n",
      "\n",
      "Administrative Management Specialist Administrative Management Specialist administrative management specialist truckway leasing and rental, a regional leader in tractor/trailer leasing and rentals has a challenging opportunity for an administrative management specialist. the ideal candidate will have the following experience with special projects. experience in analyzing work flow and developing and writing the associated office procedures to support that workflow. versatility and adaptability in functioning in a back-up roll for other positions for which trained, i.e., payroll, fuel reports, etc.. extreme attention to detail, the ability to handle multiple tasks and meet established deadlines. excellent computer skills with a substantive understanding of, and experience with, ms word and ms excel. if you fit this description we think we have a career opportunity for you. we offer a secure future, competitive compensation and an excellent benefits package including medical, dental, life & ad, fsa, dependent care fsa, 401k with generous company match and paid vacation. for consideration send cover letter, resume and salary requirement (mandatory) to darnold@truckwayleasing \n",
      "\n",
      "2nd and 3rd Shift Logistics Customer Service Representative 2nd and 3rd Shift Logistics Customer Service Representative romark logistics is looking for a 2nd and 3rd shift logistics customer service representative qualified candidates will possess skills such as • excellent communication skills • attention to detail • workload analysis • working knowledge of transportation software • ability to make good decisions making customer service representative will receive the bol for inbound trailers from the carrier’s driver. “arrive\" the trailer by entering related information, such as the trailer number and bill number from the bol into the marc system. track the arrival times of trailers by entering data into an excel spreadsheet. print lp’s (license plate) and attach to inbound documentation. stage bol for pickup by warehouse associate to receive and unload the trailer. once trailer has been unloaded, receive processed documentation from warehouse associate. “depart\" the trailer by entering related information into marc system. enter all related os information into ccms. work with shift management to ensure all “do’s\" are completed within 24 hours or earlier. receive outbound instruction sheets from shift management ensure required empty trailers are available and staged at dock door and updated in marc system. ensure that all outbound documentation is complete and accurate. (i.e. approval signatures, quantities match) print and complete the bol to prepare for pickup. provide outbound paperwork to carrier driver based upon scheduled pickup appointment. responsible to follow good housekeeping rules to maintain a safe and clean working environment. ability to work independently while meeting quality and productivity standards.       \n",
      "\n",
      "driver driverdriver - driver needed for healthcare facility, 954-491-2133 sf55340 source - south florida sun-sentinel\n",
      "\n",
      "Driver and Warehouse Driver and Warehousewe are hiring for a class a cdl truck driver to make local deliveries in company truck and 53' curtain-side trailer. desired employee will spend approximately half the time driving and the other half working in the warehouse. warehouse duties include loading/unloading trucks and pulling orders. source - fort worth star telegram\n",
      "\n",
      "Driver Payroll Coordinator Driver Payroll Coordinatorlooking to expand your payroll knowledge and experience with a team that promotes training and advancement from within? then the celadon driver payroll department may be the right fit for you! we are seeking candidates with previous transportation industry payroll experience to join our winning team. the daily duties will include, but are not limited to daily assistance and support of driver payroll division to complete timely and accurate driver payroll. provide internal customer service to drivers, fielding calls, answering questions concerning vacation, longevity, bonuses, rates of pay etc. mail out driver settlement sheets, retaining a copy for their file. process vacation pay requests and disbursal other duties as assigned.  \n",
      "\n",
      "Driver Services Admin - $15 Driver Services Admin - $15carrollton logistics company is in need of a driver services admin. this position will require a great administrative skill set. someone with account management experience would work great for this position. we prefer someone with dot experience, ability to create, maintain and edit excel spreadsheets, work on driver logs, delivery information and support all basic operations of the department. you will be reporting directly to the driver services manager. must be a team player and be able to communicate with clients and vendors along with drive team. extreme multi tasking. to apply to this position please send a copy of your resume as a word document. we are an equal employment opportunity employer.\n",
      "\n",
      "Drivers and Warehouse Workers Wanted - 45014 Drivers and Warehouse Workers Wanted - 45014bakemark usa drivers and warehouse workers wanted cincinnati, oh bakemark, a leading manufacturer distributor of fine bakery food ingredients, is looking for talented people that have a desire for and commitment to success. we foster individual growth, reward performance and offer a competitive benefits package. we re currently seeking drivers and warehouse workers to add to our high performing distribution team at our cincinnati branch location. driver requirement qualifications successful candidates will meet the following education and experience requirements high school diploma or general education degree (ged) 1 to 3 years verifiable related experience and/or training or equivalent combination of education and experience. must be conscientious, courteous and customer service oriented towards both external and internal customers. must have a class a cdl commercial license and a clean driving record. at least one year tractor/trailer exp. must lift up to 100 lbs regularly. food/dairy/beverage manufacturing environment a plus. base pay $17.46 per hour warehouse worker requirement qualifications requirements shipping and receiving activities including stocking and sanitation. selection and preparation of customer orders in a manner that insures complete fulfillment of each customer order. accurate receipt and documentation for inbound product. affixes pallet tags and marks materials with other identifying information upon receipt. conveys products and materials from receiving areas to storage or other designated areas. places items on racks, shelves or bins according to predetermined slot assignments. rotates stock to enable oldest stock to be most accessible for picking. reads pick tickets (or on screen display, etc.), assembles customer orders from stock and places orders on pallets. loads trailers with merchandise scheduled to be shipped. highly motivated. independent thinker. accountable for performance. high school diploma or general education degree (ged) two to four years warehouse experience material handling certification food/dairy/beverage manufacturing environment a plus. possession of a cdl license a big plus base pay $14.87 per hour we offer compensation and benefits (medical, dental, vision) and a 401(k) plan are just some of the benefits offered. for consideration, email your resume in ms word 2003 format to hiring@bakemarkusa.com or fax to (513) 870-6094. please be sure to include driver -450147 warehouse worker -450147-1 in the subject of all emails. only candidates meeting the specified requirements will receive a response. no recruiters please=local candidates only=eoe\n",
      "\n",
      "Drivers and Warehouse Workers Wanted Drivers and Warehouse Workers Wantedbakemark usa drivers and warehouse workers wanted cincinnati, oh bakemark, a leading manufacturer & distributor of fine bakery & food ingredients, is looking for talented people that have a desire for and commitment to success. we foster individual growth, reward performance and offer a competitive benefits package. we’re currently seeking drivers and warehouse workers to add to our high performing distribution team at our cincinnati branch location. driver requirement & qualifications successful candidates will meet the following education and experience requirements high school diploma or general education degree (ged) 1 to 3 years verifiable related experience and/or training or equivalent combination of education and experience. must be conscientious, courteous and customer service oriented towards both external and internal customers. must have a class a cdl commercial license and a clean driving record. at least one year tractor/trailer exp. must lift up to 100 lbs regularly. food/dairy/beverage manufacturing environment a plus. **some overnight runs **home for the weekends successful driver candidates hired on with the company will be eligible for a *driver sign-on bonus. (*subject to terms and conditions per busa policy) hourly rate up to $20.46 per hour please be sure to include “driver -450147\" in the subject of all emails warehouse worker requirement & qualifications requirements shipping and receiving activities including stocking and sanitation. selection and preparation of customer orders in a manner that insures complete fulfillment of each customer order. accurate receipt and documentation for inbound product. affixes pallet tags and marks materials with other identifying information upon receipt. conveys products and materials from receiving areas to storage or other designated areas. places items on racks, shelves or bins according to predetermined slot assignments. rotates stock to enable oldest stock to be most accessible for picking. reads pick tickets (or on screen display, etc.), assembles customer orders from stock and places orders on pallets. loads trailers with merchandise scheduled to be shipped. highly motivated. independent thinker. accountable for performance. high school diploma or general education degree (ged) two to four years warehouse experience material handling certification food/dairy/beverage manufacturing environment a plus. possession of a cdl license a big plus hourly rate up to $15.62 per hour please be sure to include “warehouse worker -450147-1\" in the subject of all emails we offer compensation and benefits (medical, dental, vision) and a 401(k) plan are just some of the benefits offered. for consideration, email your resume in ms word 2003 format to hiring@bakemarkusa.com or apply in person during the hours of 8 00a.m to 2 00pm at 9401 le saint drive fairfield oh, 45014. only candidates meeting the specified requirements will receive a response. no recruiters please=local candidates only=eoe\n",
      "\n",
      "Driver / Warehouse Driver / Warehouse driver / warehouse phoenix, az fax 602-484-8858 geary pacific supply hvac distributor looking for shipping/ receiving /driver /warehouse person. must have transportation and valid drivers license. no phone calls please. source - arizona republic - phoenix, az\n",
      "\n"
     ]
    }
   ],
   "source": [
    "get_recommendations('TRACTOR TRAILER DRIVER')"
   ]
  },
  {
   "cell_type": "code",
   "execution_count": null,
   "metadata": {},
   "outputs": [],
   "source": []
  }
 ],
 "metadata": {
  "kernelspec": {
   "display_name": "Python 3",
   "language": "python",
   "name": "python3"
  },
  "language_info": {
   "codemirror_mode": {
    "name": "ipython",
    "version": 3
   },
   "file_extension": ".py",
   "mimetype": "text/x-python",
   "name": "python",
   "nbconvert_exporter": "python",
   "pygments_lexer": "ipython3",
   "version": "3.9.6"
  },
  "orig_nbformat": 4
 },
 "nbformat": 4,
 "nbformat_minor": 2
}
